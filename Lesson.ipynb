{
 "cells": [
  {
   "cell_type": "markdown",
   "id": "ae46a534-3fb2-431b-9a2e-aced08023ac0",
   "metadata": {},
   "source": [
    "## Web APIs - The Alternative to Scraping"
   ]
  },
  {
   "cell_type": "markdown",
   "id": "2a5393a0-6934-4189-8d87-090f7feea125",
   "metadata": {},
   "source": [
    "Web scraping doesn't always work. Many modern websites are built in a way that makes it particularly hard to scrape. They may do one of the following:\n",
    "\n",
    "- Incorporate \"infinite scrolling\", so that the page that is loaded is not the same as the content you want to scrape\n",
    "- Block scraping through bot detection\n",
    "- Have a website sufficiently complex that scraping is too hard to implement\n",
    "\n",
    "Why would websites actively discourage or even make scraping impossible? For the most part, we can imagine websites as a storefront. The website is designed to provide some good or service in exchange for either money (through purchases) or in exchange for the consumption of advertisements or other forms of compensation. Although these \"storefronts\" are online, they are not costless. \n",
    "\n",
    "Every time a website is requested, the server must send that information to the person/computer/bot that has requested it. This might be very cheap for a single request, but these costs add up when hundreds, thousands, or even millions of requests must be processed. When we scrape a website, we are in essence trying to collect a good (data) without compensating the group who maintains the website. For this reason, many websites will seek to block web scraping whenever they detect it, and will include a statement to this effect in their terms of service.\n",
    "\n",
    "In cases where scraping is not feasible for one reason or another, we will need an alternative way to collect data. Web APIs will be our key to data collection in these situations.\n"
   ]
  },
  {
   "cell_type": "markdown",
   "id": "23fbaebd-86ae-4280-85d3-103a06e42686",
   "metadata": {},
   "source": [
    "## What are web APIs?\n",
    "\n",
    "The acronym **API** stands for **Application Programming Interface**, and is the name for the way in which a program or user may communicate with another program. Using an API enables the creation of explicit mechanisms for input and output of data.\n",
    "\n",
    "A **web API** is simply the API that allows users and programs to interact with a website or web service, so that we can automate or streamline online interactions. APIs are used for the following (and much more!):\n",
    "\n",
    "- 3rd party social media apps\n",
    "- Map interfaces on business websites\n",
    "- Data collection\n",
    "\n",
    "\n",
    "### Comparing APIs to Scraping\n",
    "\n",
    "When using a web API, our process is very different than when we scrape. As discussed earlier, scraping typically occurs at the expense of the service provider, making many websites averse to allowing scraping to take place. On the other hand, when using an API, there is an explicit agreement between the provider of data and the consumer. In many cases, APIs cost money to use, and are designed to compensate the service provider in a transaction reflecting the fact that the consumer no longer seeks to buy a good/service on the website or view advertisements. Instead, the data being transferred is the product to be consumed.\n",
    "\n",
    "While we will use a free and open API to learn during this class, bear in mind that many (if not most) APIs will require the user to register before making requests, and may also require payment. This arrangement allows both users and providers to benefit from the exchange of data.\n"
   ]
  },
  {
   "cell_type": "markdown",
   "id": "77c5c1ae-1764-4b51-bd36-5f5a3ce156cc",
   "metadata": {},
   "source": [
    "## Using a web API\n",
    "\n",
    "To learn about using web APIs, we will experiment with the free location API provided by [zippopotam.us](http://www.zippopotam.us/). We will learn the basics of API use with the simple examples that can be implemented through the Zippopotamus API, and hopefully make some fun graphs while we are at it!\n",
    "\n",
    "Most web APIs are accessed through the use of a URL, just like any other website. We then use the various extensions of the URL to make a request for an API call, rather than to request a specific website. Let's give this a try with the `requests` library, and see what we get back as we request various URLs from Zippopotamus:"
   ]
  },
  {
   "cell_type": "code",
   "execution_count": null,
   "id": "46fe937a-474d-40e8-8a46-f63f73fa00dd",
   "metadata": {},
   "outputs": [],
   "source": [
    "import requests\n",
    "\n",
    "requests.get(\"https://api.zippopotam.us/us/68022\").text"
   ]
  },
  {
   "cell_type": "markdown",
   "id": "107b08c6-3ae5-4cfb-98aa-e253d5068529",
   "metadata": {},
   "source": [
    "    '{\"post code\": \"68022\", \"country\": \"United States\", \"country abbreviation\": \"US\", \"places\": [{\"place name\": \"Elkhorn\", \"longitude\": \"-96.2431\", \"state\": \"Nebraska\", \"state abbreviation\": \"NE\", \"latitude\": \"41.2756\"}]}'"
   ]
  },
  {
   "cell_type": "markdown",
   "id": "bdb7f50b-427c-42b5-a43e-566b2cc0823b",
   "metadata": {},
   "source": [
    "Cool! We got some random stuff when we requested a random page from Zippopotamus... What is this? Let's break down our URL to learn more about what is going on:\n",
    "\n",
    " - `https://api.zippopotam.us` is the URL that we will always call when making requests to or from Zippopotamus\n",
    " - `/us` tells Zippopotamus that the location we are referencing is in the United States\n",
    " - `/68022` is the postal code for which we want to extract information from Zippopotamus\n",
    " \n",
    "The data that we receive back from our request is information about the postal code that we want to examine. Before we start learning how to work with our results, let's try another API call:"
   ]
  },
  {
   "cell_type": "markdown",
   "id": "04922d3f-5031-4014-8d45-c5890a32fc14",
   "metadata": {},
   "source": [
    "requests.get(\"https://api.zippopotam.us/us/wa/redmond\").text"
   ]
  },
  {
   "cell_type": "markdown",
   "id": "d01a5dfa-49ee-4835-a3d6-c5e5992a7139",
   "metadata": {},
   "source": [
    "    '{\"country abbreviation\": \"US\", \"places\": [{\"place name\": \"Redmond\", \"longitude\": \"-122.1232\", \"post code\": \"98052\", \"latitude\": \"47.6718\"}, {\"place name\": \"Redmond\", \"longitude\": \"-122.0386\", \"post code\": \"98053\", \"latitude\": \"47.6462\"}, {\"place name\": \"Redmond\", \"longitude\": \"-121.8034\", \"post code\": \"98073\", \"latitude\": \"47.4323\"}], \"country\": \"United States\", \"place name\": \"Redmond\", \"state\": \"Washington\", \"state abbreviation\": \"WA\"}'\n",
    "\n",
    "\n",
    "\n",
    "In this new request, we have the following:\n",
    "\n",
    "- `https://api.zippopotam.us` is the URL that we will always call when making requests to or from Zippopotamus\n",
    "- `/us` tells Zippopotamus that the location we are referencing is in the United States\n",
    "- `/wa` tells Zippopotamus that the location is in Washington state\n",
    "- `/redmond` is the city for which we would like to extract information\n",
    "\n",
    "As might be evident from the differences between the two requests we have made, many APIs are able to access different kinds of information depending on the different requests that we make. We can find information on the city in which a postal code is located, or we can find postal codes within a city of interest! This will allow us to make requests that will generate a map of places that I have lived during my life. Let's try it out."
   ]
  },
  {
   "cell_type": "code",
   "execution_count": 3,
   "id": "03c15d92-7c94-4b38-9ee8-5e595353086f",
   "metadata": {},
   "outputs": [],
   "source": [
    "livedThere = [\n",
    "    {\"country\": \"/us\", \"postal_code\": \"/92056\"},\n",
    "    {\"country\": \"/us\", \"postal_code\": \"/98052\"},\n",
    "    {\"country\": \"/us\", \"postal_code\": \"/84602\"},\n",
    "    {\"country\": \"/br\", \"postal_code\": \"/96225-000\"},\n",
    "    {\"country\": \"/br\", \"postal_code\": \"/96600-000\"},\n",
    "    {\"country\": \"/us\", \"postal_code\": \"/99163\"},\n",
    "    {\"country\": \"/us\", \"postal_code\": \"/68022\"},\n",
    "    {\"country\": \"/us\", \"postal_code\": \"/84102\"},\n",
    "]"
   ]
  },
  {
   "cell_type": "markdown",
   "id": "986d91f3-cd63-4dcc-acdb-b0656a169619",
   "metadata": {},
   "source": [
    "The cell above contains a list of dictionaries. I will iterate over this list to create my API calls:"
   ]
  },
  {
   "cell_type": "code",
   "execution_count": 4,
   "id": "8df503a9-dbad-43c2-ba76-b39fb64ec383",
   "metadata": {},
   "outputs": [
    {
     "name": "stdout",
     "output_type": "stream",
     "text": [
      "https://api.zippopotam.us/us/92056\n",
      "https://api.zippopotam.us/us/98052\n",
      "https://api.zippopotam.us/us/84602\n",
      "https://api.zippopotam.us/br/96225-000\n",
      "https://api.zippopotam.us/br/96600-000\n",
      "https://api.zippopotam.us/us/99163\n",
      "https://api.zippopotam.us/us/68022\n",
      "https://api.zippopotam.us/us/84102\n"
     ]
    }
   ],
   "source": [
    "for i in livedThere:\n",
    "    call = \"https://api.zippopotam.us{0}{1}\".format(i[\"country\"],i[\"postal_code\"])\n",
    "    print(call)"
   ]
  },
  {
   "cell_type": "markdown",
   "id": "054691ba-437e-443e-8b06-a123b9bfb9dd",
   "metadata": {},
   "source": [
    "    https://api.zippopotam.us/us/92056\n",
    "    https://api.zippopotam.us/us/98052\n",
    "    https://api.zippopotam.us/us/84602\n",
    "    https://api.zippopotam.us/br/96225-000\n",
    "    https://api.zippopotam.us/br/96600-000\n",
    "    https://api.zippopotam.us/us/99163\n",
    "    https://api.zippopotam.us/us/68022\n",
    "    https://api.zippopotam.us/us/84102\n",
    "\n",
    "\n",
    "The above code combines my country codes for each location with the postal code and the base-URL to provide my API call. Now it is time to write some code to retrieve each request and store the results in a new list:"
   ]
  },
  {
   "cell_type": "code",
   "execution_count": 5,
   "id": "da4d6a90-afef-45a0-b031-1f69a75c24f5",
   "metadata": {},
   "outputs": [
    {
     "data": {
      "text/plain": [
       "['{\"post code\": \"92056\", \"country\": \"United States\", \"country abbreviation\": \"US\", \"places\": [{\"place name\": \"Oceanside\", \"longitude\": \"-117.2831\", \"state\": \"California\", \"state abbreviation\": \"CA\", \"latitude\": \"33.1968\"}]}',\n",
       " '{\"post code\": \"98052\", \"country\": \"United States\", \"country abbreviation\": \"US\", \"places\": [{\"place name\": \"Redmond\", \"longitude\": \"-122.1232\", \"state\": \"Washington\", \"state abbreviation\": \"WA\", \"latitude\": \"47.6718\"}]}',\n",
       " '{\"post code\": \"84602\", \"country\": \"United States\", \"country abbreviation\": \"US\", \"places\": [{\"place name\": \"Provo\", \"longitude\": \"-111.7325\", \"state\": \"Utah\", \"state abbreviation\": \"UT\", \"latitude\": \"40.3563\"}]}',\n",
       " '{\"post code\": \"96225-000\", \"country\": \"Brazil\", \"country abbreviation\": \"BR\", \"places\": [{\"place name\": \"S\\\\u00e3o Jos\\\\u00e9 do Norte\", \"longitude\": \"-51.762\", \"state\": \"Rio Grande do Sul\", \"state abbreviation\": \"23\", \"latitude\": \"-31.8009\"}]}',\n",
       " '{\"post code\": \"96600-000\", \"country\": \"Brazil\", \"country abbreviation\": \"BR\", \"places\": [{\"place name\": \"Cangu\\\\u00e7u\", \"longitude\": \"-52.6682\", \"state\": \"Rio Grande do Sul\", \"state abbreviation\": \"23\", \"latitude\": \"-31.2117\"}]}',\n",
       " '{\"post code\": \"99163\", \"country\": \"United States\", \"country abbreviation\": \"US\", \"places\": [{\"place name\": \"Pullman\", \"longitude\": \"-117.1729\", \"state\": \"Washington\", \"state abbreviation\": \"WA\", \"latitude\": \"46.7352\"}]}',\n",
       " '{\"post code\": \"68022\", \"country\": \"United States\", \"country abbreviation\": \"US\", \"places\": [{\"place name\": \"Elkhorn\", \"longitude\": \"-96.2431\", \"state\": \"Nebraska\", \"state abbreviation\": \"NE\", \"latitude\": \"41.2756\"}]}',\n",
       " '{\"post code\": \"84102\", \"country\": \"United States\", \"country abbreviation\": \"US\", \"places\": [{\"place name\": \"Salt Lake City\", \"longitude\": \"-111.8627\", \"state\": \"Utah\", \"state abbreviation\": \"UT\", \"latitude\": \"40.76\"}]}']"
      ]
     },
     "execution_count": null,
     "metadata": {},
     "output_type": "execute_result"
    }
   ],
   "source": [
    "locales = []\n",
    "\n",
    "for i in livedThere:\n",
    "    call = \"https://api.zippopotam.us{0}{1}\".format(i[\"country\"],i[\"postal_code\"])\n",
    "    locales.append(requests.get(call).text)\n",
    "    \n",
    "locales"
   ]
  },
  {
   "cell_type": "markdown",
   "id": "41cf6d1b-5b6b-4ed2-bc43-abc4a516e10b",
   "metadata": {},
   "source": [
    "    ['{\"post code\": \"92056\", \"country\": \"United States\", \"country abbreviation\": \"US\", \"places\": [{\"place name\": \"Oceanside\", \"longitude\": \"-117.2831\", \"state\": \"California\", \"state abbreviation\": \"CA\", \"latitude\": \"33.1968\"}]}',\n",
    "     '{\"post code\": \"98052\", \"country\": \"United States\", \"country abbreviation\": \"US\", \"places\": [{\"place name\": \"Redmond\", \"longitude\": \"-122.1232\", \"state\": \"Washington\", \"state abbreviation\": \"WA\", \"latitude\": \"47.6718\"}]}',\n",
    "     '{\"post code\": \"84602\", \"country\": \"United States\", \"country abbreviation\": \"US\", \"places\": [{\"place name\": \"Provo\", \"longitude\": \"-111.7325\", \"state\": \"Utah\", \"state abbreviation\": \"UT\", \"latitude\": \"40.3563\"}]}',\n",
    "     '{\"post code\": \"96225-000\", \"country\": \"Brazil\", \"country abbreviation\": \"BR\", \"places\": [{\"place name\": \"S\\\\u00e3o Jos\\\\u00e9 do Norte\", \"longitude\": \"-51.762\", \"state\": \"Rio Grande do Sul\", \"state abbreviation\": \"23\", \"latitude\": \"-31.8009\"}]}',\n",
    "     '{\"post code\": \"96600-000\", \"country\": \"Brazil\", \"country abbreviation\": \"BR\", \"places\": [{\"place name\": \"Cangu\\\\u00e7u\", \"longitude\": \"-52.6682\", \"state\": \"Rio Grande do Sul\", \"state abbreviation\": \"23\", \"latitude\": \"-31.2117\"}]}',\n",
    "     '{\"post code\": \"99163\", \"country\": \"United States\", \"country abbreviation\": \"US\", \"places\": [{\"place name\": \"Pullman\", \"longitude\": \"-117.1729\", \"state\": \"Washington\", \"state abbreviation\": \"WA\", \"latitude\": \"46.7352\"}]}',\n",
    "     '{\"post code\": \"68022\", \"country\": \"United States\", \"country abbreviation\": \"US\", \"places\": [{\"place name\": \"Elkhorn\", \"longitude\": \"-96.2431\", \"state\": \"Nebraska\", \"state abbreviation\": \"NE\", \"latitude\": \"41.2756\"}]}',\n",
    "     '{\"post code\": \"84102\", \"country\": \"United States\", \"country abbreviation\": \"US\", \"places\": [{\"place name\": \"Salt Lake City\", \"longitude\": \"-111.8627\", \"state\": \"Utah\", \"state abbreviation\": \"UT\", \"latitude\": \"40.76\"}]}']\n",
    "\n",
    "\n",
    "\n",
    "Awesome! We have the results! Except, they are really garbled....now we need to take these results and clean them up into a useable format. Let's figure out how."
   ]
  },
  {
   "cell_type": "markdown",
   "id": "aedce013-e281-4f9d-8166-c2f4de568f13",
   "metadata": {},
   "source": [
    "## Processing `requests` results\n",
    "\n",
    "Each response from a web API will typically be returned in a **JSON** object. **JSON** stands for **Java Script Object Notation**, and is the standard format for transmitting information on the internet. While this may sound confusing, JSON is actually very easy for us to handle in Python, because it is structured EXACTLY like a Python dictionary. All we need is a way to take a JSON object and translate it into an official `dict` object.\n",
    "\n",
    "Lucky for us, the `json` library (built right into Python itself!) will make this an easy exercise."
   ]
  },
  {
   "cell_type": "code",
   "execution_count": 6,
   "id": "203ef0b1-794d-49f5-9638-b0add95b9f00",
   "metadata": {},
   "outputs": [
    {
     "data": {
      "text/plain": [
       "[{'post code': '92056',\n",
       "  'country': 'United States',\n",
       "  'country abbreviation': 'US',\n",
       "  'places': [{'place name': 'Oceanside',\n",
       "    'longitude': '-117.2831',\n",
       "    'state': 'California',\n",
       "    'state abbreviation': 'CA',\n",
       "    'latitude': '33.1968'}]},\n",
       " {'post code': '98052',\n",
       "  'country': 'United States',\n",
       "  'country abbreviation': 'US',\n",
       "  'places': [{'place name': 'Redmond',\n",
       "    'longitude': '-122.1232',\n",
       "    'state': 'Washington',\n",
       "    'state abbreviation': 'WA',\n",
       "    'latitude': '47.6718'}]},\n",
       " {'post code': '84602',\n",
       "  'country': 'United States',\n",
       "  'country abbreviation': 'US',\n",
       "  'places': [{'place name': 'Provo',\n",
       "    'longitude': '-111.7325',\n",
       "    'state': 'Utah',\n",
       "    'state abbreviation': 'UT',\n",
       "    'latitude': '40.3563'}]},\n",
       " {'post code': '96225-000',\n",
       "  'country': 'Brazil',\n",
       "  'country abbreviation': 'BR',\n",
       "  'places': [{'place name': 'São José do Norte',\n",
       "    'longitude': '-51.762',\n",
       "    'state': 'Rio Grande do Sul',\n",
       "    'state abbreviation': '23',\n",
       "    'latitude': '-31.8009'}]},\n",
       " {'post code': '96600-000',\n",
       "  'country': 'Brazil',\n",
       "  'country abbreviation': 'BR',\n",
       "  'places': [{'place name': 'Canguçu',\n",
       "    'longitude': '-52.6682',\n",
       "    'state': 'Rio Grande do Sul',\n",
       "    'state abbreviation': '23',\n",
       "    'latitude': '-31.2117'}]},\n",
       " {'post code': '99163',\n",
       "  'country': 'United States',\n",
       "  'country abbreviation': 'US',\n",
       "  'places': [{'place name': 'Pullman',\n",
       "    'longitude': '-117.1729',\n",
       "    'state': 'Washington',\n",
       "    'state abbreviation': 'WA',\n",
       "    'latitude': '46.7352'}]},\n",
       " {'post code': '68022',\n",
       "  'country': 'United States',\n",
       "  'country abbreviation': 'US',\n",
       "  'places': [{'place name': 'Elkhorn',\n",
       "    'longitude': '-96.2431',\n",
       "    'state': 'Nebraska',\n",
       "    'state abbreviation': 'NE',\n",
       "    'latitude': '41.2756'}]},\n",
       " {'post code': '84102',\n",
       "  'country': 'United States',\n",
       "  'country abbreviation': 'US',\n",
       "  'places': [{'place name': 'Salt Lake City',\n",
       "    'longitude': '-111.8627',\n",
       "    'state': 'Utah',\n",
       "    'state abbreviation': 'UT',\n",
       "    'latitude': '40.76'}]}]"
      ]
     },
     "execution_count": null,
     "metadata": {},
     "output_type": "execute_result"
    }
   ],
   "source": [
    "import json\n",
    "\n",
    "locales = [json.loads(i) for i in locales]\n",
    "\n",
    "locales"
   ]
  },
  {
   "cell_type": "markdown",
   "id": "64c1b15a-db6e-47e7-abbd-da78c543aa7f",
   "metadata": {},
   "source": [
    "    [{'post code': '92056',\n",
    "      'country': 'United States',\n",
    "      'country abbreviation': 'US',\n",
    "      'places': [{'place name': 'Oceanside',\n",
    "        'longitude': '-117.2831',\n",
    "        'state': 'California',\n",
    "        'state abbreviation': 'CA',\n",
    "        'latitude': '33.1968'}]},\n",
    "     {'post code': '98052',\n",
    "      'country': 'United States',\n",
    "      'country abbreviation': 'US',\n",
    "      'places': [{'place name': 'Redmond',\n",
    "        'longitude': '-122.1232',\n",
    "        'state': 'Washington',\n",
    "        'state abbreviation': 'WA',\n",
    "        'latitude': '47.6718'}]},\n",
    "     {'post code': '84602',\n",
    "      'country': 'United States',\n",
    "      'country abbreviation': 'US',\n",
    "      'places': [{'place name': 'Provo',\n",
    "        'longitude': '-111.7325',\n",
    "        'state': 'Utah',\n",
    "        'state abbreviation': 'UT',\n",
    "        'latitude': '40.3563'}]},\n",
    "     {'post code': '96225-000',\n",
    "      'country': 'Brazil',\n",
    "      'country abbreviation': 'BR',\n",
    "      'places': [{'place name': 'São José do Norte',\n",
    "        'longitude': '-51.762',\n",
    "        'state': 'Rio Grande do Sul',\n",
    "        'state abbreviation': '23',\n",
    "        'latitude': '-31.8009'}]},\n",
    "     {'post code': '96600-000',\n",
    "      'country': 'Brazil',\n",
    "      'country abbreviation': 'BR',\n",
    "      'places': [{'place name': 'Canguçu',\n",
    "        'longitude': '-52.6682',\n",
    "        'state': 'Rio Grande do Sul',\n",
    "        'state abbreviation': '23',\n",
    "        'latitude': '-31.2117'}]},\n",
    "     {'post code': '99163',\n",
    "      'country': 'United States',\n",
    "      'country abbreviation': 'US',\n",
    "      'places': [{'place name': 'Pullman',\n",
    "        'longitude': '-117.1729',\n",
    "        'state': 'Washington',\n",
    "        'state abbreviation': 'WA',\n",
    "        'latitude': '46.7352'}]},\n",
    "     {'post code': '68022',\n",
    "      'country': 'United States',\n",
    "      'country abbreviation': 'US',\n",
    "      'places': [{'place name': 'Elkhorn',\n",
    "        'longitude': '-96.2431',\n",
    "        'state': 'Nebraska',\n",
    "        'state abbreviation': 'NE',\n",
    "        'latitude': '41.2756'}]},\n",
    "     {'post code': '84102',\n",
    "      'country': 'United States',\n",
    "      'country abbreviation': 'US',\n",
    "      'places': [{'place name': 'Salt Lake City',\n",
    "        'longitude': '-111.8627',\n",
    "        'state': 'Utah',\n",
    "        'state abbreviation': 'UT',\n",
    "        'latitude': '40.76'}]}]\n",
    "\n",
    "\n",
    "\n",
    "And we are done making our data into Python data! That was easy! Next, let's just take this list of dictionaries, and make it into a Data Frame. It turns out that we can write a little bit of code to make Data Frames out of our API results through `pandas`:"
   ]
  },
  {
   "cell_type": "code",
   "execution_count": 7,
   "id": "760cbf52-b40e-4ef9-84bd-c962495b2347",
   "metadata": {},
   "outputs": [
    {
     "data": {
      "text/html": [
       "<div>\n",
       "<style scoped>\n",
       "    .dataframe tbody tr th:only-of-type {\n",
       "        vertical-align: middle;\n",
       "    }\n",
       "\n",
       "    .dataframe tbody tr th {\n",
       "        vertical-align: top;\n",
       "    }\n",
       "\n",
       "    .dataframe thead th {\n",
       "        text-align: right;\n",
       "    }\n",
       "</style>\n",
       "<table border=\"1\" class=\"dataframe\">\n",
       "  <thead>\n",
       "    <tr style=\"text-align: right;\">\n",
       "      <th></th>\n",
       "      <th>place name</th>\n",
       "      <th>longitude</th>\n",
       "      <th>state</th>\n",
       "      <th>state abbreviation</th>\n",
       "      <th>latitude</th>\n",
       "      <th>post_code</th>\n",
       "      <th>country</th>\n",
       "      <th>country_code</th>\n",
       "    </tr>\n",
       "  </thead>\n",
       "  <tbody>\n",
       "    <tr>\n",
       "      <th>0</th>\n",
       "      <td>Oceanside</td>\n",
       "      <td>-117.2831</td>\n",
       "      <td>California</td>\n",
       "      <td>CA</td>\n",
       "      <td>33.1968</td>\n",
       "      <td>92056</td>\n",
       "      <td>United States</td>\n",
       "      <td>US</td>\n",
       "    </tr>\n",
       "    <tr>\n",
       "      <th>1</th>\n",
       "      <td>Redmond</td>\n",
       "      <td>-122.1232</td>\n",
       "      <td>Washington</td>\n",
       "      <td>WA</td>\n",
       "      <td>47.6718</td>\n",
       "      <td>98052</td>\n",
       "      <td>United States</td>\n",
       "      <td>US</td>\n",
       "    </tr>\n",
       "    <tr>\n",
       "      <th>2</th>\n",
       "      <td>Provo</td>\n",
       "      <td>-111.7325</td>\n",
       "      <td>Utah</td>\n",
       "      <td>UT</td>\n",
       "      <td>40.3563</td>\n",
       "      <td>84602</td>\n",
       "      <td>United States</td>\n",
       "      <td>US</td>\n",
       "    </tr>\n",
       "    <tr>\n",
       "      <th>3</th>\n",
       "      <td>São José do Norte</td>\n",
       "      <td>-51.762</td>\n",
       "      <td>Rio Grande do Sul</td>\n",
       "      <td>23</td>\n",
       "      <td>-31.8009</td>\n",
       "      <td>96225-000</td>\n",
       "      <td>Brazil</td>\n",
       "      <td>BR</td>\n",
       "    </tr>\n",
       "    <tr>\n",
       "      <th>4</th>\n",
       "      <td>Canguçu</td>\n",
       "      <td>-52.6682</td>\n",
       "      <td>Rio Grande do Sul</td>\n",
       "      <td>23</td>\n",
       "      <td>-31.2117</td>\n",
       "      <td>96600-000</td>\n",
       "      <td>Brazil</td>\n",
       "      <td>BR</td>\n",
       "    </tr>\n",
       "    <tr>\n",
       "      <th>5</th>\n",
       "      <td>Pullman</td>\n",
       "      <td>-117.1729</td>\n",
       "      <td>Washington</td>\n",
       "      <td>WA</td>\n",
       "      <td>46.7352</td>\n",
       "      <td>99163</td>\n",
       "      <td>United States</td>\n",
       "      <td>US</td>\n",
       "    </tr>\n",
       "    <tr>\n",
       "      <th>6</th>\n",
       "      <td>Elkhorn</td>\n",
       "      <td>-96.2431</td>\n",
       "      <td>Nebraska</td>\n",
       "      <td>NE</td>\n",
       "      <td>41.2756</td>\n",
       "      <td>68022</td>\n",
       "      <td>United States</td>\n",
       "      <td>US</td>\n",
       "    </tr>\n",
       "    <tr>\n",
       "      <th>7</th>\n",
       "      <td>Salt Lake City</td>\n",
       "      <td>-111.8627</td>\n",
       "      <td>Utah</td>\n",
       "      <td>UT</td>\n",
       "      <td>40.76</td>\n",
       "      <td>84102</td>\n",
       "      <td>United States</td>\n",
       "      <td>US</td>\n",
       "    </tr>\n",
       "  </tbody>\n",
       "</table>\n",
       "</div>"
      ],
      "text/plain": [
       "          place name  longitude              state state abbreviation  latitude  post_code        country country_code\n",
       "0          Oceanside  -117.2831         California                 CA   33.1968      92056  United States           US\n",
       "1            Redmond  -122.1232         Washington                 WA   47.6718      98052  United States           US\n",
       "2              Provo  -111.7325               Utah                 UT   40.3563      84602  United States           US\n",
       "3  São José do Norte    -51.762  Rio Grande do Sul                 23  -31.8009  96225-000         Brazil           BR\n",
       "4            Canguçu   -52.6682  Rio Grande do Sul                 23  -31.2117  96600-000         Brazil           BR\n",
       "5            Pullman  -117.1729         Washington                 WA   46.7352      99163  United States           US\n",
       "6            Elkhorn   -96.2431           Nebraska                 NE   41.2756      68022  United States           US\n",
       "7     Salt Lake City  -111.8627               Utah                 UT     40.76      84102  United States           US"
      ]
     },
     "execution_count": null,
     "metadata": {},
     "output_type": "execute_result"
    }
   ],
   "source": [
    "import pandas as pd\n",
    "\n",
    "locales = pd.DataFrame(locales)\n",
    "\n",
    "data = []\n",
    "for i in locales.index:\n",
    "    temp = pd.DataFrame(locales.loc[i, 'places'])\n",
    "    temp['post_code'] = locales.loc[i, 'post code']\n",
    "    temp['country'] = locales.loc[i, 'country']\n",
    "    temp['country_code'] = locales.loc[i, 'country abbreviation']\n",
    "    data.append(temp)\n",
    "    \n",
    "data = pd.concat(data, axis=0).reset_index(drop=True)\n",
    "\n",
    "data"
   ]
  },
  {
   "cell_type": "markdown",
   "id": "db9476f8-83df-44b1-ab91-7b9abea70544",
   "metadata": {},
   "source": [
    "<div>\n",
    "<style scoped>\n",
    "    .dataframe tbody tr th:only-of-type {\n",
    "        vertical-align: middle;\n",
    "    }\n",
    "\n",
    "    .dataframe tbody tr th {\n",
    "        vertical-align: top;\n",
    "    }\n",
    "\n",
    "    .dataframe thead th {\n",
    "        text-align: right;\n",
    "    }\n",
    "</style>\n",
    "<table border=\"1\" class=\"dataframe\">\n",
    "  <thead>\n",
    "    <tr style=\"text-align: right;\">\n",
    "      <th></th>\n",
    "      <th>place name</th>\n",
    "      <th>longitude</th>\n",
    "      <th>state</th>\n",
    "      <th>state abbreviation</th>\n",
    "      <th>latitude</th>\n",
    "      <th>post_code</th>\n",
    "      <th>country</th>\n",
    "      <th>country_code</th>\n",
    "    </tr>\n",
    "  </thead>\n",
    "  <tbody>\n",
    "    <tr>\n",
    "      <th>0</th>\n",
    "      <td>Oceanside</td>\n",
    "      <td>-117.2831</td>\n",
    "      <td>California</td>\n",
    "      <td>CA</td>\n",
    "      <td>33.1968</td>\n",
    "      <td>92056</td>\n",
    "      <td>United States</td>\n",
    "      <td>US</td>\n",
    "    </tr>\n",
    "    <tr>\n",
    "      <th>1</th>\n",
    "      <td>Redmond</td>\n",
    "      <td>-122.1232</td>\n",
    "      <td>Washington</td>\n",
    "      <td>WA</td>\n",
    "      <td>47.6718</td>\n",
    "      <td>98052</td>\n",
    "      <td>United States</td>\n",
    "      <td>US</td>\n",
    "    </tr>\n",
    "    <tr>\n",
    "      <th>2</th>\n",
    "      <td>Provo</td>\n",
    "      <td>-111.7325</td>\n",
    "      <td>Utah</td>\n",
    "      <td>UT</td>\n",
    "      <td>40.3563</td>\n",
    "      <td>84602</td>\n",
    "      <td>United States</td>\n",
    "      <td>US</td>\n",
    "    </tr>\n",
    "    <tr>\n",
    "      <th>3</th>\n",
    "      <td>São José do Norte</td>\n",
    "      <td>-51.762</td>\n",
    "      <td>Rio Grande do Sul</td>\n",
    "      <td>23</td>\n",
    "      <td>-31.8009</td>\n",
    "      <td>96225-000</td>\n",
    "      <td>Brazil</td>\n",
    "      <td>BR</td>\n",
    "    </tr>\n",
    "    <tr>\n",
    "      <th>4</th>\n",
    "      <td>Canguçu</td>\n",
    "      <td>-52.6682</td>\n",
    "      <td>Rio Grande do Sul</td>\n",
    "      <td>23</td>\n",
    "      <td>-31.2117</td>\n",
    "      <td>96600-000</td>\n",
    "      <td>Brazil</td>\n",
    "      <td>BR</td>\n",
    "    </tr>\n",
    "    <tr>\n",
    "      <th>5</th>\n",
    "      <td>Pullman</td>\n",
    "      <td>-117.1729</td>\n",
    "      <td>Washington</td>\n",
    "      <td>WA</td>\n",
    "      <td>46.7352</td>\n",
    "      <td>99163</td>\n",
    "      <td>United States</td>\n",
    "      <td>US</td>\n",
    "    </tr>\n",
    "    <tr>\n",
    "      <th>6</th>\n",
    "      <td>Elkhorn</td>\n",
    "      <td>-96.2431</td>\n",
    "      <td>Nebraska</td>\n",
    "      <td>NE</td>\n",
    "      <td>41.2756</td>\n",
    "      <td>68022</td>\n",
    "      <td>United States</td>\n",
    "      <td>US</td>\n",
    "    </tr>\n",
    "    <tr>\n",
    "      <th>7</th>\n",
    "      <td>Salt Lake City</td>\n",
    "      <td>-111.8627</td>\n",
    "      <td>Utah</td>\n",
    "      <td>UT</td>\n",
    "      <td>40.76</td>\n",
    "      <td>84102</td>\n",
    "      <td>United States</td>\n",
    "      <td>US</td>\n",
    "    </tr>\n",
    "  </tbody>\n",
    "</table>\n",
    "</div>\n",
    "\n",
    "\n",
    "\n",
    "Now that we have a nice, clean Data Frame containing the information on different locations, we can make a map out of it (we will cover mapping later in this course):"
   ]
  },
  {
   "cell_type": "code",
   "execution_count": 8,
   "id": "1027c7a1-d70f-4477-845c-75f637a746bf",
   "metadata": {},
   "outputs": [
    {
     "data": {
      "application/vnd.plotly.v1+json": {
       "config": {
        "plotlyServerURL": "https://plot.ly"
       },
       "data": [
        {
         "customdata": [
          [
           "Oceanside",
           "California",
           "United States"
          ],
          [
           "Redmond",
           "Washington",
           "United States"
          ],
          [
           "Provo",
           "Utah",
           "United States"
          ],
          [
           "Pullman",
           "Washington",
           "United States"
          ],
          [
           "Elkhorn",
           "Nebraska",
           "United States"
          ],
          [
           "Salt Lake City",
           "Utah",
           "United States"
          ]
         ],
         "geo": "geo",
         "hovertemplate": "country=%{customdata[2]}<br>latitude=%{lat}<br>longitude=%{lon}<br>place name=%{customdata[0]}<br>state=%{customdata[1]}<extra></extra>",
         "lat": [
          "33.1968",
          "47.6718",
          "40.3563",
          "46.7352",
          "41.2756",
          "40.76"
         ],
         "legendgroup": "United States",
         "lon": [
          "-117.2831",
          "-122.1232",
          "-111.7325",
          "-117.1729",
          "-96.2431",
          "-111.8627"
         ],
         "marker": {
          "color": "#636efa",
          "symbol": "circle"
         },
         "mode": "markers",
         "name": "United States",
         "showlegend": true,
         "type": "scattergeo"
        },
        {
         "customdata": [
          [
           "São José do Norte",
           "Rio Grande do Sul",
           "Brazil"
          ],
          [
           "Canguçu",
           "Rio Grande do Sul",
           "Brazil"
          ]
         ],
         "geo": "geo",
         "hovertemplate": "country=%{customdata[2]}<br>latitude=%{lat}<br>longitude=%{lon}<br>place name=%{customdata[0]}<br>state=%{customdata[1]}<extra></extra>",
         "lat": [
          "-31.8009",
          "-31.2117"
         ],
         "legendgroup": "Brazil",
         "lon": [
          "-51.762",
          "-52.6682"
         ],
         "marker": {
          "color": "#EF553B",
          "symbol": "circle"
         },
         "mode": "markers",
         "name": "Brazil",
         "showlegend": true,
         "type": "scattergeo"
        }
       ],
       "layout": {
        "geo": {
         "center": {},
         "domain": {
          "x": [
           0,
           1
          ],
          "y": [
           0,
           1
          ]
         },
         "projection": {
          "type": "natural earth"
         }
        },
        "height": 600,
        "legend": {
         "title": {
          "text": "country"
         },
         "tracegroupgap": 0
        },
        "margin": {
         "t": 60
        },
        "template": {
         "data": {
          "bar": [
           {
            "error_x": {
             "color": "#2a3f5f"
            },
            "error_y": {
             "color": "#2a3f5f"
            },
            "marker": {
             "line": {
              "color": "#E5ECF6",
              "width": 0.5
             },
             "pattern": {
              "fillmode": "overlay",
              "size": 10,
              "solidity": 0.2
             }
            },
            "type": "bar"
           }
          ],
          "barpolar": [
           {
            "marker": {
             "line": {
              "color": "#E5ECF6",
              "width": 0.5
             },
             "pattern": {
              "fillmode": "overlay",
              "size": 10,
              "solidity": 0.2
             }
            },
            "type": "barpolar"
           }
          ],
          "carpet": [
           {
            "aaxis": {
             "endlinecolor": "#2a3f5f",
             "gridcolor": "white",
             "linecolor": "white",
             "minorgridcolor": "white",
             "startlinecolor": "#2a3f5f"
            },
            "baxis": {
             "endlinecolor": "#2a3f5f",
             "gridcolor": "white",
             "linecolor": "white",
             "minorgridcolor": "white",
             "startlinecolor": "#2a3f5f"
            },
            "type": "carpet"
           }
          ],
          "choropleth": [
           {
            "colorbar": {
             "outlinewidth": 0,
             "ticks": ""
            },
            "type": "choropleth"
           }
          ],
          "contour": [
           {
            "colorbar": {
             "outlinewidth": 0,
             "ticks": ""
            },
            "colorscale": [
             [
              0,
              "#0d0887"
             ],
             [
              0.1111111111111111,
              "#46039f"
             ],
             [
              0.2222222222222222,
              "#7201a8"
             ],
             [
              0.3333333333333333,
              "#9c179e"
             ],
             [
              0.4444444444444444,
              "#bd3786"
             ],
             [
              0.5555555555555556,
              "#d8576b"
             ],
             [
              0.6666666666666666,
              "#ed7953"
             ],
             [
              0.7777777777777778,
              "#fb9f3a"
             ],
             [
              0.8888888888888888,
              "#fdca26"
             ],
             [
              1,
              "#f0f921"
             ]
            ],
            "type": "contour"
           }
          ],
          "contourcarpet": [
           {
            "colorbar": {
             "outlinewidth": 0,
             "ticks": ""
            },
            "type": "contourcarpet"
           }
          ],
          "heatmap": [
           {
            "colorbar": {
             "outlinewidth": 0,
             "ticks": ""
            },
            "colorscale": [
             [
              0,
              "#0d0887"
             ],
             [
              0.1111111111111111,
              "#46039f"
             ],
             [
              0.2222222222222222,
              "#7201a8"
             ],
             [
              0.3333333333333333,
              "#9c179e"
             ],
             [
              0.4444444444444444,
              "#bd3786"
             ],
             [
              0.5555555555555556,
              "#d8576b"
             ],
             [
              0.6666666666666666,
              "#ed7953"
             ],
             [
              0.7777777777777778,
              "#fb9f3a"
             ],
             [
              0.8888888888888888,
              "#fdca26"
             ],
             [
              1,
              "#f0f921"
             ]
            ],
            "type": "heatmap"
           }
          ],
          "heatmapgl": [
           {
            "colorbar": {
             "outlinewidth": 0,
             "ticks": ""
            },
            "colorscale": [
             [
              0,
              "#0d0887"
             ],
             [
              0.1111111111111111,
              "#46039f"
             ],
             [
              0.2222222222222222,
              "#7201a8"
             ],
             [
              0.3333333333333333,
              "#9c179e"
             ],
             [
              0.4444444444444444,
              "#bd3786"
             ],
             [
              0.5555555555555556,
              "#d8576b"
             ],
             [
              0.6666666666666666,
              "#ed7953"
             ],
             [
              0.7777777777777778,
              "#fb9f3a"
             ],
             [
              0.8888888888888888,
              "#fdca26"
             ],
             [
              1,
              "#f0f921"
             ]
            ],
            "type": "heatmapgl"
           }
          ],
          "histogram": [
           {
            "marker": {
             "pattern": {
              "fillmode": "overlay",
              "size": 10,
              "solidity": 0.2
             }
            },
            "type": "histogram"
           }
          ],
          "histogram2d": [
           {
            "colorbar": {
             "outlinewidth": 0,
             "ticks": ""
            },
            "colorscale": [
             [
              0,
              "#0d0887"
             ],
             [
              0.1111111111111111,
              "#46039f"
             ],
             [
              0.2222222222222222,
              "#7201a8"
             ],
             [
              0.3333333333333333,
              "#9c179e"
             ],
             [
              0.4444444444444444,
              "#bd3786"
             ],
             [
              0.5555555555555556,
              "#d8576b"
             ],
             [
              0.6666666666666666,
              "#ed7953"
             ],
             [
              0.7777777777777778,
              "#fb9f3a"
             ],
             [
              0.8888888888888888,
              "#fdca26"
             ],
             [
              1,
              "#f0f921"
             ]
            ],
            "type": "histogram2d"
           }
          ],
          "histogram2dcontour": [
           {
            "colorbar": {
             "outlinewidth": 0,
             "ticks": ""
            },
            "colorscale": [
             [
              0,
              "#0d0887"
             ],
             [
              0.1111111111111111,
              "#46039f"
             ],
             [
              0.2222222222222222,
              "#7201a8"
             ],
             [
              0.3333333333333333,
              "#9c179e"
             ],
             [
              0.4444444444444444,
              "#bd3786"
             ],
             [
              0.5555555555555556,
              "#d8576b"
             ],
             [
              0.6666666666666666,
              "#ed7953"
             ],
             [
              0.7777777777777778,
              "#fb9f3a"
             ],
             [
              0.8888888888888888,
              "#fdca26"
             ],
             [
              1,
              "#f0f921"
             ]
            ],
            "type": "histogram2dcontour"
           }
          ],
          "mesh3d": [
           {
            "colorbar": {
             "outlinewidth": 0,
             "ticks": ""
            },
            "type": "mesh3d"
           }
          ],
          "parcoords": [
           {
            "line": {
             "colorbar": {
              "outlinewidth": 0,
              "ticks": ""
             }
            },
            "type": "parcoords"
           }
          ],
          "pie": [
           {
            "automargin": true,
            "type": "pie"
           }
          ],
          "scatter": [
           {
            "fillpattern": {
             "fillmode": "overlay",
             "size": 10,
             "solidity": 0.2
            },
            "type": "scatter"
           }
          ],
          "scatter3d": [
           {
            "line": {
             "colorbar": {
              "outlinewidth": 0,
              "ticks": ""
             }
            },
            "marker": {
             "colorbar": {
              "outlinewidth": 0,
              "ticks": ""
             }
            },
            "type": "scatter3d"
           }
          ],
          "scattercarpet": [
           {
            "marker": {
             "colorbar": {
              "outlinewidth": 0,
              "ticks": ""
             }
            },
            "type": "scattercarpet"
           }
          ],
          "scattergeo": [
           {
            "marker": {
             "colorbar": {
              "outlinewidth": 0,
              "ticks": ""
             }
            },
            "type": "scattergeo"
           }
          ],
          "scattergl": [
           {
            "marker": {
             "colorbar": {
              "outlinewidth": 0,
              "ticks": ""
             }
            },
            "type": "scattergl"
           }
          ],
          "scattermapbox": [
           {
            "marker": {
             "colorbar": {
              "outlinewidth": 0,
              "ticks": ""
             }
            },
            "type": "scattermapbox"
           }
          ],
          "scatterpolar": [
           {
            "marker": {
             "colorbar": {
              "outlinewidth": 0,
              "ticks": ""
             }
            },
            "type": "scatterpolar"
           }
          ],
          "scatterpolargl": [
           {
            "marker": {
             "colorbar": {
              "outlinewidth": 0,
              "ticks": ""
             }
            },
            "type": "scatterpolargl"
           }
          ],
          "scatterternary": [
           {
            "marker": {
             "colorbar": {
              "outlinewidth": 0,
              "ticks": ""
             }
            },
            "type": "scatterternary"
           }
          ],
          "surface": [
           {
            "colorbar": {
             "outlinewidth": 0,
             "ticks": ""
            },
            "colorscale": [
             [
              0,
              "#0d0887"
             ],
             [
              0.1111111111111111,
              "#46039f"
             ],
             [
              0.2222222222222222,
              "#7201a8"
             ],
             [
              0.3333333333333333,
              "#9c179e"
             ],
             [
              0.4444444444444444,
              "#bd3786"
             ],
             [
              0.5555555555555556,
              "#d8576b"
             ],
             [
              0.6666666666666666,
              "#ed7953"
             ],
             [
              0.7777777777777778,
              "#fb9f3a"
             ],
             [
              0.8888888888888888,
              "#fdca26"
             ],
             [
              1,
              "#f0f921"
             ]
            ],
            "type": "surface"
           }
          ],
          "table": [
           {
            "cells": {
             "fill": {
              "color": "#EBF0F8"
             },
             "line": {
              "color": "white"
             }
            },
            "header": {
             "fill": {
              "color": "#C8D4E3"
             },
             "line": {
              "color": "white"
             }
            },
            "type": "table"
           }
          ]
         },
         "layout": {
          "annotationdefaults": {
           "arrowcolor": "#2a3f5f",
           "arrowhead": 0,
           "arrowwidth": 1
          },
          "autotypenumbers": "strict",
          "coloraxis": {
           "colorbar": {
            "outlinewidth": 0,
            "ticks": ""
           }
          },
          "colorscale": {
           "diverging": [
            [
             0,
             "#8e0152"
            ],
            [
             0.1,
             "#c51b7d"
            ],
            [
             0.2,
             "#de77ae"
            ],
            [
             0.3,
             "#f1b6da"
            ],
            [
             0.4,
             "#fde0ef"
            ],
            [
             0.5,
             "#f7f7f7"
            ],
            [
             0.6,
             "#e6f5d0"
            ],
            [
             0.7,
             "#b8e186"
            ],
            [
             0.8,
             "#7fbc41"
            ],
            [
             0.9,
             "#4d9221"
            ],
            [
             1,
             "#276419"
            ]
           ],
           "sequential": [
            [
             0,
             "#0d0887"
            ],
            [
             0.1111111111111111,
             "#46039f"
            ],
            [
             0.2222222222222222,
             "#7201a8"
            ],
            [
             0.3333333333333333,
             "#9c179e"
            ],
            [
             0.4444444444444444,
             "#bd3786"
            ],
            [
             0.5555555555555556,
             "#d8576b"
            ],
            [
             0.6666666666666666,
             "#ed7953"
            ],
            [
             0.7777777777777778,
             "#fb9f3a"
            ],
            [
             0.8888888888888888,
             "#fdca26"
            ],
            [
             1,
             "#f0f921"
            ]
           ],
           "sequentialminus": [
            [
             0,
             "#0d0887"
            ],
            [
             0.1111111111111111,
             "#46039f"
            ],
            [
             0.2222222222222222,
             "#7201a8"
            ],
            [
             0.3333333333333333,
             "#9c179e"
            ],
            [
             0.4444444444444444,
             "#bd3786"
            ],
            [
             0.5555555555555556,
             "#d8576b"
            ],
            [
             0.6666666666666666,
             "#ed7953"
            ],
            [
             0.7777777777777778,
             "#fb9f3a"
            ],
            [
             0.8888888888888888,
             "#fdca26"
            ],
            [
             1,
             "#f0f921"
            ]
           ]
          },
          "colorway": [
           "#636efa",
           "#EF553B",
           "#00cc96",
           "#ab63fa",
           "#FFA15A",
           "#19d3f3",
           "#FF6692",
           "#B6E880",
           "#FF97FF",
           "#FECB52"
          ],
          "font": {
           "color": "#2a3f5f"
          },
          "geo": {
           "bgcolor": "white",
           "lakecolor": "white",
           "landcolor": "#E5ECF6",
           "showlakes": true,
           "showland": true,
           "subunitcolor": "white"
          },
          "hoverlabel": {
           "align": "left"
          },
          "hovermode": "closest",
          "mapbox": {
           "style": "light"
          },
          "paper_bgcolor": "white",
          "plot_bgcolor": "#E5ECF6",
          "polar": {
           "angularaxis": {
            "gridcolor": "white",
            "linecolor": "white",
            "ticks": ""
           },
           "bgcolor": "#E5ECF6",
           "radialaxis": {
            "gridcolor": "white",
            "linecolor": "white",
            "ticks": ""
           }
          },
          "scene": {
           "xaxis": {
            "backgroundcolor": "#E5ECF6",
            "gridcolor": "white",
            "gridwidth": 2,
            "linecolor": "white",
            "showbackground": true,
            "ticks": "",
            "zerolinecolor": "white"
           },
           "yaxis": {
            "backgroundcolor": "#E5ECF6",
            "gridcolor": "white",
            "gridwidth": 2,
            "linecolor": "white",
            "showbackground": true,
            "ticks": "",
            "zerolinecolor": "white"
           },
           "zaxis": {
            "backgroundcolor": "#E5ECF6",
            "gridcolor": "white",
            "gridwidth": 2,
            "linecolor": "white",
            "showbackground": true,
            "ticks": "",
            "zerolinecolor": "white"
           }
          },
          "shapedefaults": {
           "line": {
            "color": "#2a3f5f"
           }
          },
          "ternary": {
           "aaxis": {
            "gridcolor": "white",
            "linecolor": "white",
            "ticks": ""
           },
           "baxis": {
            "gridcolor": "white",
            "linecolor": "white",
            "ticks": ""
           },
           "bgcolor": "#E5ECF6",
           "caxis": {
            "gridcolor": "white",
            "linecolor": "white",
            "ticks": ""
           }
          },
          "title": {
           "x": 0.05
          },
          "xaxis": {
           "automargin": true,
           "gridcolor": "white",
           "linecolor": "white",
           "ticks": "",
           "title": {
            "standoff": 15
           },
           "zerolinecolor": "white",
           "zerolinewidth": 2
          },
          "yaxis": {
           "automargin": true,
           "gridcolor": "white",
           "linecolor": "white",
           "ticks": "",
           "title": {
            "standoff": 15
           },
           "zerolinecolor": "white",
           "zerolinewidth": 2
          }
         }
        },
        "width": 900
       }
      }
     },
     "metadata": {},
     "output_type": "display_data"
    }
   ],
   "source": [
    "import plotly.express as px\n",
    "\n",
    "px.scatter_geo(data, 'latitude', 'longitude', \n",
    "               hover_data=['place name', 'state', 'country'], \n",
    "               color='country', \n",
    "               projection = 'natural earth',\n",
    "               width = 900,\n",
    "               height = 600,\n",
    "               )"
   ]
  },
  {
   "cell_type": "markdown",
   "id": "90377ded-981a-416c-9aa2-20f46a279466",
   "metadata": {},
   "source": [
    "And there you have it! A map of places that I have lived!\n",
    "\n",
    "![](newplot.png)\n",
    "\n",
    "It really looks a lot less impressive on a world map...\n",
    "\n",
    "APIs will allow us to do all sorts of amazing work. Some APIs that are awesome but require accounts are listed below:\n",
    "\n",
    "- [Twitter Realtime Tweet Filter](https://developer.twitter.com/en/docs/tweets/filter-realtime/overview)\n",
    "- [Tracker.gg](https://tracker.gg/)\n",
    "- [Google Maps Distance Matrix](https://developers.google.com/maps/documentation/distance-matrix/intro)\n",
    "\n",
    "With web scraping and APIs at our fingertips, our ability to gather and investigate data is limited only by our ability to come up with interesting research questions."
   ]
  },
  {
   "cell_type": "markdown",
   "id": "61705461-c2bf-46c9-9ed4-d741093b565d",
   "metadata": {},
   "source": [
    "**Solve-it!**\n",
    "\n",
    "In the cell commented with `#si-exercise` is a Data Frame called `capitals` containing capital cities in states across the United States. Use the [Zippopotam.us](https://api.zippopotam.us) API to gather latitude and longitude information on each city, and add columns named `lat` and `lon` containing the latitude and longitude data for each city, respectively. Once you have done that, map all of the cities using their latitude and longitude data on a map with `scope=usa`. Store the map as a variable called `fig`.\n",
    "\n",
    "*Hints:* \n",
    "1. If you use my code from the notes above, you can't use the projection that I used with `scope=\"usa\"`. Get rid of the `projection` argument and replace it with the scope argument.\n",
    "2. You just need to grab a single latitude and longitude for the cities. I recommend using the first one in the list.\n",
    "\n",
    "You will be graded on the following:\n",
    "- Created columns named `lat` and `lon` in the `capitals` Data Frame [1 point]\n",
    "- `lat` contains correct latitude for the city [1 point]\n",
    "- `lon` contains correct longitude for the city [1 point]\n",
    "- Map (store as `fig`) displays capitals based on latitude and longitude values [1 point]"
   ]
  },
  {
   "cell_type": "code",
   "execution_count": null,
   "id": "a0d72710-b6ed-4b30-83c1-3ae157bbda5e",
   "metadata": {},
   "outputs": [
    {
     "data": {
      "application/vnd.plotly.v1+json": {
       "config": {
        "plotlyServerURL": "https://plot.ly"
       },
       "data": [
        {
         "customdata": [
          [
           "Alabama",
           "Montgomery"
          ],
          [
           "Alabama",
           "Montgomery"
          ],
          [
           "Alabama",
           "Montgomery"
          ],
          [
           "Alabama",
           "Montgomery"
          ],
          [
           "Alabama",
           "Montgomery"
          ],
          [
           "Alabama",
           "Montgomery"
          ],
          [
           "Alabama",
           "Montgomery"
          ],
          [
           "Alabama",
           "Montgomery"
          ],
          [
           "Alabama",
           "Montgomery"
          ],
          [
           "Alabama",
           "Montgomery"
          ],
          [
           "Alabama",
           "Montgomery"
          ],
          [
           "Alabama",
           "Montgomery"
          ],
          [
           "Alabama",
           "Montgomery"
          ],
          [
           "Alabama",
           "Montgomery"
          ],
          [
           "Alabama",
           "Montgomery"
          ],
          [
           "Alabama",
           "Montgomery"
          ],
          [
           "Alabama",
           "Montgomery"
          ],
          [
           "Alabama",
           "Montgomery"
          ],
          [
           "Alabama",
           "Montgomery"
          ],
          [
           "Alabama",
           "Montgomery"
          ],
          [
           "Alabama",
           "Montgomery"
          ],
          [
           "Alabama",
           "Montgomery"
          ],
          [
           "Alabama",
           "Montgomery"
          ],
          [
           "Alabama",
           "Montgomery"
          ],
          [
           "Alabama",
           "Montgomery"
          ],
          [
           "Alabama",
           "Montgomery"
          ],
          [
           "Alabama",
           "Montgomery"
          ],
          [
           "Alabama",
           "Montgomery"
          ],
          [
           "Alabama",
           "Montgomery"
          ],
          [
           "Alabama",
           "Montgomery"
          ],
          [
           "Alabama",
           "Montgomery"
          ],
          [
           "Alabama",
           "Montgomery"
          ],
          [
           "Alabama",
           "Montgomery"
          ],
          [
           "Alabama",
           "Montgomery"
          ],
          [
           "Alabama",
           "Montgomery"
          ],
          [
           "Alabama",
           "Montgomery"
          ],
          [
           "Alabama",
           "Montgomery"
          ],
          [
           "Alabama",
           "Montgomery"
          ],
          [
           "Alabama",
           "Montgomery"
          ],
          [
           "Alabama",
           "Montgomery"
          ],
          [
           "Alabama",
           "Montgomery"
          ],
          [
           "Alabama",
           "Montgomery"
          ],
          [
           "Alabama",
           "Montgomery"
          ],
          [
           "Alabama",
           "Montgomery"
          ],
          [
           "Alaska",
           "Juneau"
          ],
          [
           "Alaska",
           "Juneau"
          ],
          [
           "Alaska",
           "Juneau"
          ],
          [
           "Alaska",
           "Juneau"
          ],
          [
           "Alaska",
           "Juneau"
          ],
          [
           "Alaska",
           "Juneau"
          ],
          [
           "Arizona",
           "Phoenix"
          ],
          [
           "Arizona",
           "Phoenix"
          ],
          [
           "Arizona",
           "Phoenix"
          ],
          [
           "Arizona",
           "Phoenix"
          ],
          [
           "Arizona",
           "Phoenix"
          ],
          [
           "Arizona",
           "Phoenix"
          ],
          [
           "Arizona",
           "Phoenix"
          ],
          [
           "Arizona",
           "Phoenix"
          ],
          [
           "Arizona",
           "Phoenix"
          ],
          [
           "Arizona",
           "Phoenix"
          ],
          [
           "Arizona",
           "Phoenix"
          ],
          [
           "Arizona",
           "Phoenix"
          ],
          [
           "Arizona",
           "Phoenix"
          ],
          [
           "Arizona",
           "Phoenix"
          ],
          [
           "Arizona",
           "Phoenix"
          ],
          [
           "Arizona",
           "Phoenix"
          ],
          [
           "Arizona",
           "Phoenix"
          ],
          [
           "Arizona",
           "Phoenix"
          ],
          [
           "Arizona",
           "Phoenix"
          ],
          [
           "Arizona",
           "Phoenix"
          ],
          [
           "Arizona",
           "Phoenix"
          ],
          [
           "Arizona",
           "Phoenix"
          ],
          [
           "Arizona",
           "Phoenix"
          ],
          [
           "Arizona",
           "Phoenix"
          ],
          [
           "Arizona",
           "Phoenix"
          ],
          [
           "Arizona",
           "Phoenix"
          ],
          [
           "Arizona",
           "Phoenix"
          ],
          [
           "Arizona",
           "Phoenix"
          ],
          [
           "Arizona",
           "Phoenix"
          ],
          [
           "Arizona",
           "Phoenix"
          ],
          [
           "Arizona",
           "Phoenix"
          ],
          [
           "Arizona",
           "Phoenix"
          ],
          [
           "Arizona",
           "Phoenix"
          ],
          [
           "Arizona",
           "Phoenix"
          ],
          [
           "Arizona",
           "Phoenix"
          ],
          [
           "Arizona",
           "Phoenix"
          ],
          [
           "Arizona",
           "Phoenix"
          ],
          [
           "Arizona",
           "Phoenix"
          ],
          [
           "Arizona",
           "Phoenix"
          ],
          [
           "Arizona",
           "Phoenix"
          ],
          [
           "Arizona",
           "Phoenix"
          ],
          [
           "Arizona",
           "Phoenix"
          ],
          [
           "Arizona",
           "Phoenix"
          ],
          [
           "Arizona",
           "Phoenix"
          ],
          [
           "Arizona",
           "Phoenix"
          ],
          [
           "Arizona",
           "Phoenix"
          ],
          [
           "Arizona",
           "Phoenix"
          ],
          [
           "Arizona",
           "Phoenix"
          ],
          [
           "Arizona",
           "Phoenix"
          ],
          [
           "Arizona",
           "Phoenix"
          ],
          [
           "Arizona",
           "Phoenix"
          ],
          [
           "Arizona",
           "Phoenix"
          ],
          [
           "Arizona",
           "Phoenix"
          ],
          [
           "Arizona",
           "Phoenix"
          ],
          [
           "Arizona",
           "Phoenix"
          ],
          [
           "Arizona",
           "Phoenix"
          ],
          [
           "Arizona",
           "Phoenix"
          ],
          [
           "Arizona",
           "Phoenix"
          ],
          [
           "Arizona",
           "Phoenix"
          ],
          [
           "Arizona",
           "Phoenix"
          ],
          [
           "Arizona",
           "Phoenix"
          ],
          [
           "Arizona",
           "Phoenix"
          ],
          [
           "Arizona",
           "Phoenix"
          ],
          [
           "Arizona",
           "Phoenix"
          ],
          [
           "Arizona",
           "Phoenix"
          ],
          [
           "Arizona",
           "Phoenix"
          ],
          [
           "Arizona",
           "Phoenix"
          ],
          [
           "Arizona",
           "Phoenix"
          ],
          [
           "Arizona",
           "Phoenix"
          ],
          [
           "Arizona",
           "Phoenix"
          ],
          [
           "Arizona",
           "Phoenix"
          ],
          [
           "Arizona",
           "Phoenix"
          ],
          [
           "Arizona",
           "Phoenix"
          ],
          [
           "Arizona",
           "Phoenix"
          ],
          [
           "Arizona",
           "Phoenix"
          ],
          [
           "Arizona",
           "Phoenix"
          ],
          [
           "Arizona",
           "Phoenix"
          ],
          [
           "Arizona",
           "Phoenix"
          ],
          [
           "Arizona",
           "Phoenix"
          ],
          [
           "Arizona",
           "Phoenix"
          ],
          [
           "Arkansas",
           "Little Rock"
          ],
          [
           "Arkansas",
           "Little Rock"
          ],
          [
           "Arkansas",
           "Little Rock"
          ],
          [
           "Arkansas",
           "Little Rock"
          ],
          [
           "Arkansas",
           "Little Rock"
          ],
          [
           "Arkansas",
           "Little Rock"
          ],
          [
           "Arkansas",
           "Little Rock"
          ],
          [
           "Arkansas",
           "Little Rock"
          ],
          [
           "Arkansas",
           "Little Rock"
          ],
          [
           "Arkansas",
           "Little Rock"
          ],
          [
           "Arkansas",
           "Little Rock"
          ],
          [
           "Arkansas",
           "Little Rock"
          ],
          [
           "Arkansas",
           "Little Rock"
          ],
          [
           "Arkansas",
           "Little Rock"
          ],
          [
           "Arkansas",
           "Little Rock"
          ],
          [
           "Arkansas",
           "Little Rock"
          ],
          [
           "Arkansas",
           "Little Rock"
          ],
          [
           "Arkansas",
           "Little Rock"
          ],
          [
           "Arkansas",
           "Little Rock"
          ],
          [
           "Arkansas",
           "Little Rock"
          ],
          [
           "Arkansas",
           "Little Rock"
          ],
          [
           "Arkansas",
           "Little Rock"
          ],
          [
           "Arkansas",
           "Little Rock"
          ],
          [
           "Arkansas",
           "Little Rock"
          ],
          [
           "Arkansas",
           "Little Rock"
          ],
          [
           "Arkansas",
           "Little Rock"
          ],
          [
           "Arkansas",
           "Little Rock"
          ],
          [
           "Arkansas",
           "Little Rock"
          ],
          [
           "Arkansas",
           "Little Rock"
          ],
          [
           "Arkansas",
           "Little Rock"
          ],
          [
           "Arkansas",
           "Little Rock"
          ],
          [
           "Arkansas",
           "Little Rock"
          ],
          [
           "Arkansas",
           "Little Rock"
          ],
          [
           "Arkansas",
           "Little Rock"
          ],
          [
           "Arkansas",
           "Little Rock"
          ],
          [
           "Arkansas",
           "Little Rock"
          ],
          [
           "Arkansas",
           "Little Rock"
          ],
          [
           "Arkansas",
           "Little Rock"
          ],
          [
           "California",
           "Sacramento"
          ],
          [
           "California",
           "Sacramento"
          ],
          [
           "California",
           "Sacramento"
          ],
          [
           "California",
           "Sacramento"
          ],
          [
           "California",
           "Sacramento"
          ],
          [
           "California",
           "Sacramento"
          ],
          [
           "California",
           "Sacramento"
          ],
          [
           "California",
           "Sacramento"
          ],
          [
           "California",
           "Sacramento"
          ],
          [
           "California",
           "Sacramento"
          ],
          [
           "California",
           "Sacramento"
          ],
          [
           "California",
           "Sacramento"
          ],
          [
           "California",
           "Sacramento"
          ],
          [
           "California",
           "Sacramento"
          ],
          [
           "California",
           "Sacramento"
          ],
          [
           "California",
           "Sacramento"
          ],
          [
           "California",
           "Sacramento"
          ],
          [
           "California",
           "Sacramento"
          ],
          [
           "California",
           "Sacramento"
          ],
          [
           "California",
           "Sacramento"
          ],
          [
           "California",
           "Sacramento"
          ],
          [
           "California",
           "Sacramento"
          ],
          [
           "California",
           "Sacramento"
          ],
          [
           "California",
           "Sacramento"
          ],
          [
           "California",
           "Sacramento"
          ],
          [
           "California",
           "Sacramento"
          ],
          [
           "California",
           "Sacramento"
          ],
          [
           "California",
           "Sacramento"
          ],
          [
           "California",
           "Sacramento"
          ],
          [
           "California",
           "Sacramento"
          ],
          [
           "California",
           "Sacramento"
          ],
          [
           "California",
           "Sacramento"
          ],
          [
           "California",
           "Sacramento"
          ],
          [
           "California",
           "Sacramento"
          ],
          [
           "California",
           "Sacramento"
          ],
          [
           "California",
           "Sacramento"
          ],
          [
           "California",
           "Sacramento"
          ],
          [
           "California",
           "Sacramento"
          ],
          [
           "California",
           "Sacramento"
          ],
          [
           "California",
           "Sacramento"
          ],
          [
           "California",
           "Sacramento"
          ],
          [
           "California",
           "Sacramento"
          ],
          [
           "California",
           "Sacramento"
          ],
          [
           "California",
           "Sacramento"
          ],
          [
           "California",
           "Sacramento"
          ],
          [
           "California",
           "Sacramento"
          ],
          [
           "California",
           "Sacramento"
          ],
          [
           "California",
           "Sacramento"
          ],
          [
           "California",
           "Sacramento"
          ],
          [
           "California",
           "Sacramento"
          ],
          [
           "California",
           "Sacramento"
          ],
          [
           "California",
           "Sacramento"
          ],
          [
           "California",
           "Sacramento"
          ],
          [
           "California",
           "Sacramento"
          ],
          [
           "California",
           "Sacramento"
          ],
          [
           "California",
           "Sacramento"
          ],
          [
           "California",
           "Sacramento"
          ],
          [
           "California",
           "Sacramento"
          ],
          [
           "California",
           "Sacramento"
          ],
          [
           "California",
           "Sacramento"
          ],
          [
           "California",
           "Sacramento"
          ],
          [
           "California",
           "Sacramento"
          ],
          [
           "California",
           "Sacramento"
          ],
          [
           "California",
           "Sacramento"
          ],
          [
           "California",
           "Sacramento"
          ],
          [
           "California",
           "Sacramento"
          ],
          [
           "California",
           "Sacramento"
          ],
          [
           "California",
           "Sacramento"
          ],
          [
           "California",
           "Sacramento"
          ],
          [
           "California",
           "Sacramento"
          ],
          [
           "California",
           "Sacramento"
          ],
          [
           "California",
           "Sacramento"
          ],
          [
           "California",
           "Sacramento"
          ],
          [
           "California",
           "Sacramento"
          ],
          [
           "California",
           "Sacramento"
          ],
          [
           "California",
           "Sacramento"
          ],
          [
           "California",
           "Sacramento"
          ],
          [
           "California",
           "Sacramento"
          ],
          [
           "California",
           "Sacramento"
          ],
          [
           "California",
           "Sacramento"
          ],
          [
           "California",
           "Sacramento"
          ],
          [
           "California",
           "Sacramento"
          ],
          [
           "California",
           "Sacramento"
          ],
          [
           "California",
           "Sacramento"
          ],
          [
           "California",
           "Sacramento"
          ],
          [
           "California",
           "Sacramento"
          ],
          [
           "California",
           "Sacramento"
          ],
          [
           "California",
           "Sacramento"
          ],
          [
           "California",
           "Sacramento"
          ],
          [
           "California",
           "Sacramento"
          ],
          [
           "California",
           "Sacramento"
          ],
          [
           "California",
           "Sacramento"
          ],
          [
           "California",
           "Sacramento"
          ],
          [
           "California",
           "Sacramento"
          ],
          [
           "California",
           "Sacramento"
          ],
          [
           "California",
           "Sacramento"
          ],
          [
           "California",
           "Sacramento"
          ],
          [
           "California",
           "Sacramento"
          ],
          [
           "California",
           "Sacramento"
          ],
          [
           "California",
           "Sacramento"
          ],
          [
           "California",
           "Sacramento"
          ],
          [
           "California",
           "Sacramento"
          ],
          [
           "California",
           "Sacramento"
          ],
          [
           "California",
           "Sacramento"
          ],
          [
           "California",
           "Sacramento"
          ],
          [
           "California",
           "Sacramento"
          ],
          [
           "California",
           "Sacramento"
          ],
          [
           "California",
           "Sacramento"
          ],
          [
           "California",
           "Sacramento"
          ],
          [
           "California",
           "Sacramento"
          ],
          [
           "Colorado",
           "Denver"
          ],
          [
           "Colorado",
           "Denver"
          ],
          [
           "Colorado",
           "Denver"
          ],
          [
           "Colorado",
           "Denver"
          ],
          [
           "Colorado",
           "Denver"
          ],
          [
           "Colorado",
           "Denver"
          ],
          [
           "Colorado",
           "Denver"
          ],
          [
           "Colorado",
           "Denver"
          ],
          [
           "Colorado",
           "Denver"
          ],
          [
           "Colorado",
           "Denver"
          ],
          [
           "Colorado",
           "Denver"
          ],
          [
           "Colorado",
           "Denver"
          ],
          [
           "Colorado",
           "Denver"
          ],
          [
           "Colorado",
           "Denver"
          ],
          [
           "Colorado",
           "Denver"
          ],
          [
           "Colorado",
           "Denver"
          ],
          [
           "Colorado",
           "Denver"
          ],
          [
           "Colorado",
           "Denver"
          ],
          [
           "Colorado",
           "Denver"
          ],
          [
           "Colorado",
           "Denver"
          ],
          [
           "Colorado",
           "Denver"
          ],
          [
           "Colorado",
           "Denver"
          ],
          [
           "Colorado",
           "Denver"
          ],
          [
           "Colorado",
           "Denver"
          ],
          [
           "Colorado",
           "Denver"
          ],
          [
           "Colorado",
           "Denver"
          ],
          [
           "Colorado",
           "Denver"
          ],
          [
           "Colorado",
           "Denver"
          ],
          [
           "Colorado",
           "Denver"
          ],
          [
           "Colorado",
           "Denver"
          ],
          [
           "Colorado",
           "Denver"
          ],
          [
           "Colorado",
           "Denver"
          ],
          [
           "Colorado",
           "Denver"
          ],
          [
           "Colorado",
           "Denver"
          ],
          [
           "Colorado",
           "Denver"
          ],
          [
           "Colorado",
           "Denver"
          ],
          [
           "Colorado",
           "Denver"
          ],
          [
           "Colorado",
           "Denver"
          ],
          [
           "Colorado",
           "Denver"
          ],
          [
           "Colorado",
           "Denver"
          ],
          [
           "Colorado",
           "Denver"
          ],
          [
           "Colorado",
           "Denver"
          ],
          [
           "Colorado",
           "Denver"
          ],
          [
           "Colorado",
           "Denver"
          ],
          [
           "Colorado",
           "Denver"
          ],
          [
           "Colorado",
           "Denver"
          ],
          [
           "Colorado",
           "Denver"
          ],
          [
           "Colorado",
           "Denver"
          ],
          [
           "Colorado",
           "Denver"
          ],
          [
           "Colorado",
           "Denver"
          ],
          [
           "Colorado",
           "Denver"
          ],
          [
           "Colorado",
           "Denver"
          ],
          [
           "Colorado",
           "Denver"
          ],
          [
           "Colorado",
           "Denver"
          ],
          [
           "Colorado",
           "Denver"
          ],
          [
           "Colorado",
           "Denver"
          ],
          [
           "Colorado",
           "Denver"
          ],
          [
           "Colorado",
           "Denver"
          ],
          [
           "Colorado",
           "Denver"
          ],
          [
           "Colorado",
           "Denver"
          ],
          [
           "Colorado",
           "Denver"
          ],
          [
           "Colorado",
           "Denver"
          ],
          [
           "Colorado",
           "Denver"
          ],
          [
           "Colorado",
           "Denver"
          ],
          [
           "Colorado",
           "Denver"
          ],
          [
           "Colorado",
           "Denver"
          ],
          [
           "Colorado",
           "Denver"
          ],
          [
           "Colorado",
           "Denver"
          ],
          [
           "Colorado",
           "Denver"
          ],
          [
           "Colorado",
           "Denver"
          ],
          [
           "Colorado",
           "Denver"
          ],
          [
           "Colorado",
           "Denver"
          ],
          [
           "Colorado",
           "Denver"
          ],
          [
           "Colorado",
           "Denver"
          ],
          [
           "Colorado",
           "Denver"
          ],
          [
           "Colorado",
           "Denver"
          ],
          [
           "Connecticut",
           "Hartford"
          ],
          [
           "Connecticut",
           "Hartford"
          ],
          [
           "Connecticut",
           "Hartford"
          ],
          [
           "Connecticut",
           "Hartford"
          ],
          [
           "Connecticut",
           "Hartford"
          ],
          [
           "Connecticut",
           "Hartford"
          ],
          [
           "Connecticut",
           "Hartford"
          ],
          [
           "Connecticut",
           "Hartford"
          ],
          [
           "Connecticut",
           "Hartford"
          ],
          [
           "Connecticut",
           "Hartford"
          ],
          [
           "Connecticut",
           "Hartford"
          ],
          [
           "Connecticut",
           "Hartford"
          ],
          [
           "Connecticut",
           "Hartford"
          ],
          [
           "Connecticut",
           "Hartford"
          ],
          [
           "Connecticut",
           "Hartford"
          ],
          [
           "Connecticut",
           "Hartford"
          ],
          [
           "Connecticut",
           "Hartford"
          ],
          [
           "Connecticut",
           "Hartford"
          ],
          [
           "Connecticut",
           "Hartford"
          ],
          [
           "Connecticut",
           "Hartford"
          ],
          [
           "Connecticut",
           "Hartford"
          ],
          [
           "Connecticut",
           "Hartford"
          ],
          [
           "Connecticut",
           "Hartford"
          ],
          [
           "Connecticut",
           "Hartford"
          ],
          [
           "Connecticut",
           "Hartford"
          ],
          [
           "Connecticut",
           "Hartford"
          ],
          [
           "Connecticut",
           "Hartford"
          ],
          [
           "Connecticut",
           "Hartford"
          ],
          [
           "Connecticut",
           "Hartford"
          ],
          [
           "Connecticut",
           "Hartford"
          ],
          [
           "Connecticut",
           "Hartford"
          ],
          [
           "Connecticut",
           "Hartford"
          ],
          [
           "Connecticut",
           "Hartford"
          ],
          [
           "Connecticut",
           "Hartford"
          ],
          [
           "Connecticut",
           "Hartford"
          ],
          [
           "Connecticut",
           "Hartford"
          ],
          [
           "Connecticut",
           "Hartford"
          ],
          [
           "Connecticut",
           "Hartford"
          ],
          [
           "Connecticut",
           "Hartford"
          ],
          [
           "Connecticut",
           "Hartford"
          ],
          [
           "Connecticut",
           "Hartford"
          ],
          [
           "Connecticut",
           "Hartford"
          ],
          [
           "Connecticut",
           "Hartford"
          ],
          [
           "Connecticut",
           "Hartford"
          ],
          [
           "Connecticut",
           "Hartford"
          ],
          [
           "Connecticut",
           "Hartford"
          ],
          [
           "Connecticut",
           "Hartford"
          ],
          [
           "Connecticut",
           "Hartford"
          ],
          [
           "Delaware",
           "Dover"
          ],
          [
           "Delaware",
           "Dover"
          ],
          [
           "Delaware",
           "Dover"
          ],
          [
           "Delaware",
           "Dover"
          ],
          [
           "Delaware",
           "Dover"
          ],
          [
           "Delaware",
           "Dover"
          ],
          [
           "Florida",
           "Tallahassee"
          ],
          [
           "Florida",
           "Tallahassee"
          ],
          [
           "Florida",
           "Tallahassee"
          ],
          [
           "Florida",
           "Tallahassee"
          ],
          [
           "Florida",
           "Tallahassee"
          ],
          [
           "Florida",
           "Tallahassee"
          ],
          [
           "Florida",
           "Tallahassee"
          ],
          [
           "Florida",
           "Tallahassee"
          ],
          [
           "Florida",
           "Tallahassee"
          ],
          [
           "Florida",
           "Tallahassee"
          ],
          [
           "Florida",
           "Tallahassee"
          ],
          [
           "Florida",
           "Tallahassee"
          ],
          [
           "Florida",
           "Tallahassee"
          ],
          [
           "Florida",
           "Tallahassee"
          ],
          [
           "Florida",
           "Tallahassee"
          ],
          [
           "Florida",
           "Tallahassee"
          ],
          [
           "Florida",
           "Tallahassee"
          ],
          [
           "Florida",
           "Tallahassee"
          ],
          [
           "Florida",
           "Tallahassee"
          ],
          [
           "Florida",
           "Tallahassee"
          ],
          [
           "Georgia",
           "Atlanta"
          ],
          [
           "Georgia",
           "Atlanta"
          ],
          [
           "Georgia",
           "Atlanta"
          ],
          [
           "Georgia",
           "Atlanta"
          ],
          [
           "Georgia",
           "Atlanta"
          ],
          [
           "Georgia",
           "Atlanta"
          ],
          [
           "Georgia",
           "Atlanta"
          ],
          [
           "Georgia",
           "Atlanta"
          ],
          [
           "Georgia",
           "Atlanta"
          ],
          [
           "Georgia",
           "Atlanta"
          ],
          [
           "Georgia",
           "Atlanta"
          ],
          [
           "Georgia",
           "Atlanta"
          ],
          [
           "Georgia",
           "Atlanta"
          ],
          [
           "Georgia",
           "Atlanta"
          ],
          [
           "Georgia",
           "Atlanta"
          ],
          [
           "Georgia",
           "Atlanta"
          ],
          [
           "Georgia",
           "Atlanta"
          ],
          [
           "Georgia",
           "Atlanta"
          ],
          [
           "Georgia",
           "Atlanta"
          ],
          [
           "Georgia",
           "Atlanta"
          ],
          [
           "Georgia",
           "Atlanta"
          ],
          [
           "Georgia",
           "Atlanta"
          ],
          [
           "Georgia",
           "Atlanta"
          ],
          [
           "Georgia",
           "Atlanta"
          ],
          [
           "Georgia",
           "Atlanta"
          ],
          [
           "Georgia",
           "Atlanta"
          ],
          [
           "Georgia",
           "Atlanta"
          ],
          [
           "Georgia",
           "Atlanta"
          ],
          [
           "Georgia",
           "Atlanta"
          ],
          [
           "Georgia",
           "Atlanta"
          ],
          [
           "Georgia",
           "Atlanta"
          ],
          [
           "Georgia",
           "Atlanta"
          ],
          [
           "Georgia",
           "Atlanta"
          ],
          [
           "Georgia",
           "Atlanta"
          ],
          [
           "Georgia",
           "Atlanta"
          ],
          [
           "Georgia",
           "Atlanta"
          ],
          [
           "Georgia",
           "Atlanta"
          ],
          [
           "Georgia",
           "Atlanta"
          ],
          [
           "Georgia",
           "Atlanta"
          ],
          [
           "Georgia",
           "Atlanta"
          ],
          [
           "Georgia",
           "Atlanta"
          ],
          [
           "Georgia",
           "Atlanta"
          ],
          [
           "Georgia",
           "Atlanta"
          ],
          [
           "Georgia",
           "Atlanta"
          ],
          [
           "Georgia",
           "Atlanta"
          ],
          [
           "Georgia",
           "Atlanta"
          ],
          [
           "Georgia",
           "Atlanta"
          ],
          [
           "Georgia",
           "Atlanta"
          ],
          [
           "Georgia",
           "Atlanta"
          ],
          [
           "Georgia",
           "Atlanta"
          ],
          [
           "Georgia",
           "Atlanta"
          ],
          [
           "Georgia",
           "Atlanta"
          ],
          [
           "Georgia",
           "Atlanta"
          ],
          [
           "Georgia",
           "Atlanta"
          ],
          [
           "Georgia",
           "Atlanta"
          ],
          [
           "Georgia",
           "Atlanta"
          ],
          [
           "Georgia",
           "Atlanta"
          ],
          [
           "Georgia",
           "Atlanta"
          ],
          [
           "Georgia",
           "Atlanta"
          ],
          [
           "Georgia",
           "Atlanta"
          ],
          [
           "Georgia",
           "Atlanta"
          ],
          [
           "Georgia",
           "Atlanta"
          ],
          [
           "Georgia",
           "Atlanta"
          ],
          [
           "Georgia",
           "Atlanta"
          ],
          [
           "Georgia",
           "Atlanta"
          ],
          [
           "Georgia",
           "Atlanta"
          ],
          [
           "Georgia",
           "Atlanta"
          ],
          [
           "Georgia",
           "Atlanta"
          ],
          [
           "Georgia",
           "Atlanta"
          ],
          [
           "Georgia",
           "Atlanta"
          ],
          [
           "Georgia",
           "Atlanta"
          ],
          [
           "Georgia",
           "Atlanta"
          ],
          [
           "Georgia",
           "Atlanta"
          ],
          [
           "Georgia",
           "Atlanta"
          ],
          [
           "Georgia",
           "Atlanta"
          ],
          [
           "Georgia",
           "Atlanta"
          ],
          [
           "Georgia",
           "Atlanta"
          ],
          [
           "Georgia",
           "Atlanta"
          ],
          [
           "Georgia",
           "Atlanta"
          ],
          [
           "Georgia",
           "Atlanta"
          ],
          [
           "Georgia",
           "Atlanta"
          ],
          [
           "Georgia",
           "Atlanta"
          ],
          [
           "Georgia",
           "Atlanta"
          ],
          [
           "Georgia",
           "Atlanta"
          ],
          [
           "Georgia",
           "Atlanta"
          ],
          [
           "Georgia",
           "Atlanta"
          ],
          [
           "Georgia",
           "Atlanta"
          ],
          [
           "Georgia",
           "Atlanta"
          ],
          [
           "Georgia",
           "Atlanta"
          ],
          [
           "Georgia",
           "Atlanta"
          ],
          [
           "Georgia",
           "Atlanta"
          ],
          [
           "Georgia",
           "Atlanta"
          ],
          [
           "Georgia",
           "Atlanta"
          ],
          [
           "Georgia",
           "Atlanta"
          ],
          [
           "Georgia",
           "Atlanta"
          ],
          [
           "Georgia",
           "Atlanta"
          ],
          [
           "Georgia",
           "Atlanta"
          ],
          [
           "Georgia",
           "Atlanta"
          ],
          [
           "Georgia",
           "Atlanta"
          ],
          [
           "Georgia",
           "Atlanta"
          ],
          [
           "Georgia",
           "Atlanta"
          ],
          [
           "Georgia",
           "Atlanta"
          ],
          [
           "Georgia",
           "Atlanta"
          ],
          [
           "Georgia",
           "Atlanta"
          ],
          [
           "Georgia",
           "Atlanta"
          ],
          [
           "Georgia",
           "Atlanta"
          ],
          [
           "Georgia",
           "Atlanta"
          ],
          [
           "Georgia",
           "Atlanta"
          ],
          [
           "Georgia",
           "Atlanta"
          ],
          [
           "Georgia",
           "Atlanta"
          ],
          [
           "Georgia",
           "Atlanta"
          ],
          [
           "Georgia",
           "Atlanta"
          ],
          [
           "Georgia",
           "Atlanta"
          ],
          [
           "Georgia",
           "Atlanta"
          ],
          [
           "Georgia",
           "Atlanta"
          ],
          [
           "Georgia",
           "Atlanta"
          ],
          [
           "Georgia",
           "Atlanta"
          ],
          [
           "Georgia",
           "Atlanta"
          ],
          [
           "Georgia",
           "Atlanta"
          ],
          [
           "Georgia",
           "Atlanta"
          ],
          [
           "Hawaii",
           "Honolulu"
          ],
          [
           "Hawaii",
           "Honolulu"
          ],
          [
           "Hawaii",
           "Honolulu"
          ],
          [
           "Hawaii",
           "Honolulu"
          ],
          [
           "Hawaii",
           "Honolulu"
          ],
          [
           "Hawaii",
           "Honolulu"
          ],
          [
           "Hawaii",
           "Honolulu"
          ],
          [
           "Hawaii",
           "Honolulu"
          ],
          [
           "Hawaii",
           "Honolulu"
          ],
          [
           "Hawaii",
           "Honolulu"
          ],
          [
           "Hawaii",
           "Honolulu"
          ],
          [
           "Hawaii",
           "Honolulu"
          ],
          [
           "Hawaii",
           "Honolulu"
          ],
          [
           "Hawaii",
           "Honolulu"
          ],
          [
           "Hawaii",
           "Honolulu"
          ],
          [
           "Hawaii",
           "Honolulu"
          ],
          [
           "Hawaii",
           "Honolulu"
          ],
          [
           "Hawaii",
           "Honolulu"
          ],
          [
           "Hawaii",
           "Honolulu"
          ],
          [
           "Hawaii",
           "Honolulu"
          ],
          [
           "Hawaii",
           "Honolulu"
          ],
          [
           "Hawaii",
           "Honolulu"
          ],
          [
           "Hawaii",
           "Honolulu"
          ],
          [
           "Hawaii",
           "Honolulu"
          ],
          [
           "Hawaii",
           "Honolulu"
          ],
          [
           "Hawaii",
           "Honolulu"
          ],
          [
           "Hawaii",
           "Honolulu"
          ],
          [
           "Hawaii",
           "Honolulu"
          ],
          [
           "Hawaii",
           "Honolulu"
          ],
          [
           "Hawaii",
           "Honolulu"
          ],
          [
           "Hawaii",
           "Honolulu"
          ],
          [
           "Hawaii",
           "Honolulu"
          ],
          [
           "Hawaii",
           "Honolulu"
          ],
          [
           "Hawaii",
           "Honolulu"
          ],
          [
           "Hawaii",
           "Honolulu"
          ],
          [
           "Hawaii",
           "Honolulu"
          ],
          [
           "Hawaii",
           "Honolulu"
          ],
          [
           "Hawaii",
           "Honolulu"
          ],
          [
           "Hawaii",
           "Honolulu"
          ],
          [
           "Hawaii",
           "Honolulu"
          ],
          [
           "Hawaii",
           "Honolulu"
          ],
          [
           "Hawaii",
           "Honolulu"
          ],
          [
           "Hawaii",
           "Honolulu"
          ],
          [
           "Hawaii",
           "Honolulu"
          ],
          [
           "Hawaii",
           "Honolulu"
          ],
          [
           "Idaho",
           "Boise"
          ],
          [
           "Idaho",
           "Boise"
          ],
          [
           "Idaho",
           "Boise"
          ],
          [
           "Idaho",
           "Boise"
          ],
          [
           "Idaho",
           "Boise"
          ],
          [
           "Idaho",
           "Boise"
          ],
          [
           "Idaho",
           "Boise"
          ],
          [
           "Idaho",
           "Boise"
          ],
          [
           "Idaho",
           "Boise"
          ],
          [
           "Idaho",
           "Boise"
          ],
          [
           "Idaho",
           "Boise"
          ],
          [
           "Idaho",
           "Boise"
          ],
          [
           "Idaho",
           "Boise"
          ],
          [
           "Idaho",
           "Boise"
          ],
          [
           "Idaho",
           "Boise"
          ],
          [
           "Idaho",
           "Boise"
          ],
          [
           "Idaho",
           "Boise"
          ],
          [
           "Idaho",
           "Boise"
          ],
          [
           "Idaho",
           "Boise"
          ],
          [
           "Idaho",
           "Boise"
          ],
          [
           "Idaho",
           "Boise"
          ],
          [
           "Idaho",
           "Boise"
          ],
          [
           "Idaho",
           "Boise"
          ],
          [
           "Idaho",
           "Boise"
          ],
          [
           "Idaho",
           "Boise"
          ],
          [
           "Idaho",
           "Boise"
          ],
          [
           "Idaho",
           "Boise"
          ],
          [
           "Idaho",
           "Boise"
          ],
          [
           "Idaho",
           "Boise"
          ],
          [
           "Idaho",
           "Boise"
          ],
          [
           "Idaho",
           "Boise"
          ],
          [
           "Idaho",
           "Boise"
          ],
          [
           "Idaho",
           "Boise"
          ],
          [
           "Idaho",
           "Boise"
          ],
          [
           "Idaho",
           "Boise"
          ],
          [
           "Idaho",
           "Boise"
          ],
          [
           "Idaho",
           "Boise"
          ],
          [
           "Illinois",
           "Springfield"
          ],
          [
           "Illinois",
           "Springfield"
          ],
          [
           "Illinois",
           "Springfield"
          ],
          [
           "Illinois",
           "Springfield"
          ],
          [
           "Illinois",
           "Springfield"
          ],
          [
           "Illinois",
           "Springfield"
          ],
          [
           "Illinois",
           "Springfield"
          ],
          [
           "Illinois",
           "Springfield"
          ],
          [
           "Illinois",
           "Springfield"
          ],
          [
           "Illinois",
           "Springfield"
          ],
          [
           "Illinois",
           "Springfield"
          ],
          [
           "Illinois",
           "Springfield"
          ],
          [
           "Illinois",
           "Springfield"
          ],
          [
           "Illinois",
           "Springfield"
          ],
          [
           "Illinois",
           "Springfield"
          ],
          [
           "Illinois",
           "Springfield"
          ],
          [
           "Illinois",
           "Springfield"
          ],
          [
           "Illinois",
           "Springfield"
          ],
          [
           "Illinois",
           "Springfield"
          ],
          [
           "Illinois",
           "Springfield"
          ],
          [
           "Illinois",
           "Springfield"
          ],
          [
           "Illinois",
           "Springfield"
          ],
          [
           "Illinois",
           "Springfield"
          ],
          [
           "Illinois",
           "Springfield"
          ],
          [
           "Illinois",
           "Springfield"
          ],
          [
           "Illinois",
           "Springfield"
          ],
          [
           "Illinois",
           "Springfield"
          ],
          [
           "Illinois",
           "Springfield"
          ],
          [
           "Illinois",
           "Springfield"
          ],
          [
           "Illinois",
           "Springfield"
          ],
          [
           "Illinois",
           "Springfield"
          ],
          [
           "Illinois",
           "Springfield"
          ],
          [
           "Illinois",
           "Springfield"
          ],
          [
           "Illinois",
           "Springfield"
          ],
          [
           "Illinois",
           "Springfield"
          ],
          [
           "Illinois",
           "Springfield"
          ],
          [
           "Illinois",
           "Springfield"
          ],
          [
           "Illinois",
           "Springfield"
          ],
          [
           "Illinois",
           "Springfield"
          ],
          [
           "Illinois",
           "Springfield"
          ],
          [
           "Illinois",
           "Springfield"
          ],
          [
           "Indiana",
           "Indianapolis"
          ],
          [
           "Indiana",
           "Indianapolis"
          ],
          [
           "Indiana",
           "Indianapolis"
          ],
          [
           "Indiana",
           "Indianapolis"
          ],
          [
           "Indiana",
           "Indianapolis"
          ],
          [
           "Indiana",
           "Indianapolis"
          ],
          [
           "Indiana",
           "Indianapolis"
          ],
          [
           "Indiana",
           "Indianapolis"
          ],
          [
           "Indiana",
           "Indianapolis"
          ],
          [
           "Indiana",
           "Indianapolis"
          ],
          [
           "Indiana",
           "Indianapolis"
          ],
          [
           "Indiana",
           "Indianapolis"
          ],
          [
           "Indiana",
           "Indianapolis"
          ],
          [
           "Indiana",
           "Indianapolis"
          ],
          [
           "Indiana",
           "Indianapolis"
          ],
          [
           "Indiana",
           "Indianapolis"
          ],
          [
           "Indiana",
           "Indianapolis"
          ],
          [
           "Indiana",
           "Indianapolis"
          ],
          [
           "Indiana",
           "Indianapolis"
          ],
          [
           "Indiana",
           "Indianapolis"
          ],
          [
           "Indiana",
           "Indianapolis"
          ],
          [
           "Indiana",
           "Indianapolis"
          ],
          [
           "Indiana",
           "Indianapolis"
          ],
          [
           "Indiana",
           "Indianapolis"
          ],
          [
           "Indiana",
           "Indianapolis"
          ],
          [
           "Indiana",
           "Indianapolis"
          ],
          [
           "Indiana",
           "Indianapolis"
          ],
          [
           "Indiana",
           "Indianapolis"
          ],
          [
           "Indiana",
           "Indianapolis"
          ],
          [
           "Indiana",
           "Indianapolis"
          ],
          [
           "Indiana",
           "Indianapolis"
          ],
          [
           "Indiana",
           "Indianapolis"
          ],
          [
           "Indiana",
           "Indianapolis"
          ],
          [
           "Indiana",
           "Indianapolis"
          ],
          [
           "Indiana",
           "Indianapolis"
          ],
          [
           "Indiana",
           "Indianapolis"
          ],
          [
           "Indiana",
           "Indianapolis"
          ],
          [
           "Indiana",
           "Indianapolis"
          ],
          [
           "Indiana",
           "Indianapolis"
          ],
          [
           "Indiana",
           "Indianapolis"
          ],
          [
           "Indiana",
           "Indianapolis"
          ],
          [
           "Indiana",
           "Indianapolis"
          ],
          [
           "Indiana",
           "Indianapolis"
          ],
          [
           "Indiana",
           "Indianapolis"
          ],
          [
           "Indiana",
           "Indianapolis"
          ],
          [
           "Indiana",
           "Indianapolis"
          ],
          [
           "Indiana",
           "Indianapolis"
          ],
          [
           "Indiana",
           "Indianapolis"
          ],
          [
           "Indiana",
           "Indianapolis"
          ],
          [
           "Indiana",
           "Indianapolis"
          ],
          [
           "Indiana",
           "Indianapolis"
          ],
          [
           "Indiana",
           "Indianapolis"
          ],
          [
           "Indiana",
           "Indianapolis"
          ],
          [
           "Indiana",
           "Indianapolis"
          ],
          [
           "Indiana",
           "Indianapolis"
          ],
          [
           "Indiana",
           "Indianapolis"
          ],
          [
           "Indiana",
           "Indianapolis"
          ],
          [
           "Indiana",
           "Indianapolis"
          ],
          [
           "Indiana",
           "Indianapolis"
          ],
          [
           "Indiana",
           "Indianapolis"
          ],
          [
           "Indiana",
           "Indianapolis"
          ],
          [
           "Indiana",
           "Indianapolis"
          ],
          [
           "Iowa",
           "Des Moines"
          ],
          [
           "Iowa",
           "Des Moines"
          ],
          [
           "Iowa",
           "Des Moines"
          ],
          [
           "Iowa",
           "Des Moines"
          ],
          [
           "Iowa",
           "Des Moines"
          ],
          [
           "Iowa",
           "Des Moines"
          ],
          [
           "Iowa",
           "Des Moines"
          ],
          [
           "Iowa",
           "Des Moines"
          ],
          [
           "Iowa",
           "Des Moines"
          ],
          [
           "Iowa",
           "Des Moines"
          ],
          [
           "Iowa",
           "Des Moines"
          ],
          [
           "Iowa",
           "Des Moines"
          ],
          [
           "Iowa",
           "Des Moines"
          ],
          [
           "Iowa",
           "Des Moines"
          ],
          [
           "Iowa",
           "Des Moines"
          ],
          [
           "Iowa",
           "Des Moines"
          ],
          [
           "Iowa",
           "Des Moines"
          ],
          [
           "Iowa",
           "Des Moines"
          ],
          [
           "Iowa",
           "Des Moines"
          ],
          [
           "Iowa",
           "Des Moines"
          ],
          [
           "Iowa",
           "Des Moines"
          ],
          [
           "Iowa",
           "Des Moines"
          ],
          [
           "Iowa",
           "Des Moines"
          ],
          [
           "Iowa",
           "Des Moines"
          ],
          [
           "Iowa",
           "Des Moines"
          ],
          [
           "Iowa",
           "Des Moines"
          ],
          [
           "Iowa",
           "Des Moines"
          ],
          [
           "Iowa",
           "Des Moines"
          ],
          [
           "Iowa",
           "Des Moines"
          ],
          [
           "Iowa",
           "Des Moines"
          ],
          [
           "Iowa",
           "Des Moines"
          ],
          [
           "Iowa",
           "Des Moines"
          ],
          [
           "Iowa",
           "Des Moines"
          ],
          [
           "Iowa",
           "Des Moines"
          ],
          [
           "Iowa",
           "Des Moines"
          ],
          [
           "Iowa",
           "Des Moines"
          ],
          [
           "Iowa",
           "Des Moines"
          ],
          [
           "Iowa",
           "Des Moines"
          ],
          [
           "Iowa",
           "Des Moines"
          ],
          [
           "Iowa",
           "Des Moines"
          ],
          [
           "Iowa",
           "Des Moines"
          ],
          [
           "Iowa",
           "Des Moines"
          ],
          [
           "Iowa",
           "Des Moines"
          ],
          [
           "Iowa",
           "Des Moines"
          ],
          [
           "Iowa",
           "Des Moines"
          ],
          [
           "Iowa",
           "Des Moines"
          ],
          [
           "Iowa",
           "Des Moines"
          ],
          [
           "Iowa",
           "Des Moines"
          ],
          [
           "Iowa",
           "Des Moines"
          ],
          [
           "Iowa",
           "Des Moines"
          ],
          [
           "Iowa",
           "Des Moines"
          ],
          [
           "Iowa",
           "Des Moines"
          ],
          [
           "Iowa",
           "Des Moines"
          ],
          [
           "Iowa",
           "Des Moines"
          ],
          [
           "Iowa",
           "Des Moines"
          ],
          [
           "Iowa",
           "Des Moines"
          ],
          [
           "Iowa",
           "Des Moines"
          ],
          [
           "Iowa",
           "Des Moines"
          ],
          [
           "Iowa",
           "Des Moines"
          ],
          [
           "Iowa",
           "Des Moines"
          ],
          [
           "Iowa",
           "Des Moines"
          ],
          [
           "Iowa",
           "Des Moines"
          ],
          [
           "Iowa",
           "Des Moines"
          ],
          [
           "Kansas",
           "Topeka"
          ],
          [
           "Kansas",
           "Topeka"
          ],
          [
           "Kansas",
           "Topeka"
          ],
          [
           "Kansas",
           "Topeka"
          ],
          [
           "Kansas",
           "Topeka"
          ],
          [
           "Kansas",
           "Topeka"
          ],
          [
           "Kansas",
           "Topeka"
          ],
          [
           "Kansas",
           "Topeka"
          ],
          [
           "Kansas",
           "Topeka"
          ],
          [
           "Kansas",
           "Topeka"
          ],
          [
           "Kansas",
           "Topeka"
          ],
          [
           "Kansas",
           "Topeka"
          ],
          [
           "Kansas",
           "Topeka"
          ],
          [
           "Kansas",
           "Topeka"
          ],
          [
           "Kansas",
           "Topeka"
          ],
          [
           "Kansas",
           "Topeka"
          ],
          [
           "Kansas",
           "Topeka"
          ],
          [
           "Kansas",
           "Topeka"
          ],
          [
           "Kansas",
           "Topeka"
          ],
          [
           "Kansas",
           "Topeka"
          ],
          [
           "Kansas",
           "Topeka"
          ],
          [
           "Kansas",
           "Topeka"
          ],
          [
           "Kansas",
           "Topeka"
          ],
          [
           "Kansas",
           "Topeka"
          ],
          [
           "Kansas",
           "Topeka"
          ],
          [
           "Kansas",
           "Topeka"
          ],
          [
           "Kansas",
           "Topeka"
          ],
          [
           "Kansas",
           "Topeka"
          ],
          [
           "Kansas",
           "Topeka"
          ],
          [
           "Kansas",
           "Topeka"
          ],
          [
           "Kansas",
           "Topeka"
          ],
          [
           "Kansas",
           "Topeka"
          ],
          [
           "Kansas",
           "Topeka"
          ],
          [
           "Kansas",
           "Topeka"
          ],
          [
           "Kansas",
           "Topeka"
          ],
          [
           "Kansas",
           "Topeka"
          ],
          [
           "Kansas",
           "Topeka"
          ],
          [
           "Kansas",
           "Topeka"
          ],
          [
           "Kansas",
           "Topeka"
          ],
          [
           "Kansas",
           "Topeka"
          ],
          [
           "Kentucky",
           "Frankfort"
          ],
          [
           "Kentucky",
           "Frankfort"
          ],
          [
           "Kentucky",
           "Frankfort"
          ],
          [
           "Kentucky",
           "Frankfort"
          ],
          [
           "Kentucky",
           "Frankfort"
          ],
          [
           "Kentucky",
           "Frankfort"
          ],
          [
           "Kentucky",
           "Frankfort"
          ],
          [
           "Kentucky",
           "Frankfort"
          ],
          [
           "Kentucky",
           "Frankfort"
          ],
          [
           "Louisiana",
           "Baton Rouge"
          ],
          [
           "Louisiana",
           "Baton Rouge"
          ],
          [
           "Louisiana",
           "Baton Rouge"
          ],
          [
           "Louisiana",
           "Baton Rouge"
          ],
          [
           "Louisiana",
           "Baton Rouge"
          ],
          [
           "Louisiana",
           "Baton Rouge"
          ],
          [
           "Louisiana",
           "Baton Rouge"
          ],
          [
           "Louisiana",
           "Baton Rouge"
          ],
          [
           "Louisiana",
           "Baton Rouge"
          ],
          [
           "Louisiana",
           "Baton Rouge"
          ],
          [
           "Louisiana",
           "Baton Rouge"
          ],
          [
           "Louisiana",
           "Baton Rouge"
          ],
          [
           "Louisiana",
           "Baton Rouge"
          ],
          [
           "Louisiana",
           "Baton Rouge"
          ],
          [
           "Louisiana",
           "Baton Rouge"
          ],
          [
           "Louisiana",
           "Baton Rouge"
          ],
          [
           "Louisiana",
           "Baton Rouge"
          ],
          [
           "Louisiana",
           "Baton Rouge"
          ],
          [
           "Louisiana",
           "Baton Rouge"
          ],
          [
           "Louisiana",
           "Baton Rouge"
          ],
          [
           "Louisiana",
           "Baton Rouge"
          ],
          [
           "Louisiana",
           "Baton Rouge"
          ],
          [
           "Louisiana",
           "Baton Rouge"
          ],
          [
           "Louisiana",
           "Baton Rouge"
          ],
          [
           "Louisiana",
           "Baton Rouge"
          ],
          [
           "Louisiana",
           "Baton Rouge"
          ],
          [
           "Louisiana",
           "Baton Rouge"
          ],
          [
           "Louisiana",
           "Baton Rouge"
          ],
          [
           "Louisiana",
           "Baton Rouge"
          ],
          [
           "Louisiana",
           "Baton Rouge"
          ],
          [
           "Louisiana",
           "Baton Rouge"
          ],
          [
           "Louisiana",
           "Baton Rouge"
          ],
          [
           "Louisiana",
           "Baton Rouge"
          ],
          [
           "Louisiana",
           "Baton Rouge"
          ],
          [
           "Louisiana",
           "Baton Rouge"
          ],
          [
           "Louisiana",
           "Baton Rouge"
          ],
          [
           "Louisiana",
           "Baton Rouge"
          ],
          [
           "Louisiana",
           "Baton Rouge"
          ],
          [
           "Louisiana",
           "Baton Rouge"
          ],
          [
           "Louisiana",
           "Baton Rouge"
          ],
          [
           "Louisiana",
           "Baton Rouge"
          ],
          [
           "Louisiana",
           "Baton Rouge"
          ],
          [
           "Louisiana",
           "Baton Rouge"
          ],
          [
           "Maine",
           "Augusta"
          ],
          [
           "Maine",
           "Augusta"
          ],
          [
           "Maine",
           "Augusta"
          ],
          [
           "Maine",
           "Augusta"
          ],
          [
           "Maine",
           "Augusta"
          ],
          [
           "Maryland",
           "Annapolis"
          ],
          [
           "Maryland",
           "Annapolis"
          ],
          [
           "Maryland",
           "Annapolis"
          ],
          [
           "Maryland",
           "Annapolis"
          ],
          [
           "Maryland",
           "Annapolis"
          ],
          [
           "Maryland",
           "Annapolis"
          ],
          [
           "Maryland",
           "Annapolis"
          ],
          [
           "Maryland",
           "Annapolis"
          ],
          [
           "Maryland",
           "Annapolis"
          ],
          [
           "Massachusetts",
           "Boston"
          ],
          [
           "Massachusetts",
           "Boston"
          ],
          [
           "Massachusetts",
           "Boston"
          ],
          [
           "Massachusetts",
           "Boston"
          ],
          [
           "Massachusetts",
           "Boston"
          ],
          [
           "Massachusetts",
           "Boston"
          ],
          [
           "Massachusetts",
           "Boston"
          ],
          [
           "Massachusetts",
           "Boston"
          ],
          [
           "Massachusetts",
           "Boston"
          ],
          [
           "Massachusetts",
           "Boston"
          ],
          [
           "Massachusetts",
           "Boston"
          ],
          [
           "Massachusetts",
           "Boston"
          ],
          [
           "Massachusetts",
           "Boston"
          ],
          [
           "Massachusetts",
           "Boston"
          ],
          [
           "Massachusetts",
           "Boston"
          ],
          [
           "Massachusetts",
           "Boston"
          ],
          [
           "Massachusetts",
           "Boston"
          ],
          [
           "Massachusetts",
           "Boston"
          ],
          [
           "Massachusetts",
           "Boston"
          ],
          [
           "Massachusetts",
           "Boston"
          ],
          [
           "Massachusetts",
           "Boston"
          ],
          [
           "Massachusetts",
           "Boston"
          ],
          [
           "Massachusetts",
           "Boston"
          ],
          [
           "Massachusetts",
           "Boston"
          ],
          [
           "Massachusetts",
           "Boston"
          ],
          [
           "Massachusetts",
           "Boston"
          ],
          [
           "Massachusetts",
           "Boston"
          ],
          [
           "Massachusetts",
           "Boston"
          ],
          [
           "Massachusetts",
           "Boston"
          ],
          [
           "Massachusetts",
           "Boston"
          ],
          [
           "Massachusetts",
           "Boston"
          ],
          [
           "Massachusetts",
           "Boston"
          ],
          [
           "Massachusetts",
           "Boston"
          ],
          [
           "Massachusetts",
           "Boston"
          ],
          [
           "Massachusetts",
           "Boston"
          ],
          [
           "Massachusetts",
           "Boston"
          ],
          [
           "Massachusetts",
           "Boston"
          ],
          [
           "Massachusetts",
           "Boston"
          ],
          [
           "Massachusetts",
           "Boston"
          ],
          [
           "Massachusetts",
           "Boston"
          ],
          [
           "Massachusetts",
           "Boston"
          ],
          [
           "Massachusetts",
           "Boston"
          ],
          [
           "Massachusetts",
           "Boston"
          ],
          [
           "Massachusetts",
           "Boston"
          ],
          [
           "Massachusetts",
           "Boston"
          ],
          [
           "Massachusetts",
           "Boston"
          ],
          [
           "Massachusetts",
           "Boston"
          ],
          [
           "Massachusetts",
           "Boston"
          ],
          [
           "Massachusetts",
           "Boston"
          ],
          [
           "Massachusetts",
           "Boston"
          ],
          [
           "Massachusetts",
           "Boston"
          ],
          [
           "Massachusetts",
           "Boston"
          ],
          [
           "Massachusetts",
           "Boston"
          ],
          [
           "Massachusetts",
           "Boston"
          ],
          [
           "Massachusetts",
           "Boston"
          ],
          [
           "Massachusetts",
           "Boston"
          ],
          [
           "Michigan",
           "Lansing"
          ],
          [
           "Michigan",
           "Lansing"
          ],
          [
           "Michigan",
           "Lansing"
          ],
          [
           "Michigan",
           "Lansing"
          ],
          [
           "Michigan",
           "Lansing"
          ],
          [
           "Michigan",
           "Lansing"
          ],
          [
           "Michigan",
           "Lansing"
          ],
          [
           "Michigan",
           "Lansing"
          ],
          [
           "Michigan",
           "Lansing"
          ],
          [
           "Michigan",
           "Lansing"
          ],
          [
           "Michigan",
           "Lansing"
          ],
          [
           "Michigan",
           "Lansing"
          ],
          [
           "Michigan",
           "Lansing"
          ],
          [
           "Michigan",
           "Lansing"
          ],
          [
           "Michigan",
           "Lansing"
          ],
          [
           "Michigan",
           "Lansing"
          ],
          [
           "Michigan",
           "Lansing"
          ],
          [
           "Michigan",
           "Lansing"
          ],
          [
           "Michigan",
           "Lansing"
          ],
          [
           "Michigan",
           "Lansing"
          ],
          [
           "Michigan",
           "Lansing"
          ],
          [
           "Michigan",
           "Lansing"
          ],
          [
           "Michigan",
           "Lansing"
          ],
          [
           "Michigan",
           "Lansing"
          ],
          [
           "Michigan",
           "Lansing"
          ],
          [
           "Michigan",
           "Lansing"
          ],
          [
           "Michigan",
           "Lansing"
          ],
          [
           "Michigan",
           "Lansing"
          ],
          [
           "Michigan",
           "Lansing"
          ],
          [
           "Michigan",
           "Lansing"
          ],
          [
           "Minnesota",
           "Saint Paul"
          ],
          [
           "Minnesota",
           "Saint Paul"
          ],
          [
           "Minnesota",
           "Saint Paul"
          ],
          [
           "Minnesota",
           "Saint Paul"
          ],
          [
           "Minnesota",
           "Saint Paul"
          ],
          [
           "Minnesota",
           "Saint Paul"
          ],
          [
           "Minnesota",
           "Saint Paul"
          ],
          [
           "Minnesota",
           "Saint Paul"
          ],
          [
           "Minnesota",
           "Saint Paul"
          ],
          [
           "Minnesota",
           "Saint Paul"
          ],
          [
           "Minnesota",
           "Saint Paul"
          ],
          [
           "Minnesota",
           "Saint Paul"
          ],
          [
           "Minnesota",
           "Saint Paul"
          ],
          [
           "Minnesota",
           "Saint Paul"
          ],
          [
           "Minnesota",
           "Saint Paul"
          ],
          [
           "Minnesota",
           "Saint Paul"
          ],
          [
           "Minnesota",
           "Saint Paul"
          ],
          [
           "Minnesota",
           "Saint Paul"
          ],
          [
           "Minnesota",
           "Saint Paul"
          ],
          [
           "Minnesota",
           "Saint Paul"
          ],
          [
           "Minnesota",
           "Saint Paul"
          ],
          [
           "Minnesota",
           "Saint Paul"
          ],
          [
           "Minnesota",
           "Saint Paul"
          ],
          [
           "Minnesota",
           "Saint Paul"
          ],
          [
           "Minnesota",
           "Saint Paul"
          ],
          [
           "Minnesota",
           "Saint Paul"
          ],
          [
           "Minnesota",
           "Saint Paul"
          ],
          [
           "Minnesota",
           "Saint Paul"
          ],
          [
           "Minnesota",
           "Saint Paul"
          ],
          [
           "Minnesota",
           "Saint Paul"
          ],
          [
           "Minnesota",
           "Saint Paul"
          ],
          [
           "Minnesota",
           "Saint Paul"
          ],
          [
           "Minnesota",
           "Saint Paul"
          ],
          [
           "Minnesota",
           "Saint Paul"
          ],
          [
           "Minnesota",
           "Saint Paul"
          ],
          [
           "Minnesota",
           "Saint Paul"
          ],
          [
           "Minnesota",
           "Saint Paul"
          ],
          [
           "Minnesota",
           "Saint Paul"
          ],
          [
           "Minnesota",
           "Saint Paul"
          ],
          [
           "Minnesota",
           "Saint Paul"
          ],
          [
           "Minnesota",
           "Saint Paul"
          ],
          [
           "Minnesota",
           "Saint Paul"
          ],
          [
           "Minnesota",
           "Saint Paul"
          ],
          [
           "Minnesota",
           "Saint Paul"
          ],
          [
           "Minnesota",
           "Saint Paul"
          ],
          [
           "Minnesota",
           "Saint Paul"
          ],
          [
           "Minnesota",
           "Saint Paul"
          ],
          [
           "Minnesota",
           "Saint Paul"
          ],
          [
           "Minnesota",
           "Saint Paul"
          ],
          [
           "Minnesota",
           "Saint Paul"
          ],
          [
           "Minnesota",
           "Saint Paul"
          ],
          [
           "Minnesota",
           "Saint Paul"
          ],
          [
           "Minnesota",
           "Saint Paul"
          ],
          [
           "Minnesota",
           "Saint Paul"
          ],
          [
           "Minnesota",
           "Saint Paul"
          ],
          [
           "Mississippi",
           "Jackson"
          ],
          [
           "Mississippi",
           "Jackson"
          ],
          [
           "Mississippi",
           "Jackson"
          ],
          [
           "Mississippi",
           "Jackson"
          ],
          [
           "Mississippi",
           "Jackson"
          ],
          [
           "Mississippi",
           "Jackson"
          ],
          [
           "Mississippi",
           "Jackson"
          ],
          [
           "Mississippi",
           "Jackson"
          ],
          [
           "Mississippi",
           "Jackson"
          ],
          [
           "Mississippi",
           "Jackson"
          ],
          [
           "Mississippi",
           "Jackson"
          ],
          [
           "Mississippi",
           "Jackson"
          ],
          [
           "Mississippi",
           "Jackson"
          ],
          [
           "Mississippi",
           "Jackson"
          ],
          [
           "Mississippi",
           "Jackson"
          ],
          [
           "Mississippi",
           "Jackson"
          ],
          [
           "Mississippi",
           "Jackson"
          ],
          [
           "Mississippi",
           "Jackson"
          ],
          [
           "Mississippi",
           "Jackson"
          ],
          [
           "Mississippi",
           "Jackson"
          ],
          [
           "Mississippi",
           "Jackson"
          ],
          [
           "Mississippi",
           "Jackson"
          ],
          [
           "Mississippi",
           "Jackson"
          ],
          [
           "Mississippi",
           "Jackson"
          ],
          [
           "Mississippi",
           "Jackson"
          ],
          [
           "Mississippi",
           "Jackson"
          ],
          [
           "Mississippi",
           "Jackson"
          ],
          [
           "Mississippi",
           "Jackson"
          ],
          [
           "Mississippi",
           "Jackson"
          ],
          [
           "Mississippi",
           "Jackson"
          ],
          [
           "Mississippi",
           "Jackson"
          ],
          [
           "Mississippi",
           "Jackson"
          ],
          [
           "Mississippi",
           "Jackson"
          ],
          [
           "Mississippi",
           "Jackson"
          ],
          [
           "Missouri",
           "Jefferson City"
          ],
          [
           "Missouri",
           "Jefferson City"
          ],
          [
           "Missouri",
           "Jefferson City"
          ],
          [
           "Missouri",
           "Jefferson City"
          ],
          [
           "Missouri",
           "Jefferson City"
          ],
          [
           "Missouri",
           "Jefferson City"
          ],
          [
           "Missouri",
           "Jefferson City"
          ],
          [
           "Missouri",
           "Jefferson City"
          ],
          [
           "Missouri",
           "Jefferson City"
          ],
          [
           "Missouri",
           "Jefferson City"
          ],
          [
           "Missouri",
           "Jefferson City"
          ],
          [
           "Montana",
           "Helena"
          ],
          [
           "Montana",
           "Helena"
          ],
          [
           "Montana",
           "Helena"
          ],
          [
           "Montana",
           "Helena"
          ],
          [
           "Montana",
           "Helena"
          ],
          [
           "Montana",
           "Helena"
          ],
          [
           "Montana",
           "Helena"
          ],
          [
           "Montana",
           "Helena"
          ],
          [
           "Montana",
           "Helena"
          ],
          [
           "Nebraska",
           "Lincoln"
          ],
          [
           "Nebraska",
           "Lincoln"
          ],
          [
           "Nebraska",
           "Lincoln"
          ],
          [
           "Nebraska",
           "Lincoln"
          ],
          [
           "Nebraska",
           "Lincoln"
          ],
          [
           "Nebraska",
           "Lincoln"
          ],
          [
           "Nebraska",
           "Lincoln"
          ],
          [
           "Nebraska",
           "Lincoln"
          ],
          [
           "Nebraska",
           "Lincoln"
          ],
          [
           "Nebraska",
           "Lincoln"
          ],
          [
           "Nebraska",
           "Lincoln"
          ],
          [
           "Nebraska",
           "Lincoln"
          ],
          [
           "Nebraska",
           "Lincoln"
          ],
          [
           "Nebraska",
           "Lincoln"
          ],
          [
           "Nebraska",
           "Lincoln"
          ],
          [
           "Nebraska",
           "Lincoln"
          ],
          [
           "Nebraska",
           "Lincoln"
          ],
          [
           "Nebraska",
           "Lincoln"
          ],
          [
           "Nebraska",
           "Lincoln"
          ],
          [
           "Nebraska",
           "Lincoln"
          ],
          [
           "Nebraska",
           "Lincoln"
          ],
          [
           "Nebraska",
           "Lincoln"
          ],
          [
           "Nebraska",
           "Lincoln"
          ],
          [
           "Nebraska",
           "Lincoln"
          ],
          [
           "Nebraska",
           "Lincoln"
          ],
          [
           "Nebraska",
           "Lincoln"
          ],
          [
           "Nebraska",
           "Lincoln"
          ],
          [
           "Nebraska",
           "Lincoln"
          ],
          [
           "Nebraska",
           "Lincoln"
          ],
          [
           "Nebraska",
           "Lincoln"
          ],
          [
           "Nebraska",
           "Lincoln"
          ],
          [
           "Nevada",
           "Carson City"
          ],
          [
           "Nevada",
           "Carson City"
          ],
          [
           "Nevada",
           "Carson City"
          ],
          [
           "Nevada",
           "Carson City"
          ],
          [
           "Nevada",
           "Carson City"
          ],
          [
           "Nevada",
           "Carson City"
          ],
          [
           "Nevada",
           "Carson City"
          ],
          [
           "Nevada",
           "Carson City"
          ],
          [
           "Nevada",
           "Carson City"
          ],
          [
           "Nevada",
           "Carson City"
          ],
          [
           "Nevada",
           "Carson City"
          ],
          [
           "New Hampshire",
           "Concord"
          ],
          [
           "New Hampshire",
           "Concord"
          ],
          [
           "New Hampshire",
           "Concord"
          ],
          [
           "New Hampshire",
           "Concord"
          ],
          [
           "New Hampshire",
           "Concord"
          ],
          [
           "New Jersey",
           "Trenton"
          ],
          [
           "New Jersey",
           "Trenton"
          ],
          [
           "New Jersey",
           "Trenton"
          ],
          [
           "New Jersey",
           "Trenton"
          ],
          [
           "New Jersey",
           "Trenton"
          ],
          [
           "New Jersey",
           "Trenton"
          ],
          [
           "New Jersey",
           "Trenton"
          ],
          [
           "New Jersey",
           "Trenton"
          ],
          [
           "New Jersey",
           "Trenton"
          ],
          [
           "New Jersey",
           "Trenton"
          ],
          [
           "New Jersey",
           "Trenton"
          ],
          [
           "New Jersey",
           "Trenton"
          ],
          [
           "New Jersey",
           "Trenton"
          ],
          [
           "New Jersey",
           "Trenton"
          ],
          [
           "New Jersey",
           "Trenton"
          ],
          [
           "New Jersey",
           "Trenton"
          ],
          [
           "New Jersey",
           "Trenton"
          ],
          [
           "New Jersey",
           "Trenton"
          ],
          [
           "New Jersey",
           "Trenton"
          ],
          [
           "New Jersey",
           "Trenton"
          ],
          [
           "New Jersey",
           "Trenton"
          ],
          [
           "New Jersey",
           "Trenton"
          ],
          [
           "New Jersey",
           "Trenton"
          ],
          [
           "New Jersey",
           "Trenton"
          ],
          [
           "New Jersey",
           "Trenton"
          ],
          [
           "New Jersey",
           "Trenton"
          ],
          [
           "New Jersey",
           "Trenton"
          ],
          [
           "New Jersey",
           "Trenton"
          ],
          [
           "New Jersey",
           "Trenton"
          ],
          [
           "New Jersey",
           "Trenton"
          ],
          [
           "New Mexico",
           "Santa Fe"
          ],
          [
           "New Mexico",
           "Santa Fe"
          ],
          [
           "New Mexico",
           "Santa Fe"
          ],
          [
           "New Mexico",
           "Santa Fe"
          ],
          [
           "New Mexico",
           "Santa Fe"
          ],
          [
           "New Mexico",
           "Santa Fe"
          ],
          [
           "New Mexico",
           "Santa Fe"
          ],
          [
           "New Mexico",
           "Santa Fe"
          ],
          [
           "New Mexico",
           "Santa Fe"
          ],
          [
           "New Mexico",
           "Santa Fe"
          ],
          [
           "New Mexico",
           "Santa Fe"
          ],
          [
           "New York",
           "Albany"
          ],
          [
           "New York",
           "Albany"
          ],
          [
           "New York",
           "Albany"
          ],
          [
           "New York",
           "Albany"
          ],
          [
           "New York",
           "Albany"
          ],
          [
           "New York",
           "Albany"
          ],
          [
           "New York",
           "Albany"
          ],
          [
           "New York",
           "Albany"
          ],
          [
           "New York",
           "Albany"
          ],
          [
           "New York",
           "Albany"
          ],
          [
           "New York",
           "Albany"
          ],
          [
           "New York",
           "Albany"
          ],
          [
           "New York",
           "Albany"
          ],
          [
           "New York",
           "Albany"
          ],
          [
           "New York",
           "Albany"
          ],
          [
           "New York",
           "Albany"
          ],
          [
           "New York",
           "Albany"
          ],
          [
           "New York",
           "Albany"
          ],
          [
           "New York",
           "Albany"
          ],
          [
           "New York",
           "Albany"
          ],
          [
           "New York",
           "Albany"
          ],
          [
           "New York",
           "Albany"
          ],
          [
           "New York",
           "Albany"
          ],
          [
           "New York",
           "Albany"
          ],
          [
           "New York",
           "Albany"
          ],
          [
           "New York",
           "Albany"
          ],
          [
           "New York",
           "Albany"
          ],
          [
           "New York",
           "Albany"
          ],
          [
           "New York",
           "Albany"
          ],
          [
           "New York",
           "Albany"
          ],
          [
           "New York",
           "Albany"
          ],
          [
           "New York",
           "Albany"
          ],
          [
           "New York",
           "Albany"
          ],
          [
           "New York",
           "Albany"
          ],
          [
           "New York",
           "Albany"
          ],
          [
           "New York",
           "Albany"
          ],
          [
           "New York",
           "Albany"
          ],
          [
           "New York",
           "Albany"
          ],
          [
           "New York",
           "Albany"
          ],
          [
           "New York",
           "Albany"
          ],
          [
           "New York",
           "Albany"
          ],
          [
           "New York",
           "Albany"
          ],
          [
           "New York",
           "Albany"
          ],
          [
           "New York",
           "Albany"
          ],
          [
           "New York",
           "Albany"
          ],
          [
           "New York",
           "Albany"
          ],
          [
           "New York",
           "Albany"
          ],
          [
           "New York",
           "Albany"
          ],
          [
           "New York",
           "Albany"
          ],
          [
           "New York",
           "Albany"
          ],
          [
           "New York",
           "Albany"
          ],
          [
           "North Carolina",
           "Raleigh"
          ],
          [
           "North Carolina",
           "Raleigh"
          ],
          [
           "North Carolina",
           "Raleigh"
          ],
          [
           "North Carolina",
           "Raleigh"
          ],
          [
           "North Carolina",
           "Raleigh"
          ],
          [
           "North Carolina",
           "Raleigh"
          ],
          [
           "North Carolina",
           "Raleigh"
          ],
          [
           "North Carolina",
           "Raleigh"
          ],
          [
           "North Carolina",
           "Raleigh"
          ],
          [
           "North Carolina",
           "Raleigh"
          ],
          [
           "North Carolina",
           "Raleigh"
          ],
          [
           "North Carolina",
           "Raleigh"
          ],
          [
           "North Carolina",
           "Raleigh"
          ],
          [
           "North Carolina",
           "Raleigh"
          ],
          [
           "North Carolina",
           "Raleigh"
          ],
          [
           "North Carolina",
           "Raleigh"
          ],
          [
           "North Carolina",
           "Raleigh"
          ],
          [
           "North Carolina",
           "Raleigh"
          ],
          [
           "North Carolina",
           "Raleigh"
          ],
          [
           "North Carolina",
           "Raleigh"
          ],
          [
           "North Carolina",
           "Raleigh"
          ],
          [
           "North Carolina",
           "Raleigh"
          ],
          [
           "North Carolina",
           "Raleigh"
          ],
          [
           "North Carolina",
           "Raleigh"
          ],
          [
           "North Carolina",
           "Raleigh"
          ],
          [
           "North Carolina",
           "Raleigh"
          ],
          [
           "North Carolina",
           "Raleigh"
          ],
          [
           "North Carolina",
           "Raleigh"
          ],
          [
           "North Carolina",
           "Raleigh"
          ],
          [
           "North Carolina",
           "Raleigh"
          ],
          [
           "North Carolina",
           "Raleigh"
          ],
          [
           "North Carolina",
           "Raleigh"
          ],
          [
           "North Carolina",
           "Raleigh"
          ],
          [
           "North Carolina",
           "Raleigh"
          ],
          [
           "North Carolina",
           "Raleigh"
          ],
          [
           "North Carolina",
           "Raleigh"
          ],
          [
           "North Carolina",
           "Raleigh"
          ],
          [
           "North Carolina",
           "Raleigh"
          ],
          [
           "North Carolina",
           "Raleigh"
          ],
          [
           "North Carolina",
           "Raleigh"
          ],
          [
           "North Carolina",
           "Raleigh"
          ],
          [
           "North Carolina",
           "Raleigh"
          ],
          [
           "North Carolina",
           "Raleigh"
          ],
          [
           "North Carolina",
           "Raleigh"
          ],
          [
           "North Dakota",
           "Bismarck"
          ],
          [
           "North Dakota",
           "Bismarck"
          ],
          [
           "North Dakota",
           "Bismarck"
          ],
          [
           "North Dakota",
           "Bismarck"
          ],
          [
           "North Dakota",
           "Bismarck"
          ],
          [
           "North Dakota",
           "Bismarck"
          ],
          [
           "North Dakota",
           "Bismarck"
          ],
          [
           "Ohio",
           "Columbus"
          ],
          [
           "Ohio",
           "Columbus"
          ],
          [
           "Ohio",
           "Columbus"
          ],
          [
           "Ohio",
           "Columbus"
          ],
          [
           "Ohio",
           "Columbus"
          ],
          [
           "Ohio",
           "Columbus"
          ],
          [
           "Ohio",
           "Columbus"
          ],
          [
           "Ohio",
           "Columbus"
          ],
          [
           "Ohio",
           "Columbus"
          ],
          [
           "Ohio",
           "Columbus"
          ],
          [
           "Ohio",
           "Columbus"
          ],
          [
           "Ohio",
           "Columbus"
          ],
          [
           "Ohio",
           "Columbus"
          ],
          [
           "Ohio",
           "Columbus"
          ],
          [
           "Ohio",
           "Columbus"
          ],
          [
           "Ohio",
           "Columbus"
          ],
          [
           "Ohio",
           "Columbus"
          ],
          [
           "Ohio",
           "Columbus"
          ],
          [
           "Ohio",
           "Columbus"
          ],
          [
           "Ohio",
           "Columbus"
          ],
          [
           "Ohio",
           "Columbus"
          ],
          [
           "Ohio",
           "Columbus"
          ],
          [
           "Ohio",
           "Columbus"
          ],
          [
           "Ohio",
           "Columbus"
          ],
          [
           "Ohio",
           "Columbus"
          ],
          [
           "Ohio",
           "Columbus"
          ],
          [
           "Ohio",
           "Columbus"
          ],
          [
           "Ohio",
           "Columbus"
          ],
          [
           "Ohio",
           "Columbus"
          ],
          [
           "Ohio",
           "Columbus"
          ],
          [
           "Ohio",
           "Columbus"
          ],
          [
           "Ohio",
           "Columbus"
          ],
          [
           "Ohio",
           "Columbus"
          ],
          [
           "Ohio",
           "Columbus"
          ],
          [
           "Ohio",
           "Columbus"
          ],
          [
           "Ohio",
           "Columbus"
          ],
          [
           "Ohio",
           "Columbus"
          ],
          [
           "Ohio",
           "Columbus"
          ],
          [
           "Ohio",
           "Columbus"
          ],
          [
           "Ohio",
           "Columbus"
          ],
          [
           "Ohio",
           "Columbus"
          ],
          [
           "Ohio",
           "Columbus"
          ],
          [
           "Ohio",
           "Columbus"
          ],
          [
           "Ohio",
           "Columbus"
          ],
          [
           "Ohio",
           "Columbus"
          ],
          [
           "Ohio",
           "Columbus"
          ],
          [
           "Ohio",
           "Columbus"
          ],
          [
           "Ohio",
           "Columbus"
          ],
          [
           "Ohio",
           "Columbus"
          ],
          [
           "Oklahoma",
           "Oklahoma City"
          ],
          [
           "Oklahoma",
           "Oklahoma City"
          ],
          [
           "Oklahoma",
           "Oklahoma City"
          ],
          [
           "Oklahoma",
           "Oklahoma City"
          ],
          [
           "Oklahoma",
           "Oklahoma City"
          ],
          [
           "Oklahoma",
           "Oklahoma City"
          ],
          [
           "Oklahoma",
           "Oklahoma City"
          ],
          [
           "Oklahoma",
           "Oklahoma City"
          ],
          [
           "Oklahoma",
           "Oklahoma City"
          ],
          [
           "Oklahoma",
           "Oklahoma City"
          ],
          [
           "Oklahoma",
           "Oklahoma City"
          ],
          [
           "Oklahoma",
           "Oklahoma City"
          ],
          [
           "Oklahoma",
           "Oklahoma City"
          ],
          [
           "Oklahoma",
           "Oklahoma City"
          ],
          [
           "Oklahoma",
           "Oklahoma City"
          ],
          [
           "Oklahoma",
           "Oklahoma City"
          ],
          [
           "Oklahoma",
           "Oklahoma City"
          ],
          [
           "Oklahoma",
           "Oklahoma City"
          ],
          [
           "Oklahoma",
           "Oklahoma City"
          ],
          [
           "Oklahoma",
           "Oklahoma City"
          ],
          [
           "Oklahoma",
           "Oklahoma City"
          ],
          [
           "Oklahoma",
           "Oklahoma City"
          ],
          [
           "Oklahoma",
           "Oklahoma City"
          ],
          [
           "Oklahoma",
           "Oklahoma City"
          ],
          [
           "Oklahoma",
           "Oklahoma City"
          ],
          [
           "Oklahoma",
           "Oklahoma City"
          ],
          [
           "Oklahoma",
           "Oklahoma City"
          ],
          [
           "Oklahoma",
           "Oklahoma City"
          ],
          [
           "Oklahoma",
           "Oklahoma City"
          ],
          [
           "Oklahoma",
           "Oklahoma City"
          ],
          [
           "Oklahoma",
           "Oklahoma City"
          ],
          [
           "Oklahoma",
           "Oklahoma City"
          ],
          [
           "Oklahoma",
           "Oklahoma City"
          ],
          [
           "Oklahoma",
           "Oklahoma City"
          ],
          [
           "Oklahoma",
           "Oklahoma City"
          ],
          [
           "Oklahoma",
           "Oklahoma City"
          ],
          [
           "Oklahoma",
           "Oklahoma City"
          ],
          [
           "Oklahoma",
           "Oklahoma City"
          ],
          [
           "Oklahoma",
           "Oklahoma City"
          ],
          [
           "Oklahoma",
           "Oklahoma City"
          ],
          [
           "Oklahoma",
           "Oklahoma City"
          ],
          [
           "Oklahoma",
           "Oklahoma City"
          ],
          [
           "Oklahoma",
           "Oklahoma City"
          ],
          [
           "Oklahoma",
           "Oklahoma City"
          ],
          [
           "Oklahoma",
           "Oklahoma City"
          ],
          [
           "Oklahoma",
           "Oklahoma City"
          ],
          [
           "Oklahoma",
           "Oklahoma City"
          ],
          [
           "Oklahoma",
           "Oklahoma City"
          ],
          [
           "Oklahoma",
           "Oklahoma City"
          ],
          [
           "Oklahoma",
           "Oklahoma City"
          ],
          [
           "Oklahoma",
           "Oklahoma City"
          ],
          [
           "Oklahoma",
           "Oklahoma City"
          ],
          [
           "Oklahoma",
           "Oklahoma City"
          ],
          [
           "Oklahoma",
           "Oklahoma City"
          ],
          [
           "Oklahoma",
           "Oklahoma City"
          ],
          [
           "Oklahoma",
           "Oklahoma City"
          ],
          [
           "Oklahoma",
           "Oklahoma City"
          ],
          [
           "Oklahoma",
           "Oklahoma City"
          ],
          [
           "Oklahoma",
           "Oklahoma City"
          ],
          [
           "Oklahoma",
           "Oklahoma City"
          ],
          [
           "Oklahoma",
           "Oklahoma City"
          ],
          [
           "Oklahoma",
           "Oklahoma City"
          ],
          [
           "Oklahoma",
           "Oklahoma City"
          ],
          [
           "Oklahoma",
           "Oklahoma City"
          ],
          [
           "Oklahoma",
           "Oklahoma City"
          ],
          [
           "Oklahoma",
           "Oklahoma City"
          ],
          [
           "Oklahoma",
           "Oklahoma City"
          ],
          [
           "Oklahoma",
           "Oklahoma City"
          ],
          [
           "Oklahoma",
           "Oklahoma City"
          ],
          [
           "Oklahoma",
           "Oklahoma City"
          ],
          [
           "Oklahoma",
           "Oklahoma City"
          ],
          [
           "Oklahoma",
           "Oklahoma City"
          ],
          [
           "Oklahoma",
           "Oklahoma City"
          ],
          [
           "Oklahoma",
           "Oklahoma City"
          ],
          [
           "Oklahoma",
           "Oklahoma City"
          ],
          [
           "Oklahoma",
           "Oklahoma City"
          ],
          [
           "Oklahoma",
           "Oklahoma City"
          ],
          [
           "Oklahoma",
           "Oklahoma City"
          ],
          [
           "Oklahoma",
           "Oklahoma City"
          ],
          [
           "Oklahoma",
           "Oklahoma City"
          ],
          [
           "Oklahoma",
           "Oklahoma City"
          ],
          [
           "Oklahoma",
           "Oklahoma City"
          ],
          [
           "Oregon",
           "Salem"
          ],
          [
           "Oregon",
           "Salem"
          ],
          [
           "Oregon",
           "Salem"
          ],
          [
           "Oregon",
           "Salem"
          ],
          [
           "Oregon",
           "Salem"
          ],
          [
           "Oregon",
           "Salem"
          ],
          [
           "Oregon",
           "Salem"
          ],
          [
           "Oregon",
           "Salem"
          ],
          [
           "Oregon",
           "Salem"
          ],
          [
           "Oregon",
           "Salem"
          ],
          [
           "Oregon",
           "Salem"
          ],
          [
           "Oregon",
           "Salem"
          ],
          [
           "Oregon",
           "Salem"
          ],
          [
           "Oregon",
           "Salem"
          ],
          [
           "Pennsylvania",
           "Harrisburg"
          ],
          [
           "Pennsylvania",
           "Harrisburg"
          ],
          [
           "Pennsylvania",
           "Harrisburg"
          ],
          [
           "Pennsylvania",
           "Harrisburg"
          ],
          [
           "Pennsylvania",
           "Harrisburg"
          ],
          [
           "Pennsylvania",
           "Harrisburg"
          ],
          [
           "Pennsylvania",
           "Harrisburg"
          ],
          [
           "Pennsylvania",
           "Harrisburg"
          ],
          [
           "Pennsylvania",
           "Harrisburg"
          ],
          [
           "Pennsylvania",
           "Harrisburg"
          ],
          [
           "Pennsylvania",
           "Harrisburg"
          ],
          [
           "Pennsylvania",
           "Harrisburg"
          ],
          [
           "Pennsylvania",
           "Harrisburg"
          ],
          [
           "Pennsylvania",
           "Harrisburg"
          ],
          [
           "Pennsylvania",
           "Harrisburg"
          ],
          [
           "Pennsylvania",
           "Harrisburg"
          ],
          [
           "Pennsylvania",
           "Harrisburg"
          ],
          [
           "Pennsylvania",
           "Harrisburg"
          ],
          [
           "Pennsylvania",
           "Harrisburg"
          ],
          [
           "Pennsylvania",
           "Harrisburg"
          ],
          [
           "Pennsylvania",
           "Harrisburg"
          ],
          [
           "Pennsylvania",
           "Harrisburg"
          ],
          [
           "Pennsylvania",
           "Harrisburg"
          ],
          [
           "Pennsylvania",
           "Harrisburg"
          ],
          [
           "Pennsylvania",
           "Harrisburg"
          ],
          [
           "Pennsylvania",
           "Harrisburg"
          ],
          [
           "Rhode Island",
           "Providence"
          ],
          [
           "Rhode Island",
           "Providence"
          ],
          [
           "Rhode Island",
           "Providence"
          ],
          [
           "Rhode Island",
           "Providence"
          ],
          [
           "Rhode Island",
           "Providence"
          ],
          [
           "Rhode Island",
           "Providence"
          ],
          [
           "Rhode Island",
           "Providence"
          ],
          [
           "Rhode Island",
           "Providence"
          ],
          [
           "Rhode Island",
           "Providence"
          ],
          [
           "Rhode Island",
           "Providence"
          ],
          [
           "Rhode Island",
           "Providence"
          ],
          [
           "Rhode Island",
           "Providence"
          ],
          [
           "Rhode Island",
           "Providence"
          ],
          [
           "Rhode Island",
           "Providence"
          ],
          [
           "South Carolina",
           "Columbia"
          ],
          [
           "South Carolina",
           "Columbia"
          ],
          [
           "South Carolina",
           "Columbia"
          ],
          [
           "South Carolina",
           "Columbia"
          ],
          [
           "South Carolina",
           "Columbia"
          ],
          [
           "South Carolina",
           "Columbia"
          ],
          [
           "South Carolina",
           "Columbia"
          ],
          [
           "South Carolina",
           "Columbia"
          ],
          [
           "South Carolina",
           "Columbia"
          ],
          [
           "South Carolina",
           "Columbia"
          ],
          [
           "South Carolina",
           "Columbia"
          ],
          [
           "South Carolina",
           "Columbia"
          ],
          [
           "South Carolina",
           "Columbia"
          ],
          [
           "South Carolina",
           "Columbia"
          ],
          [
           "South Carolina",
           "Columbia"
          ],
          [
           "South Carolina",
           "Columbia"
          ],
          [
           "South Carolina",
           "Columbia"
          ],
          [
           "South Carolina",
           "Columbia"
          ],
          [
           "South Carolina",
           "Columbia"
          ],
          [
           "South Carolina",
           "Columbia"
          ],
          [
           "South Carolina",
           "Columbia"
          ],
          [
           "South Carolina",
           "Columbia"
          ],
          [
           "South Carolina",
           "Columbia"
          ],
          [
           "South Carolina",
           "Columbia"
          ],
          [
           "South Carolina",
           "Columbia"
          ],
          [
           "South Carolina",
           "Columbia"
          ],
          [
           "South Carolina",
           "Columbia"
          ],
          [
           "South Carolina",
           "Columbia"
          ],
          [
           "South Carolina",
           "Columbia"
          ],
          [
           "South Carolina",
           "Columbia"
          ],
          [
           "South Carolina",
           "Columbia"
          ],
          [
           "South Carolina",
           "Columbia"
          ],
          [
           "South Carolina",
           "Columbia"
          ],
          [
           "South Carolina",
           "Columbia"
          ],
          [
           "South Carolina",
           "Columbia"
          ],
          [
           "South Carolina",
           "Columbia"
          ],
          [
           "South Carolina",
           "Columbia"
          ],
          [
           "South Carolina",
           "Columbia"
          ],
          [
           "South Dakota",
           "Pierre"
          ],
          [
           "South Dakota",
           "Pierre"
          ],
          [
           "Tennessee",
           "Nashville"
          ],
          [
           "Tennessee",
           "Nashville"
          ],
          [
           "Tennessee",
           "Nashville"
          ],
          [
           "Tennessee",
           "Nashville"
          ],
          [
           "Tennessee",
           "Nashville"
          ],
          [
           "Tennessee",
           "Nashville"
          ],
          [
           "Tennessee",
           "Nashville"
          ],
          [
           "Tennessee",
           "Nashville"
          ],
          [
           "Tennessee",
           "Nashville"
          ],
          [
           "Tennessee",
           "Nashville"
          ],
          [
           "Tennessee",
           "Nashville"
          ],
          [
           "Tennessee",
           "Nashville"
          ],
          [
           "Tennessee",
           "Nashville"
          ],
          [
           "Tennessee",
           "Nashville"
          ],
          [
           "Tennessee",
           "Nashville"
          ],
          [
           "Tennessee",
           "Nashville"
          ],
          [
           "Tennessee",
           "Nashville"
          ],
          [
           "Tennessee",
           "Nashville"
          ],
          [
           "Tennessee",
           "Nashville"
          ],
          [
           "Tennessee",
           "Nashville"
          ],
          [
           "Tennessee",
           "Nashville"
          ],
          [
           "Tennessee",
           "Nashville"
          ],
          [
           "Tennessee",
           "Nashville"
          ],
          [
           "Tennessee",
           "Nashville"
          ],
          [
           "Tennessee",
           "Nashville"
          ],
          [
           "Tennessee",
           "Nashville"
          ],
          [
           "Tennessee",
           "Nashville"
          ],
          [
           "Tennessee",
           "Nashville"
          ],
          [
           "Tennessee",
           "Nashville"
          ],
          [
           "Tennessee",
           "Nashville"
          ],
          [
           "Tennessee",
           "Nashville"
          ],
          [
           "Tennessee",
           "Nashville"
          ],
          [
           "Tennessee",
           "Nashville"
          ],
          [
           "Tennessee",
           "Nashville"
          ],
          [
           "Tennessee",
           "Nashville"
          ],
          [
           "Tennessee",
           "Nashville"
          ],
          [
           "Tennessee",
           "Nashville"
          ],
          [
           "Tennessee",
           "Nashville"
          ],
          [
           "Tennessee",
           "Nashville"
          ],
          [
           "Tennessee",
           "Nashville"
          ],
          [
           "Tennessee",
           "Nashville"
          ],
          [
           "Tennessee",
           "Nashville"
          ],
          [
           "Tennessee",
           "Nashville"
          ],
          [
           "Tennessee",
           "Nashville"
          ],
          [
           "Tennessee",
           "Nashville"
          ],
          [
           "Texas",
           "Austin"
          ],
          [
           "Texas",
           "Austin"
          ],
          [
           "Texas",
           "Austin"
          ],
          [
           "Texas",
           "Austin"
          ],
          [
           "Texas",
           "Austin"
          ],
          [
           "Texas",
           "Austin"
          ],
          [
           "Texas",
           "Austin"
          ],
          [
           "Texas",
           "Austin"
          ],
          [
           "Texas",
           "Austin"
          ],
          [
           "Texas",
           "Austin"
          ],
          [
           "Texas",
           "Austin"
          ],
          [
           "Texas",
           "Austin"
          ],
          [
           "Texas",
           "Austin"
          ],
          [
           "Texas",
           "Austin"
          ],
          [
           "Texas",
           "Austin"
          ],
          [
           "Texas",
           "Austin"
          ],
          [
           "Texas",
           "Austin"
          ],
          [
           "Texas",
           "Austin"
          ],
          [
           "Texas",
           "Austin"
          ],
          [
           "Texas",
           "Austin"
          ],
          [
           "Texas",
           "Austin"
          ],
          [
           "Texas",
           "Austin"
          ],
          [
           "Texas",
           "Austin"
          ],
          [
           "Texas",
           "Austin"
          ],
          [
           "Texas",
           "Austin"
          ],
          [
           "Texas",
           "Austin"
          ],
          [
           "Texas",
           "Austin"
          ],
          [
           "Texas",
           "Austin"
          ],
          [
           "Texas",
           "Austin"
          ],
          [
           "Texas",
           "Austin"
          ],
          [
           "Texas",
           "Austin"
          ],
          [
           "Texas",
           "Austin"
          ],
          [
           "Texas",
           "Austin"
          ],
          [
           "Texas",
           "Austin"
          ],
          [
           "Texas",
           "Austin"
          ],
          [
           "Texas",
           "Austin"
          ],
          [
           "Texas",
           "Austin"
          ],
          [
           "Texas",
           "Austin"
          ],
          [
           "Texas",
           "Austin"
          ],
          [
           "Texas",
           "Austin"
          ],
          [
           "Texas",
           "Austin"
          ],
          [
           "Texas",
           "Austin"
          ],
          [
           "Texas",
           "Austin"
          ],
          [
           "Texas",
           "Austin"
          ],
          [
           "Texas",
           "Austin"
          ],
          [
           "Texas",
           "Austin"
          ],
          [
           "Texas",
           "Austin"
          ],
          [
           "Texas",
           "Austin"
          ],
          [
           "Texas",
           "Austin"
          ],
          [
           "Texas",
           "Austin"
          ],
          [
           "Texas",
           "Austin"
          ],
          [
           "Texas",
           "Austin"
          ],
          [
           "Texas",
           "Austin"
          ],
          [
           "Texas",
           "Austin"
          ],
          [
           "Texas",
           "Austin"
          ],
          [
           "Texas",
           "Austin"
          ],
          [
           "Texas",
           "Austin"
          ],
          [
           "Texas",
           "Austin"
          ],
          [
           "Texas",
           "Austin"
          ],
          [
           "Texas",
           "Austin"
          ],
          [
           "Texas",
           "Austin"
          ],
          [
           "Texas",
           "Austin"
          ],
          [
           "Texas",
           "Austin"
          ],
          [
           "Texas",
           "Austin"
          ],
          [
           "Texas",
           "Austin"
          ],
          [
           "Texas",
           "Austin"
          ],
          [
           "Texas",
           "Austin"
          ],
          [
           "Texas",
           "Austin"
          ],
          [
           "Texas",
           "Austin"
          ],
          [
           "Texas",
           "Austin"
          ],
          [
           "Texas",
           "Austin"
          ],
          [
           "Texas",
           "Austin"
          ],
          [
           "Texas",
           "Austin"
          ],
          [
           "Texas",
           "Austin"
          ],
          [
           "Texas",
           "Austin"
          ],
          [
           "Texas",
           "Austin"
          ],
          [
           "Texas",
           "Austin"
          ],
          [
           "Texas",
           "Austin"
          ],
          [
           "Texas",
           "Austin"
          ],
          [
           "Texas",
           "Austin"
          ],
          [
           "Texas",
           "Austin"
          ],
          [
           "Texas",
           "Austin"
          ],
          [
           "Texas",
           "Austin"
          ],
          [
           "Texas",
           "Austin"
          ],
          [
           "Utah",
           "Salt Lake City"
          ],
          [
           "Utah",
           "Salt Lake City"
          ],
          [
           "Utah",
           "Salt Lake City"
          ],
          [
           "Utah",
           "Salt Lake City"
          ],
          [
           "Utah",
           "Salt Lake City"
          ],
          [
           "Utah",
           "Salt Lake City"
          ],
          [
           "Utah",
           "Salt Lake City"
          ],
          [
           "Utah",
           "Salt Lake City"
          ],
          [
           "Utah",
           "Salt Lake City"
          ],
          [
           "Utah",
           "Salt Lake City"
          ],
          [
           "Utah",
           "Salt Lake City"
          ],
          [
           "Utah",
           "Salt Lake City"
          ],
          [
           "Utah",
           "Salt Lake City"
          ],
          [
           "Utah",
           "Salt Lake City"
          ],
          [
           "Utah",
           "Salt Lake City"
          ],
          [
           "Utah",
           "Salt Lake City"
          ],
          [
           "Utah",
           "Salt Lake City"
          ],
          [
           "Utah",
           "Salt Lake City"
          ],
          [
           "Utah",
           "Salt Lake City"
          ],
          [
           "Utah",
           "Salt Lake City"
          ],
          [
           "Utah",
           "Salt Lake City"
          ],
          [
           "Utah",
           "Salt Lake City"
          ],
          [
           "Utah",
           "Salt Lake City"
          ],
          [
           "Utah",
           "Salt Lake City"
          ],
          [
           "Utah",
           "Salt Lake City"
          ],
          [
           "Utah",
           "Salt Lake City"
          ],
          [
           "Utah",
           "Salt Lake City"
          ],
          [
           "Utah",
           "Salt Lake City"
          ],
          [
           "Utah",
           "Salt Lake City"
          ],
          [
           "Utah",
           "Salt Lake City"
          ],
          [
           "Utah",
           "Salt Lake City"
          ],
          [
           "Utah",
           "Salt Lake City"
          ],
          [
           "Utah",
           "Salt Lake City"
          ],
          [
           "Utah",
           "Salt Lake City"
          ],
          [
           "Utah",
           "Salt Lake City"
          ],
          [
           "Utah",
           "Salt Lake City"
          ],
          [
           "Utah",
           "Salt Lake City"
          ],
          [
           "Utah",
           "Salt Lake City"
          ],
          [
           "Utah",
           "Salt Lake City"
          ],
          [
           "Utah",
           "Salt Lake City"
          ],
          [
           "Utah",
           "Salt Lake City"
          ],
          [
           "Utah",
           "Salt Lake City"
          ],
          [
           "Utah",
           "Salt Lake City"
          ],
          [
           "Utah",
           "Salt Lake City"
          ],
          [
           "Utah",
           "Salt Lake City"
          ],
          [
           "Utah",
           "Salt Lake City"
          ],
          [
           "Utah",
           "Salt Lake City"
          ],
          [
           "Utah",
           "Salt Lake City"
          ],
          [
           "Utah",
           "Salt Lake City"
          ],
          [
           "Utah",
           "Salt Lake City"
          ],
          [
           "Utah",
           "Salt Lake City"
          ],
          [
           "Utah",
           "Salt Lake City"
          ],
          [
           "Utah",
           "Salt Lake City"
          ],
          [
           "Utah",
           "Salt Lake City"
          ],
          [
           "Utah",
           "Salt Lake City"
          ],
          [
           "Utah",
           "Salt Lake City"
          ],
          [
           "Utah",
           "Salt Lake City"
          ],
          [
           "Utah",
           "Salt Lake City"
          ],
          [
           "Utah",
           "Salt Lake City"
          ],
          [
           "Utah",
           "Salt Lake City"
          ],
          [
           "Utah",
           "Salt Lake City"
          ],
          [
           "Utah",
           "Salt Lake City"
          ],
          [
           "Utah",
           "Salt Lake City"
          ],
          [
           "Utah",
           "Salt Lake City"
          ],
          [
           "Vermont",
           "Montpelier"
          ],
          [
           "Vermont",
           "Montpelier"
          ],
          [
           "Vermont",
           "Montpelier"
          ],
          [
           "Vermont",
           "Montpelier"
          ],
          [
           "Vermont",
           "Montpelier"
          ],
          [
           "Vermont",
           "Montpelier"
          ],
          [
           "Vermont",
           "Montpelier"
          ],
          [
           "Vermont",
           "Montpelier"
          ],
          [
           "Vermont",
           "Montpelier"
          ],
          [
           "Virginia",
           "Richmond"
          ],
          [
           "Virginia",
           "Richmond"
          ],
          [
           "Virginia",
           "Richmond"
          ],
          [
           "Virginia",
           "Richmond"
          ],
          [
           "Virginia",
           "Richmond"
          ],
          [
           "Virginia",
           "Richmond"
          ],
          [
           "Virginia",
           "Richmond"
          ],
          [
           "Virginia",
           "Richmond"
          ],
          [
           "Virginia",
           "Richmond"
          ],
          [
           "Virginia",
           "Richmond"
          ],
          [
           "Virginia",
           "Richmond"
          ],
          [
           "Virginia",
           "Richmond"
          ],
          [
           "Virginia",
           "Richmond"
          ],
          [
           "Virginia",
           "Richmond"
          ],
          [
           "Virginia",
           "Richmond"
          ],
          [
           "Virginia",
           "Richmond"
          ],
          [
           "Virginia",
           "Richmond"
          ],
          [
           "Virginia",
           "Richmond"
          ],
          [
           "Virginia",
           "Richmond"
          ],
          [
           "Virginia",
           "Richmond"
          ],
          [
           "Virginia",
           "Richmond"
          ],
          [
           "Virginia",
           "Richmond"
          ],
          [
           "Virginia",
           "Richmond"
          ],
          [
           "Virginia",
           "Richmond"
          ],
          [
           "Virginia",
           "Richmond"
          ],
          [
           "Virginia",
           "Richmond"
          ],
          [
           "Virginia",
           "Richmond"
          ],
          [
           "Virginia",
           "Richmond"
          ],
          [
           "Virginia",
           "Richmond"
          ],
          [
           "Virginia",
           "Richmond"
          ],
          [
           "Virginia",
           "Richmond"
          ],
          [
           "Virginia",
           "Richmond"
          ],
          [
           "Virginia",
           "Richmond"
          ],
          [
           "Virginia",
           "Richmond"
          ],
          [
           "Virginia",
           "Richmond"
          ],
          [
           "Virginia",
           "Richmond"
          ],
          [
           "Virginia",
           "Richmond"
          ],
          [
           "Virginia",
           "Richmond"
          ],
          [
           "Virginia",
           "Richmond"
          ],
          [
           "Virginia",
           "Richmond"
          ],
          [
           "Virginia",
           "Richmond"
          ],
          [
           "Virginia",
           "Richmond"
          ],
          [
           "Virginia",
           "Richmond"
          ],
          [
           "Virginia",
           "Richmond"
          ],
          [
           "Virginia",
           "Richmond"
          ],
          [
           "Virginia",
           "Richmond"
          ],
          [
           "Virginia",
           "Richmond"
          ],
          [
           "Virginia",
           "Richmond"
          ],
          [
           "Virginia",
           "Richmond"
          ],
          [
           "Virginia",
           "Richmond"
          ],
          [
           "Virginia",
           "Richmond"
          ],
          [
           "Virginia",
           "Richmond"
          ],
          [
           "Virginia",
           "Richmond"
          ],
          [
           "Virginia",
           "Richmond"
          ],
          [
           "Virginia",
           "Richmond"
          ],
          [
           "Virginia",
           "Richmond"
          ],
          [
           "Virginia",
           "Richmond"
          ],
          [
           "Virginia",
           "Richmond"
          ],
          [
           "Virginia",
           "Richmond"
          ],
          [
           "Virginia",
           "Richmond"
          ],
          [
           "Virginia",
           "Richmond"
          ],
          [
           "Virginia",
           "Richmond"
          ],
          [
           "Virginia",
           "Richmond"
          ],
          [
           "Virginia",
           "Richmond"
          ],
          [
           "Virginia",
           "Richmond"
          ],
          [
           "Virginia",
           "Richmond"
          ],
          [
           "Virginia",
           "Richmond"
          ],
          [
           "Virginia",
           "Richmond"
          ],
          [
           "Virginia",
           "Richmond"
          ],
          [
           "Virginia",
           "Richmond"
          ],
          [
           "Virginia",
           "Richmond"
          ],
          [
           "Virginia",
           "Richmond"
          ],
          [
           "Virginia",
           "Richmond"
          ],
          [
           "Washington",
           "Olympia"
          ],
          [
           "Washington",
           "Olympia"
          ],
          [
           "Washington",
           "Olympia"
          ],
          [
           "Washington",
           "Olympia"
          ],
          [
           "Washington",
           "Olympia"
          ],
          [
           "Washington",
           "Olympia"
          ],
          [
           "Washington",
           "Olympia"
          ],
          [
           "Washington",
           "Olympia"
          ],
          [
           "Washington",
           "Olympia"
          ],
          [
           "Washington",
           "Olympia"
          ],
          [
           "Washington",
           "Olympia"
          ],
          [
           "Washington",
           "Olympia"
          ],
          [
           "West Virginia",
           "Charleston"
          ],
          [
           "West Virginia",
           "Charleston"
          ],
          [
           "West Virginia",
           "Charleston"
          ],
          [
           "West Virginia",
           "Charleston"
          ],
          [
           "West Virginia",
           "Charleston"
          ],
          [
           "West Virginia",
           "Charleston"
          ],
          [
           "West Virginia",
           "Charleston"
          ],
          [
           "West Virginia",
           "Charleston"
          ],
          [
           "West Virginia",
           "Charleston"
          ],
          [
           "West Virginia",
           "Charleston"
          ],
          [
           "West Virginia",
           "Charleston"
          ],
          [
           "West Virginia",
           "Charleston"
          ],
          [
           "West Virginia",
           "Charleston"
          ],
          [
           "West Virginia",
           "Charleston"
          ],
          [
           "West Virginia",
           "Charleston"
          ],
          [
           "West Virginia",
           "Charleston"
          ],
          [
           "West Virginia",
           "Charleston"
          ],
          [
           "West Virginia",
           "Charleston"
          ],
          [
           "West Virginia",
           "Charleston"
          ],
          [
           "West Virginia",
           "Charleston"
          ],
          [
           "West Virginia",
           "Charleston"
          ],
          [
           "West Virginia",
           "Charleston"
          ],
          [
           "West Virginia",
           "Charleston"
          ],
          [
           "West Virginia",
           "Charleston"
          ],
          [
           "West Virginia",
           "Charleston"
          ],
          [
           "West Virginia",
           "Charleston"
          ],
          [
           "West Virginia",
           "Charleston"
          ],
          [
           "West Virginia",
           "Charleston"
          ],
          [
           "West Virginia",
           "Charleston"
          ],
          [
           "West Virginia",
           "Charleston"
          ],
          [
           "West Virginia",
           "Charleston"
          ],
          [
           "West Virginia",
           "Charleston"
          ],
          [
           "West Virginia",
           "Charleston"
          ],
          [
           "West Virginia",
           "Charleston"
          ],
          [
           "West Virginia",
           "Charleston"
          ],
          [
           "West Virginia",
           "Charleston"
          ],
          [
           "West Virginia",
           "Charleston"
          ],
          [
           "West Virginia",
           "Charleston"
          ],
          [
           "West Virginia",
           "Charleston"
          ],
          [
           "West Virginia",
           "Charleston"
          ],
          [
           "West Virginia",
           "Charleston"
          ],
          [
           "West Virginia",
           "Charleston"
          ],
          [
           "West Virginia",
           "Charleston"
          ],
          [
           "West Virginia",
           "Charleston"
          ],
          [
           "West Virginia",
           "Charleston"
          ],
          [
           "West Virginia",
           "Charleston"
          ],
          [
           "West Virginia",
           "Charleston"
          ],
          [
           "Wisconsin",
           "Madison"
          ],
          [
           "Wisconsin",
           "Madison"
          ],
          [
           "Wisconsin",
           "Madison"
          ],
          [
           "Wisconsin",
           "Madison"
          ],
          [
           "Wisconsin",
           "Madison"
          ],
          [
           "Wisconsin",
           "Madison"
          ],
          [
           "Wisconsin",
           "Madison"
          ],
          [
           "Wisconsin",
           "Madison"
          ],
          [
           "Wisconsin",
           "Madison"
          ],
          [
           "Wisconsin",
           "Madison"
          ],
          [
           "Wisconsin",
           "Madison"
          ],
          [
           "Wisconsin",
           "Madison"
          ],
          [
           "Wisconsin",
           "Madison"
          ],
          [
           "Wisconsin",
           "Madison"
          ],
          [
           "Wisconsin",
           "Madison"
          ],
          [
           "Wisconsin",
           "Madison"
          ],
          [
           "Wisconsin",
           "Madison"
          ],
          [
           "Wisconsin",
           "Madison"
          ],
          [
           "Wisconsin",
           "Madison"
          ],
          [
           "Wisconsin",
           "Madison"
          ],
          [
           "Wisconsin",
           "Madison"
          ],
          [
           "Wisconsin",
           "Madison"
          ],
          [
           "Wisconsin",
           "Madison"
          ],
          [
           "Wisconsin",
           "Madison"
          ],
          [
           "Wisconsin",
           "Madison"
          ],
          [
           "Wisconsin",
           "Madison"
          ],
          [
           "Wisconsin",
           "Madison"
          ],
          [
           "Wisconsin",
           "Madison"
          ],
          [
           "Wisconsin",
           "Madison"
          ],
          [
           "Wisconsin",
           "Madison"
          ],
          [
           "Wisconsin",
           "Madison"
          ],
          [
           "Wisconsin",
           "Madison"
          ],
          [
           "Wisconsin",
           "Madison"
          ],
          [
           "Wisconsin",
           "Madison"
          ],
          [
           "Wisconsin",
           "Madison"
          ],
          [
           "Wisconsin",
           "Madison"
          ],
          [
           "Wisconsin",
           "Madison"
          ],
          [
           "Wisconsin",
           "Madison"
          ],
          [
           "Wisconsin",
           "Madison"
          ],
          [
           "Wyoming",
           "Cheyenne"
          ],
          [
           "Wyoming",
           "Cheyenne"
          ],
          [
           "Wyoming",
           "Cheyenne"
          ],
          [
           "Wyoming",
           "Cheyenne"
          ],
          [
           "Wyoming",
           "Cheyenne"
          ],
          [
           "Wyoming",
           "Cheyenne"
          ],
          [
           "Wyoming",
           "Cheyenne"
          ],
          [
           "Wyoming",
           "Cheyenne"
          ]
         ],
         "geo": "geo",
         "hovertemplate": "lat=%{lat}<br>lon=%{lon}<br>state=%{customdata[0]}<br>capital=%{customdata[1]}<extra></extra>",
         "lat": [
          "32.357",
          "32.2334",
          "32.3462",
          "32.373",
          "32.3257",
          "32.3543",
          "32.3804",
          "32.3417",
          "32.3834",
          "32.4217",
          "32.3374",
          "32.3808",
          "32.3846",
          "32.404",
          "32.4076",
          "32.3129",
          "32.3736",
          "32.2334",
          "32.2334",
          "32.2334",
          "32.2334",
          "32.2334",
          "32.2334",
          "32.2334",
          "32.2334",
          "32.2334",
          "32.2334",
          "32.2334",
          "32.2334",
          "32.2334",
          "32.3544",
          "32.2334",
          "32.2334",
          "32.2334",
          "32.2334",
          "32.2334",
          "32.3544",
          "32.3808",
          "32.3544",
          "32.3544",
          "32.3544",
          "32.3656",
          "32.3544",
          "32.3858",
          "58.3628",
          "58.4057",
          "58.3771",
          "58.3835",
          "58.3271",
          "58.3835",
          "33.704",
          "33.2765",
          "33.4511",
          "33.4557",
          "33.2765",
          "33.465",
          "33.4523",
          "33.4665",
          "33.4564",
          "33.2765",
          "33.2765",
          "33.5097",
          "33.5085",
          "33.5103",
          "33.5082",
          "33.5021",
          "33.5153",
          "33.4958",
          "33.5123",
          "33.5623",
          "33.56",
          "33.6315",
          "33.6324",
          "33.6617",
          "33.4226",
          "33.2765",
          "33.6819",
          "33.5851",
          "33.5961",
          "33.2765",
          "33.4939",
          "33.6238",
          "33.4944",
          "33.4413",
          "33.4724",
          "33.2765",
          "33.4913",
          "33.2765",
          "33.2765",
          "33.4061",
          "33.3889",
          "33.3794",
          "33.4491",
          "33.3291",
          "33.3022",
          "33.2765",
          "33.316",
          "33.6863",
          "33.5591",
          "33.6299",
          "33.6731",
          "33.2765",
          "33.2765",
          "33.2765",
          "33.2765",
          "33.2765",
          "33.2765",
          "33.2765",
          "33.2765",
          "33.2765",
          "33.2765",
          "33.2765",
          "33.2765",
          "33.2765",
          "33.2765",
          "33.2765",
          "33.2765",
          "33.2765",
          "33.2765",
          "33.2765",
          "33.2765",
          "33.2765",
          "33.2765",
          "33.2765",
          "33.7352",
          "33.7529",
          "33.8155",
          "33.2765",
          "33.2765",
          "33.2765",
          "34.9074",
          "34.7666",
          "34.7519",
          "34.8059",
          "34.7658",
          "34.8337",
          "34.8016",
          "34.7519",
          "34.7519",
          "34.7678",
          "34.8272",
          "34.7483",
          "34.7363",
          "34.8835",
          "34.7269",
          "34.751",
          "34.6836",
          "34.7721",
          "34.783",
          "34.6725",
          "34.7076",
          "34.7413",
          "34.7871",
          "34.7621",
          "34.7519",
          "34.8178",
          "34.8302",
          "34.7519",
          "34.7519",
          "34.7519",
          "34.7902",
          "34.7224",
          "34.7519",
          "34.7757",
          "34.8019",
          "34.7399",
          "34.7519",
          "34.7224",
          "38.3805",
          "38.3774",
          "38.3774",
          "38.3774",
          "38.3774",
          "38.3774",
          "38.3774",
          "38.3774",
          "38.3774",
          "38.3774",
          "38.3774",
          "38.3774",
          "38.3774",
          "38.3774",
          "38.3774",
          "38.3774",
          "38.3774",
          "38.3774",
          "38.3774",
          "38.3774",
          "38.3774",
          "38.3774",
          "38.3774",
          "38.3774",
          "38.3774",
          "38.3774",
          "38.3774",
          "38.3774",
          "38.3774",
          "38.3774",
          "38.3774",
          "38.3774",
          "38.3774",
          "38.3774",
          "38.3774",
          "38.3774",
          "38.3774",
          "38.3774",
          "38.3774",
          "38.3774",
          "38.3774",
          "38.3774",
          "38.3774",
          "38.3774",
          "38.3774",
          "38.3774",
          "38.3774",
          "38.3774",
          "38.3774",
          "38.3774",
          "38.3774",
          "38.3774",
          "38.3774",
          "38.3774",
          "38.3774",
          "38.3774",
          "38.3774",
          "38.3774",
          "38.3774",
          "38.3774",
          "38.3774",
          "38.3774",
          "38.5927",
          "38.5673",
          "38.5805",
          "38.5713",
          "38.5762",
          "38.5822",
          "38.6026",
          "38.5804",
          "38.6093",
          "38.5728",
          "38.5498",
          "38.5568",
          "38.5683",
          "38.5347",
          "38.6239",
          "38.5091",
          "38.4797",
          "38.5178",
          "38.5892",
          "38.5539",
          "38.5662",
          "38.4826",
          "38.4689",
          "38.4896",
          "38.4962",
          "38.4695",
          "38.6157",
          "38.6383",
          "38.6626",
          "38.7198",
          "38.6817",
          "38.6406",
          "38.5816",
          "38.6627",
          "38.6865",
          "38.6026",
          "38.6026",
          "38.6026",
          "38.5816",
          "38.6105",
          "38.5878",
          "38.596",
          "38.596",
          "38.5816",
          "38.5816",
          "38.5816",
          "38.5816",
          "38.5383",
          "39.7263",
          "39.7491",
          "39.7313",
          "39.734",
          "39.759",
          "39.7331",
          "39.7584",
          "39.7388",
          "39.7074",
          "39.679",
          "39.7665",
          "39.7683",
          "39.7436",
          "39.7435",
          "39.7835",
          "39.7388",
          "39.7327",
          "39.6956",
          "39.7312",
          "39.838",
          "39.671",
          "39.7002",
          "39.688",
          "39.6971",
          "39.7123",
          "39.6667",
          "39.6888",
          "39.8671",
          "39.7218",
          "39.6793",
          "39.6895",
          "39.9015",
          "39.9108",
          "39.6472",
          "39.6535",
          "39.6431",
          "39.7388",
          "39.7878",
          "39.9274",
          "39.7388",
          "39.7388",
          "39.7086",
          "39.6971",
          "39.7388",
          "39.7783",
          "39.7388",
          "39.7388",
          "39.7388",
          "39.7388",
          "39.7388",
          "39.7474",
          "39.7388",
          "39.7462",
          "39.8672",
          "39.7379",
          "39.731",
          "39.7388",
          "39.7426",
          "39.7388",
          "39.7472",
          "39.7388",
          "39.7388",
          "39.7273",
          "39.7439",
          "39.7388",
          "39.7388",
          "39.7167",
          "39.7439",
          "39.7427",
          "39.7436",
          "39.7439",
          "39.7474",
          "39.7458",
          "39.7491",
          "39.7455",
          "39.7388",
          "41.8468",
          "41.7801",
          "41.7918",
          "41.7672",
          "41.7918",
          "41.7691",
          "41.7498",
          "41.7556",
          "41.7803",
          "41.7326",
          "41.7905",
          "41.7403",
          "41.7588",
          "41.79",
          "41.7472",
          "41.7628",
          "41.786",
          "41.7918",
          "41.7918",
          "41.7918",
          "41.7918",
          "41.7918",
          "41.7918",
          "41.7918",
          "41.7918",
          "41.7918",
          "41.7918",
          "41.7918",
          "41.7918",
          "41.7918",
          "41.7918",
          "41.7918",
          "41.7918",
          "41.7918",
          "41.7918",
          "41.7918",
          "41.7918",
          "41.7918",
          "41.7715",
          "41.7693",
          "41.7679",
          "41.7665",
          "41.766",
          "41.7918",
          "41.7918",
          "41.7918",
          "41.7638",
          "41.9274",
          "39.1564",
          "39.1253",
          "39.1087",
          "39.1605",
          "39.1087",
          "39.157",
          "30.4286",
          "30.4793",
          "30.4874",
          "30.4478",
          "30.334",
          "30.4425",
          "30.4256",
          "30.4771",
          "30.5422",
          "30.3991",
          "30.4156",
          "30.5185",
          "30.4793",
          "30.4793",
          "30.4793",
          "30.4793",
          "30.4651",
          "30.3953",
          "30.4793",
          "30.4494",
          "33.8444",
          "33.8444",
          "33.7525",
          "33.8482",
          "33.832",
          "33.786",
          "33.7691",
          "33.7718",
          "33.7984",
          "33.7278",
          "33.723",
          "33.7467",
          "33.7682",
          "33.7561",
          "33.7051",
          "33.7217",
          "33.7498",
          "33.7865",
          "33.8687",
          "33.6568",
          "33.8444",
          "33.7952",
          "33.8444",
          "33.8206",
          "33.8444",
          "33.8482",
          "33.8627",
          "33.9335",
          "33.8236",
          "33.7071",
          "33.7224",
          "33.7763",
          "33.8913",
          "33.7489",
          "33.7406",
          "33.6428",
          "33.9668",
          "33.8712",
          "33.8932",
          "33.8879",
          "33.8842",
          "33.8444",
          "33.6919",
          "33.8513",
          "33.9267",
          "33.8444",
          "33.8444",
          "33.6053",
          "33.9795",
          "33.8444",
          "33.6597",
          "33.8444",
          "33.6675",
          "33.8444",
          "33.8913",
          "33.8444",
          "33.9982",
          "33.8913",
          "33.9378",
          "33.8444",
          "33.8913",
          "33.791",
          "33.8444",
          "33.8444",
          "33.8913",
          "33.8444",
          "33.8444",
          "33.8444",
          "33.8444",
          "33.8444",
          "33.8444",
          "33.8444",
          "33.8444",
          "33.8444",
          "33.8444",
          "33.8444",
          "33.8444",
          "33.7487",
          "33.8444",
          "33.8444",
          "33.8444",
          "33.8444",
          "33.8444",
          "33.8444",
          "33.8444",
          "33.8444",
          "33.8444",
          "33.8444",
          "33.8444",
          "33.8444",
          "33.8444",
          "33.8444",
          "33.8913",
          "33.7487",
          "33.8444",
          "33.8444",
          "33.7488",
          "33.7473",
          "33.8444",
          "33.8913",
          "33.8913",
          "33.8913",
          "33.8444",
          "33.8444",
          "33.7629",
          "33.7629",
          "33.7629",
          "33.7629",
          "33.7629",
          "33.7629",
          "33.7629",
          "33.8444",
          "33.8444",
          "33.8444",
          "33.8444",
          "33.8444",
          "33.8444",
          "33.8444",
          "33.8444",
          "33.8913",
          "24.8598",
          "24.8598",
          "24.8598",
          "24.8598",
          "24.8598",
          "24.8598",
          "24.8598",
          "24.8598",
          "24.8598",
          "24.8598",
          "24.8598",
          "21.3061",
          "21.3179",
          "21.2998",
          "21.2811",
          "21.2887",
          "21.3295",
          "21.3532",
          "21.3488",
          "24.8598",
          "21.2928",
          "21.3117",
          "24.8598",
          "24.8598",
          "21.2987",
          "21.2941",
          "24.8598",
          "24.8598",
          "21.2841",
          "24.8598",
          "24.8598",
          "24.8598",
          "24.8598",
          "24.8598",
          "24.8598",
          "24.8598",
          "24.8598",
          "24.8598",
          "24.8598",
          "24.8598",
          "24.8598",
          "24.8598",
          "24.8598",
          "24.8598",
          "24.8598",
          "43.6038",
          "43.6322",
          "43.6601",
          "43.633",
          "43.5851",
          "43.5885",
          "43.3847",
          "43.4599",
          "43.5741",
          "43.4599",
          "43.6023",
          "43.634",
          "43.7318",
          "43.4599",
          "43.5345",
          "43.4599",
          "43.4599",
          "43.4599",
          "43.4599",
          "43.4599",
          "43.4599",
          "43.6195",
          "43.4599",
          "43.4599",
          "43.4599",
          "43.4599",
          "43.4599",
          "43.4599",
          "43.4599",
          "43.4599",
          "43.4599",
          "43.4599",
          "43.4599",
          "43.4599",
          "43.4599",
          "43.6068",
          "43.4599",
          "39.8",
          "39.8317",
          "39.7622",
          "39.7725",
          "39.7495",
          "39.7988",
          "39.8544",
          "39.8061",
          "39.7495",
          "39.7655",
          "39.7533",
          "39.7495",
          "39.7495",
          "39.8482",
          "39.778",
          "39.7495",
          "39.7495",
          "39.7495",
          "39.7495",
          "39.7495",
          "39.7495",
          "39.7495",
          "39.7495",
          "39.7495",
          "39.7495",
          "39.7495",
          "39.8524",
          "39.7495",
          "39.7495",
          "39.7495",
          "39.7495",
          "39.7495",
          "39.7495",
          "39.7495",
          "39.7495",
          "39.7495",
          "39.7495",
          "39.7495",
          "39.7495",
          "39.7495",
          "39.7495",
          "39.775",
          "39.7851",
          "39.743",
          "39.772",
          "39.8268",
          "39.7613",
          "39.7673",
          "39.8299",
          "39.7795",
          "39.7795",
          "39.7924",
          "39.8647",
          "39.6782",
          "39.8082",
          "39.7821",
          "39.8647",
          "39.7509",
          "39.789",
          "39.7795",
          "39.794",
          "39.7406",
          "39.8326",
          "39.6789",
          "39.8462",
          "39.7886",
          "39.7795",
          "39.7038",
          "39.8088",
          "39.8471",
          "39.8689",
          "39.673",
          "39.7265",
          "39.9069",
          "39.7096",
          "39.7795",
          "39.7795",
          "39.7795",
          "39.859",
          "39.9048",
          "39.7795",
          "39.7795",
          "39.849",
          "39.7795",
          "39.8977",
          "39.667",
          "39.8977",
          "39.8269",
          "39.7795",
          "39.8682",
          "39.7795",
          "39.7795",
          "39.7795",
          "39.8726",
          "39.9416",
          "39.7795",
          "39.7795",
          "39.7795",
          "39.9347",
          "39.7795",
          "39.7795",
          "39.796",
          "39.7795",
          "41.5805",
          "41.5695",
          "41.6727",
          "41.6727",
          "41.6727",
          "41.6727",
          "41.6727",
          "41.6727",
          "41.6727",
          "41.6727",
          "41.5887",
          "41.6255",
          "41.601",
          "41.5855",
          "41.6381",
          "41.603",
          "41.5444",
          "41.6092",
          "41.6122",
          "41.6727",
          "41.5921",
          "41.5487",
          "41.5476",
          "41.5815",
          "41.6727",
          "41.6727",
          "41.6727",
          "41.6727",
          "41.6727",
          "41.6727",
          "41.6727",
          "41.6727",
          "41.6727",
          "41.6727",
          "41.6727",
          "41.6727",
          "41.6727",
          "41.6727",
          "41.6727",
          "41.6727",
          "41.6727",
          "41.6727",
          "41.6727",
          "41.6727",
          "41.6727",
          "41.6727",
          "41.6727",
          "41.6727",
          "41.6727",
          "41.6727",
          "41.5878",
          "41.6727",
          "41.6727",
          "41.6727",
          "41.6727",
          "41.6727",
          "41.5945",
          "41.6727",
          "41.6727",
          "41.6727",
          "41.6727",
          "41.6727",
          "41.6727",
          "38.9881",
          "39.0553",
          "39.0405",
          "39.0151",
          "39.0583",
          "39.0421",
          "39.0858",
          "38.9919",
          "38.9822",
          "39.0142",
          "39.0427",
          "39.0154",
          "39.0446",
          "39.0645",
          "39.1271",
          "39.1329",
          "38.9536",
          "39.0429",
          "39.0333",
          "39.0429",
          "39.0429",
          "39.0429",
          "39.0429",
          "39.0429",
          "39.0429",
          "39.0429",
          "39.0429",
          "39.0429",
          "39.0429",
          "39.0429",
          "39.0429",
          "39.0429",
          "39.0429",
          "39.0429",
          "39.0429",
          "39.0429",
          "39.0429",
          "39.0429",
          "39.0429",
          "39.0429",
          "38.2281",
          "38.2341",
          "38.2341",
          "38.2341",
          "38.2341",
          "38.2341",
          "38.2341",
          "38.2341",
          "38.2341",
          "30.4492",
          "30.4438",
          "30.405",
          "30.3863",
          "30.486",
          "30.4485",
          "30.5768",
          "30.4066",
          "30.4089",
          "30.3633",
          "30.5317",
          "30.5052",
          "30.5201",
          "30.4848",
          "30.4558",
          "30.4273",
          "30.3904",
          "30.5408",
          "30.4668",
          "30.3795",
          "30.4613",
          "30.5159",
          "30.5159",
          "30.5159",
          "30.5159",
          "30.4338",
          "30.5159",
          "30.5159",
          "30.5159",
          "30.392",
          "30.5159",
          "30.5305",
          "30.5902",
          "30.5159",
          "30.5159",
          "30.5159",
          "30.4492",
          "30.5159",
          "30.413",
          "30.5159",
          "30.5159",
          "30.5159",
          "30.5159",
          "44.3232",
          "44.4141",
          "44.4141",
          "44.3157",
          "44.4141",
          "39.1332",
          "38.9898",
          "38.9871",
          "38.9524",
          "38.9742",
          "39.0305",
          "39.0416",
          "38.9742",
          "38.9742",
          "42.3706",
          "42.3389",
          "42.3389",
          "42.3389",
          "42.3389",
          "42.3543",
          "42.3389",
          "42.3576",
          "42.36",
          "42.3576",
          "42.3503",
          "42.3389",
          "42.3657",
          "42.3611",
          "42.3427",
          "42.3492",
          "42.3585",
          "42.3362",
          "42.3231",
          "42.3325",
          "42.3071",
          "42.2966",
          "42.3389",
          "42.2868",
          "42.3148",
          "42.3347",
          "42.3642",
          "42.3389",
          "42.3253",
          "42.3389",
          "42.3479",
          "42.3389",
          "42.3611",
          "42.3615",
          "42.3389",
          "42.3503",
          "42.3389",
          "42.3389",
          "42.3389",
          "42.3389",
          "42.3489",
          "42.3389",
          "42.4464",
          "42.3471",
          "42.3389",
          "42.3389",
          "42.3644",
          "42.347",
          "42.3389",
          "42.3389",
          "42.3389",
          "42.3389",
          "42.3389",
          "42.3389",
          "42.3389",
          "42.3823",
          "42.7388",
          "42.7283",
          "42.7238",
          "42.5992",
          "42.7039",
          "42.5992",
          "42.7635",
          "42.5961",
          "42.5961",
          "42.5992",
          "42.7008",
          "42.6797",
          "42.7371",
          "42.5992",
          "42.7391",
          "42.5992",
          "42.7376",
          "42.5992",
          "42.7286",
          "42.7237",
          "42.7325",
          "42.5992",
          "42.7325",
          "42.7325",
          "42.7334",
          "42.7487",
          "42.5992",
          "42.7035",
          "42.7325",
          "42.5992",
          "44.8344",
          "44.8881",
          "44.9512",
          "44.9372",
          "44.9608",
          "44.9532",
          "44.9347",
          "44.9684",
          "44.9325",
          "44.9806",
          "45.0132",
          "45.08",
          "44.8828",
          "45.0788",
          "45.0139",
          "44.968",
          "45.071",
          "44.914",
          "44.9995",
          "44.8965",
          "44.9414",
          "44.8704",
          "44.8471",
          "44.786",
          "44.806",
          "44.7497",
          "44.9197",
          "45.0736",
          "45.0803",
          "44.9913",
          "44.8985",
          "44.973",
          "45.0059",
          "45.0059",
          "45.0059",
          "44.9427",
          "44.9522",
          "45.0059",
          "44.9909",
          "45.0059",
          "45.0059",
          "45.0059",
          "45.0059",
          "45.0059",
          "45.0059",
          "45.0059",
          "45.0059",
          "45.0059",
          "45.0059",
          "45.0059",
          "45.0059",
          "45.0059",
          "45.0059",
          "45.0059",
          "44.9445",
          "32.3205",
          "32.2935",
          "32.3149",
          "32.3081",
          "32.2832",
          "32.3113",
          "32.37",
          "32.3113",
          "32.2604",
          "32.3184",
          "32.3218",
          "32.3739",
          "32.2435",
          "32.3553",
          "32.3113",
          "32.3386",
          "32.2974",
          "32.2287",
          "32.3113",
          "32.3299",
          "32.3113",
          "32.3113",
          "32.3113",
          "32.3003",
          "32.3113",
          "32.1888",
          "32.3113",
          "32.3113",
          "32.3113",
          "32.3113",
          "32.3131",
          "32.3113",
          "32.3113",
          "32.3199",
          "38.5462",
          "38.5309",
          "38.5309",
          "38.5309",
          "38.5309",
          "38.5309",
          "38.5309",
          "38.5309",
          "38.5773",
          "38.5309",
          "38.5309",
          "46.6131",
          "46.7074",
          "46.6672",
          "47.1842",
          "46.5901",
          "46.61",
          "46.6018",
          "47.1842",
          "46.5973",
          "40.8651",
          "40.7893",
          "40.8233",
          "40.8392",
          "40.8247",
          "40.7848",
          "40.8473",
          "40.8145",
          "40.7845",
          "40.8063",
          "40.817",
          "40.7565",
          "40.9401",
          "40.7568",
          "40.9317",
          "40.7744",
          "40.851",
          "40.7934",
          "40.7408",
          "40.8529",
          "40.7314",
          "40.8347",
          "40.8195",
          "40.8798",
          "40.9008",
          "40.7922",
          "40.7845",
          "40.7845",
          "40.7845",
          "40.7845",
          "40.8206",
          "39.1507",
          "39.1355",
          "39.1704",
          "39.0554",
          "39.2025",
          "39.1678",
          "39.1678",
          "39.1678",
          "39.1678",
          "39.1678",
          "39.1678",
          "43.2185",
          "43.3103",
          "43.2817",
          "43.2134",
          "43.208",
          "40.2805",
          "40.2805",
          "40.2805",
          "40.2805",
          "40.2805",
          "40.2805",
          "40.2805",
          "40.2204",
          "40.2248",
          "40.2016",
          "40.1967",
          "40.2377",
          "40.2418",
          "40.167",
          "40.2805",
          "40.2655",
          "40.2196",
          "40.251",
          "40.0098",
          "40.027",
          "40.2805",
          "40.2805",
          "40.2805",
          "40.2795",
          "40.2805",
          "40.2805",
          "40.2805",
          "40.2336",
          "40.2197",
          "40.2805",
          "35.6975",
          "35.4399",
          "35.5212",
          "35.8936",
          "35.6219",
          "35.8195",
          "35.6567",
          "35.5335",
          "35.5212",
          "35.5212",
          "35.5212",
          "42.6149",
          "42.6413",
          "42.7003",
          "42.6847",
          "42.7198",
          "42.6683",
          "42.656",
          "42.656",
          "42.6417",
          "42.6568",
          "42.713",
          "42.7168",
          "42.6149",
          "42.6149",
          "42.6853",
          "42.6149",
          "42.6149",
          "42.6149",
          "42.6149",
          "42.6149",
          "42.6149",
          "42.6149",
          "42.6149",
          "42.6149",
          "42.6149",
          "42.6149",
          "42.6149",
          "42.6149",
          "42.6149",
          "42.6149",
          "42.6149",
          "42.6149",
          "42.6149",
          "42.6149",
          "42.6149",
          "42.6149",
          "42.6149",
          "42.6149",
          "42.6471",
          "42.6149",
          "42.6149",
          "42.6149",
          "42.6149",
          "42.6149",
          "42.6149",
          "42.6149",
          "42.6149",
          "42.6149",
          "42.6149",
          "42.6149",
          "42.6149",
          "35.7727",
          "35.7587",
          "35.7076",
          "35.8334",
          "35.7908",
          "35.7645",
          "35.8014",
          "35.8077",
          "35.848",
          "35.7667",
          "35.7977",
          "35.852",
          "35.8949",
          "35.9457",
          "35.8887",
          "35.8673",
          "35.9034",
          "35.8515",
          "35.7977",
          "35.7977",
          "35.7977",
          "35.7977",
          "35.7977",
          "35.7977",
          "35.7977",
          "35.7977",
          "35.7977",
          "35.8175",
          "35.7977",
          "35.7977",
          "35.7977",
          "35.7977",
          "35.7977",
          "35.7977",
          "35.7977",
          "35.7977",
          "35.7977",
          "35.7977",
          "35.7977",
          "35.7977",
          "35.7977",
          "35.8822",
          "35.7977",
          "35.7977",
          "46.8234",
          "46.8887",
          "46.8394",
          "46.7231",
          "46.8165",
          "46.9805",
          "46.9805",
          "40.0999",
          "39.9952",
          "40.0201",
          "39.9719",
          "39.9523",
          "39.9569",
          "39.9426",
          "39.9046",
          "39.9539",
          "40.0028",
          "40.0118",
          "39.9874",
          "39.9727",
          "40.0535",
          "39.9671",
          "39.969",
          "39.8277",
          "39.969",
          "40.0326",
          "40.0495",
          "40.0226",
          "39.9576",
          "39.9388",
          "40.0425",
          "39.969",
          "39.9444",
          "39.9648",
          "40.0839",
          "40.0347",
          "40.081",
          "39.923",
          "39.969",
          "40.1088",
          "40.1357",
          "40.1454",
          "39.969",
          "39.969",
          "39.969",
          "39.969",
          "39.969",
          "39.969",
          "39.969",
          "39.969",
          "39.969",
          "39.969",
          "39.969",
          "39.969",
          "39.969",
          "40.9137",
          "35.3513",
          "35.4916",
          "35.4726",
          "35.491",
          "35.4794",
          "35.5108",
          "35.4853",
          "35.4874",
          "35.4445",
          "35.4259",
          "35.4605",
          "35.5042",
          "35.5184",
          "35.5514",
          "35.5704",
          "35.4449",
          "35.5463",
          "35.4797",
          "35.5136",
          "35.421",
          "35.5835",
          "35.5062",
          "35.5184",
          "35.536",
          "35.5514",
          "35.4654",
          "35.5514",
          "35.4834",
          "35.4444",
          "35.4312",
          "35.4604",
          "35.5797",
          "35.5583",
          "35.6174",
          "35.411",
          "35.6153",
          "35.5514",
          "35.3792",
          "35.5185",
          "35.4918",
          "35.599",
          "35.5514",
          "35.5514",
          "35.4304",
          "35.5514",
          "35.5514",
          "35.5514",
          "35.395",
          "35.4123",
          "35.5676",
          "35.5514",
          "35.5514",
          "35.5238",
          "35.5514",
          "35.5514",
          "35.5514",
          "35.3922",
          "35.334",
          "35.5806",
          "35.5514",
          "35.5514",
          "35.3267",
          "35.5514",
          "35.3882",
          "35.327",
          "35.5175",
          "35.3425",
          "35.5514",
          "35.5514",
          "35.4242",
          "35.5514",
          "35.5514",
          "35.5514",
          "35.5514",
          "35.5514",
          "35.5514",
          "35.5514",
          "35.474",
          "35.5514",
          "35.5514",
          "35.5514",
          "35.5514",
          "44.949",
          "44.9039",
          "44.9927",
          "44.9588",
          "44.9961",
          "44.8685",
          "44.9845",
          "44.9845",
          "44.9271",
          "44.9438",
          "44.9364",
          "44.9849",
          "44.9655",
          "44.9026",
          "40.2618",
          "40.2728",
          "40.2724",
          "40.2597",
          "40.2785",
          "40.2927",
          "40.297",
          "40.3086",
          "40.291",
          "40.303",
          "40.2721",
          "40.3352",
          "40.239",
          "40.2657",
          "40.2944",
          "40.2498",
          "40.2675",
          "40.2675",
          "40.2662",
          "40.2618",
          "40.2615",
          "40.3899",
          "40.2615",
          "40.2702",
          "40.3086",
          "40.299",
          "41.8228",
          "41.8184",
          "41.82",
          "41.8541",
          "41.7845",
          "41.8351",
          "41.7971",
          "41.8383",
          "41.8206",
          "41.8547",
          "41.8267",
          "41.8138",
          "41.8415",
          "41.8718",
          "33.995",
          "33.9568",
          "33.9252",
          "33.9",
          "34.0004",
          "33.9625",
          "34.0635",
          "34.026",
          "33.9903",
          "34.0247",
          "34.0197",
          "33.9937",
          "33.9659",
          "34.0479",
          "34.0967",
          "34.0726",
          "34.006",
          "34.006",
          "34.006",
          "34.006",
          "34.006",
          "34.006",
          "34.006",
          "34.006",
          "34.006",
          "34.0853",
          "34.006",
          "34.006",
          "34.006",
          "34.006",
          "33.9252",
          "34.1388",
          "34.1075",
          "34.006",
          "34.006",
          "34.006",
          "34.006",
          "34.006",
          "44.3695",
          "44.3426",
          "36.1657",
          "36.3403",
          "36.1504",
          "36.1067",
          "36.1114",
          "36.1798",
          "36.2195",
          "36.1762",
          "36.1546",
          "36.1379",
          "36.0725",
          "36.1337",
          "36.1663",
          "36.1633",
          "36.0986",
          "36.2125",
          "36.1052",
          "36.2071",
          "36.1678",
          "36.0641",
          "36.0662",
          "36.0562",
          "36.1866",
          "36.1866",
          "36.1901",
          "36.1866",
          "36.1866",
          "36.1866",
          "36.1866",
          "36.1866",
          "36.1866",
          "36.1866",
          "36.1866",
          "36.1866",
          "36.1866",
          "36.1866",
          "36.1866",
          "36.165",
          "36.1866",
          "36.1866",
          "36.1586",
          "36.1866",
          "36.1866",
          "36.1866",
          "36.1866",
          "30.3264",
          "30.3264",
          "30.2713",
          "30.2638",
          "30.2907",
          "30.2428",
          "30.2896",
          "30.3264",
          "30.3264",
          "30.352",
          "30.3264",
          "30.2852",
          "30.4686",
          "30.3358",
          "30.4501",
          "30.3162",
          "30.506",
          "30.3264",
          "30.1802",
          "30.3264",
          "30.2721",
          "30.2893",
          "30.3085",
          "30.296",
          "30.2562",
          "30.43",
          "30.4254",
          "30.4417",
          "30.4521",
          "30.3607",
          "30.3471",
          "30.3752",
          "30.3314",
          "30.3705",
          "30.249",
          "30.2444",
          "30.2107",
          "30.3337",
          "30.172",
          "30.2315",
          "30.2313",
          "30.1876",
          "30.2063",
          "30.2971",
          "30.1204",
          "30.1743",
          "30.2166",
          "30.4224",
          "30.3093",
          "30.3316",
          "30.3648",
          "30.3423",
          "30.3264",
          "30.3223",
          "30.3437",
          "30.3764",
          "30.4036",
          "30.3264",
          "30.3264",
          "30.3264",
          "30.3354",
          "30.4455",
          "30.3264",
          "30.4422",
          "30.222",
          "30.3264",
          "30.3264",
          "30.3264",
          "30.3264",
          "30.3264",
          "30.3264",
          "30.3264",
          "30.3264",
          "30.3264",
          "30.3264",
          "30.3264",
          "30.3264",
          "30.3264",
          "30.3264",
          "30.3264",
          "30.3264",
          "30.3264",
          "30.3718",
          "30.2962",
          "40.7559",
          "40.76",
          "40.7776",
          "40.7498",
          "40.7372",
          "40.7056",
          "40.6568",
          "40.7371",
          "40.7043",
          "40.6681",
          "40.7548",
          "40.7659",
          "40.7658",
          "40.6681",
          "40.7145",
          "40.7857",
          "40.6551",
          "40.6504",
          "40.7016",
          "40.695",
          "40.6226",
          "40.6681",
          "40.6596",
          "40.6772",
          "40.6681",
          "40.6681",
          "40.6681",
          "40.6976",
          "40.6681",
          "40.6681",
          "40.7727",
          "40.769",
          "40.6681",
          "40.6681",
          "40.7685",
          "40.6681",
          "40.6716",
          "40.6681",
          "40.7713",
          "40.6681",
          "40.6681",
          "40.7869",
          "40.7679",
          "40.6681",
          "40.6681",
          "40.7568",
          "40.6681",
          "40.6681",
          "40.7286",
          "40.6681",
          "40.6681",
          "40.769",
          "40.6681",
          "40.6681",
          "40.6681",
          "40.769",
          "40.6768",
          "40.6681",
          "40.6681",
          "40.6681",
          "40.7439",
          "40.7439",
          "40.7439",
          "40.7259",
          "44.1991",
          "44.2641",
          "44.1566",
          "44.2595",
          "44.2595",
          "44.2595",
          "44.2595",
          "44.2828",
          "44.2595",
          "37.5242",
          "37.5593",
          "37.5593",
          "37.5593",
          "37.5593",
          "37.5593",
          "37.5593",
          "37.5593",
          "37.5593",
          "37.5593",
          "37.5593",
          "37.5593",
          "37.5593",
          "37.5593",
          "37.5593",
          "37.5593",
          "37.5593",
          "37.5593",
          "37.5242",
          "37.5463",
          "37.5498",
          "37.5583",
          "37.5748",
          "37.5477",
          "37.4955",
          "37.5158",
          "37.5825",
          "37.6247",
          "37.625",
          "37.5957",
          "37.5921",
          "37.4915",
          "37.5202",
          "37.6455",
          "37.4373",
          "37.5133",
          "37.4782",
          "37.4011",
          "37.5974",
          "37.5242",
          "37.5242",
          "37.5313",
          "37.5242",
          "37.5075",
          "37.5313",
          "37.5242",
          "37.5242",
          "37.5679",
          "37.5242",
          "37.5242",
          "37.5242",
          "37.5242",
          "37.5242",
          "37.5242",
          "37.5242",
          "37.5535",
          "37.5242",
          "37.5242",
          "37.6376",
          "37.5242",
          "37.5494",
          "37.5242",
          "37.5242",
          "37.5313",
          "37.5313",
          "37.5242",
          "37.5242",
          "37.5242",
          "37.5242",
          "37.6329",
          "37.5532",
          "37.3897",
          "37.5406",
          "47.0129",
          "47.1043",
          "46.9781",
          "47.0654",
          "47.1042",
          "46.9781",
          "46.9781",
          "46.9498",
          "46.9939",
          "47.1126",
          "46.9781",
          "46.9781",
          "38.349",
          "38.4015",
          "38.3598",
          "38.3173",
          "38.3358",
          "38.3175",
          "38.3108",
          "38.349",
          "38.4096",
          "38.4142",
          "38.3274",
          "38.2351",
          "38.3356",
          "38.5428",
          "38.2968",
          "38.5347",
          "38.2968",
          "38.2968",
          "38.2968",
          "38.2968",
          "38.2968",
          "38.2968",
          "38.2968",
          "38.2968",
          "38.2968",
          "38.2968",
          "38.2968",
          "38.2968",
          "38.2968",
          "38.2968",
          "38.2968",
          "38.2968",
          "38.2968",
          "38.2968",
          "38.2968",
          "38.2968",
          "38.2968",
          "38.2968",
          "38.2968",
          "38.2968",
          "38.2968",
          "38.2968",
          "38.2968",
          "38.2968",
          "38.354",
          "38.2968",
          "38.2968",
          "43.0696",
          "43.0696",
          "43.0775",
          "43.1205",
          "43.073",
          "43.0769",
          "43.0696",
          "43.0696",
          "43.0696",
          "43.0696",
          "43.0356",
          "43.0372",
          "43.0977",
          "43.0653",
          "43.0631",
          "43.0736",
          "43.0984",
          "43.0321",
          "43.0696",
          "43.0696",
          "43.0696",
          "43.0469",
          "43.0696",
          "43.0696",
          "43.0982",
          "43.0696",
          "43.0696",
          "43.1596",
          "43.0489",
          "43.0696",
          "43.0696",
          "43.0696",
          "43.0767",
          "43.0696",
          "43.0696",
          "43.0696",
          "43.0696",
          "43.0696",
          "43.0696",
          "41.1437",
          "41.3274",
          "41.2191",
          "41.3274",
          "41.1084",
          "41.3274",
          "41.1836",
          "41.3274"
         ],
         "legendgroup": "",
         "lon": [
          "-86.2578",
          "-86.2085",
          "-86.2873",
          "-86.3081",
          "-86.3104",
          "-86.2673",
          "-86.2799",
          "-86.3529",
          "-86.2434",
          "-86.275",
          "-86.2715",
          "-86.3491",
          "-86.3039",
          "-86.2539",
          "-86.2474",
          "-86.2421",
          "-86.1833",
          "-86.2085",
          "-86.2085",
          "-86.2085",
          "-86.2085",
          "-86.2085",
          "-86.2085",
          "-86.2085",
          "-86.2085",
          "-86.2085",
          "-86.2085",
          "-86.2085",
          "-86.2085",
          "-86.2085",
          "-86.2843",
          "-86.2085",
          "-86.2085",
          "-86.2085",
          "-86.2085",
          "-86.2085",
          "-86.2843",
          "-86.2469",
          "-86.2843",
          "-86.2843",
          "-86.2843",
          "-86.2827",
          "-86.2843",
          "-86.2822",
          "-134.5294",
          "-134.5897",
          "-134.6174",
          "-134.1978",
          "-134.4742",
          "-134.1978",
          "-112.3518",
          "-112.1872",
          "-112.0774",
          "-112.0686",
          "-112.1872",
          "-112.0474",
          "-112.0893",
          "-111.9984",
          "-112.1284",
          "-112.1872",
          "-112.1872",
          "-112.0678",
          "-112.0827",
          "-112.0556",
          "-112.1011",
          "-112.0305",
          "-112.1212",
          "-111.9883",
          "-112.1417",
          "-112.0559",
          "-112.0927",
          "-112.052",
          "-112.1118",
          "-112.037",
          "-111.7236",
          "-112.1872",
          "-112.0996",
          "-112.0087",
          "-112.1199",
          "-112.1872",
          "-112.1696",
          "-112.0044",
          "-112.2132",
          "-112.0421",
          "-112.1832",
          "-112.1872",
          "-112.2468",
          "-112.1872",
          "-112.1872",
          "-112.0265",
          "-112.0954",
          "-112.0283",
          "-112.1972",
          "-111.9943",
          "-112.1226",
          "-112.1872",
          "-112.0669",
          "-111.9963",
          "-112.1332",
          "-112.1316",
          "-111.9461",
          "-112.1872",
          "-112.1872",
          "-112.1872",
          "-112.1872",
          "-112.1872",
          "-112.1872",
          "-112.1872",
          "-112.1872",
          "-112.1872",
          "-112.1872",
          "-112.1872",
          "-112.1872",
          "-112.1872",
          "-112.1872",
          "-112.1872",
          "-112.1872",
          "-112.1872",
          "-112.1872",
          "-112.1872",
          "-112.1872",
          "-112.1872",
          "-112.1872",
          "-112.1872",
          "-112.1294",
          "-112.0893",
          "-112.1202",
          "-112.1872",
          "-112.1872",
          "-112.1872",
          "-92.1397",
          "-92.2629",
          "-92.3925",
          "-92.2305",
          "-92.1524",
          "-92.3289",
          "-92.2598",
          "-92.3925",
          "-92.3925",
          "-92.2828",
          "-92.2847",
          "-92.2819",
          "-92.2741",
          "-92.3908",
          "-92.344",
          "-92.3455",
          "-92.2776",
          "-92.3565",
          "-92.5819",
          "-92.3529",
          "-92.466",
          "-92.4222",
          "-92.4222",
          "-92.2282",
          "-92.3925",
          "-92.2357",
          "-92.1702",
          "-92.3925",
          "-92.3925",
          "-92.3925",
          "-92.5044",
          "-92.3541",
          "-92.3925",
          "-92.3724",
          "-92.1894",
          "-92.34",
          "-92.3925",
          "-92.3541",
          "-121.5554",
          "-121.4444",
          "-121.4444",
          "-121.4444",
          "-121.4444",
          "-121.4444",
          "-121.4444",
          "-121.4444",
          "-121.4444",
          "-121.4444",
          "-121.4444",
          "-121.4444",
          "-121.4444",
          "-121.4444",
          "-121.4444",
          "-121.4444",
          "-121.4444",
          "-121.4444",
          "-121.4444",
          "-121.4444",
          "-121.4444",
          "-121.4444",
          "-121.4444",
          "-121.4444",
          "-121.4444",
          "-121.4444",
          "-121.4444",
          "-121.4444",
          "-121.4444",
          "-121.4444",
          "-121.4444",
          "-121.4444",
          "-121.4444",
          "-121.4444",
          "-121.4444",
          "-121.4444",
          "-121.4444",
          "-121.4444",
          "-121.4444",
          "-121.4444",
          "-121.4444",
          "-121.4444",
          "-121.4444",
          "-121.4444",
          "-121.4444",
          "-121.4444",
          "-121.4444",
          "-121.4444",
          "-121.4444",
          "-121.4444",
          "-121.4444",
          "-121.4444",
          "-121.4444",
          "-121.4444",
          "-121.4444",
          "-121.4444",
          "-121.4444",
          "-121.4444",
          "-121.4444",
          "-121.4444",
          "-121.4444",
          "-121.4444",
          "-121.5325",
          "-121.5516",
          "-121.5291",
          "-121.5715",
          "-121.488",
          "-121.4943",
          "-121.4475",
          "-121.4922",
          "-121.4443",
          "-121.4675",
          "-121.4583",
          "-121.4929",
          "-121.4366",
          "-121.4451",
          "-121.3837",
          "-121.4935",
          "-121.4438",
          "-121.4419",
          "-121.4057",
          "-121.3693",
          "-121.3286",
          "-121.4006",
          "-121.344",
          "-121.2772",
          "-121.5297",
          "-121.4883",
          "-121.5053",
          "-121.5072",
          "-121.4834",
          "-121.5343",
          "-121.603",
          "-121.444",
          "-121.4933",
          "-121.3406",
          "-121.3494",
          "-121.4475",
          "-121.4475",
          "-121.4475",
          "-121.4933",
          "-121.3799",
          "-121.3769",
          "-121.3978",
          "-121.3978",
          "-121.4933",
          "-121.4933",
          "-121.4933",
          "-121.4933",
          "-121.5549",
          "-104.8568",
          "-104.9946",
          "-104.9811",
          "-105.0259",
          "-104.9661",
          "-104.9524",
          "-104.9177",
          "-104.4083",
          "-104.9686",
          "-104.9631",
          "-105.0204",
          "-105.0493",
          "-105.0643",
          "-105.1009",
          "-104.9669",
          "-104.4083",
          "-104.9717",
          "-105.0341",
          "-104.9129",
          "-104.9988",
          "-104.9279",
          "-105.0028",
          "-104.9108",
          "-105.1204",
          "-105.0918",
          "-105.0854",
          "-105.156",
          "-104.9227",
          "-104.8951",
          "-104.8843",
          "-105.0908",
          "-104.9407",
          "-105.0109",
          "-105.0795",
          "-105.0376",
          "-104.8987",
          "-104.4083",
          "-104.8288",
          "-104.9548",
          "-104.4083",
          "-104.4083",
          "-104.9312",
          "-104.8819",
          "-104.4083",
          "-104.7556",
          "-104.4083",
          "-104.4083",
          "-104.4083",
          "-104.4083",
          "-104.4083",
          "-104.9928",
          "-104.4083",
          "-104.9913",
          "-105.0041",
          "-104.985",
          "-104.9384",
          "-104.4083",
          "-104.9863",
          "-104.4083",
          "-104.9915",
          "-104.4083",
          "-104.4083",
          "-104.9875",
          "-104.9876",
          "-104.4083",
          "-104.4083",
          "-104.9069",
          "-104.9876",
          "-104.9813",
          "-104.9876",
          "-104.9876",
          "-104.9928",
          "-104.9907",
          "-104.989",
          "-104.9863",
          "-104.4083",
          "-73.0104",
          "-72.6771",
          "-72.7188",
          "-72.676",
          "-72.7188",
          "-72.701",
          "-72.6947",
          "-72.7532",
          "-72.618",
          "-72.7337",
          "-72.6964",
          "-72.6807",
          "-72.6794",
          "-72.7457",
          "-72.6103",
          "-72.7268",
          "-72.6758",
          "-72.7188",
          "-72.7188",
          "-72.7188",
          "-72.7188",
          "-72.7188",
          "-72.7188",
          "-72.7188",
          "-72.7188",
          "-72.7188",
          "-72.7188",
          "-72.7188",
          "-72.7188",
          "-72.7188",
          "-72.7188",
          "-72.7188",
          "-72.7188",
          "-72.7188",
          "-72.7188",
          "-72.7188",
          "-72.7188",
          "-72.7188",
          "-72.6867",
          "-72.6865",
          "-72.6907",
          "-72.6933",
          "-72.6718",
          "-72.7188",
          "-72.7188",
          "-72.7188",
          "-72.673",
          "-72.6804",
          "-75.4955",
          "-75.4818",
          "-75.448",
          "-75.5974",
          "-75.448",
          "-75.5294",
          "-84.2593",
          "-84.3462",
          "-84.3189",
          "-84.3211",
          "-84.287",
          "-84.2986",
          "-84.2877",
          "-84.2246",
          "-84.1413",
          "-84.3298",
          "-84.187",
          "-84.2627",
          "-84.3462",
          "-84.3462",
          "-84.3462",
          "-84.3462",
          "-84.1128",
          "-84.265",
          "-84.3462",
          "-84.291",
          "-84.474",
          "-84.474",
          "-84.3888",
          "-84.4293",
          "-84.3851",
          "-84.3514",
          "-84.336",
          "-84.3757",
          "-84.3883",
          "-84.4232",
          "-84.4702",
          "-84.3781",
          "-84.3935",
          "-84.4255",
          "-84.3808",
          "-84.3339",
          "-84.3168",
          "-84.4454",
          "-84.3351",
          "-84.4236",
          "-84.474",
          "-84.3248",
          "-84.474",
          "-84.3549",
          "-84.474",
          "-84.3582",
          "-84.42",
          "-84.3958",
          "-84.3214",
          "-84.4321",
          "-84.5205",
          "-84.398",
          "-84.0746",
          "-84.3872",
          "-84.5545",
          "-84.4618",
          "-84.3249",
          "-84.4629",
          "-84.2539",
          "-84.2905",
          "-84.3761",
          "-84.474",
          "-84.448",
          "-84.287",
          "-84.3334",
          "-84.474",
          "-84.474",
          "-84.4813",
          "-84.3411",
          "-84.474",
          "-84.357",
          "-84.474",
          "-84.3896",
          "-84.474",
          "-84.0746",
          "-84.474",
          "-84.3411",
          "-84.0746",
          "-84.2716",
          "-84.474",
          "-84.0746",
          "-84.3992",
          "-84.474",
          "-84.474",
          "-84.0746",
          "-84.474",
          "-84.474",
          "-84.474",
          "-84.474",
          "-84.474",
          "-84.474",
          "-84.474",
          "-84.474",
          "-84.474",
          "-84.474",
          "-84.474",
          "-84.474",
          "-84.3879",
          "-84.474",
          "-84.474",
          "-84.474",
          "-84.474",
          "-84.474",
          "-84.474",
          "-84.474",
          "-84.474",
          "-84.474",
          "-84.474",
          "-84.474",
          "-84.474",
          "-84.474",
          "-84.474",
          "-84.0746",
          "-84.3877",
          "-84.474",
          "-84.474",
          "-84.3883",
          "-84.3824",
          "-84.474",
          "-84.0746",
          "-84.0746",
          "-84.0746",
          "-84.474",
          "-84.474",
          "-84.4226",
          "-84.4226",
          "-84.4226",
          "-84.4226",
          "-84.4226",
          "-84.4226",
          "-84.4226",
          "-84.474",
          "-84.474",
          "-84.474",
          "-84.474",
          "-84.474",
          "-84.474",
          "-84.474",
          "-84.474",
          "-84.0746",
          "-168.0218",
          "-168.0218",
          "-168.0218",
          "-168.0218",
          "-168.0218",
          "-168.0218",
          "-168.0218",
          "-168.0218",
          "-168.0218",
          "-168.0218",
          "-168.0218",
          "-157.8585",
          "-157.8521",
          "-157.8439",
          "-157.8266",
          "-157.8006",
          "-157.8615",
          "-157.9269",
          "-157.8759",
          "-168.0218",
          "-157.7552",
          "-157.8298",
          "-168.0218",
          "-168.0218",
          "-157.6985",
          "-157.8284",
          "-168.0218",
          "-168.0218",
          "-157.834",
          "-168.0218",
          "-168.0218",
          "-168.0218",
          "-168.0218",
          "-168.0218",
          "-168.0218",
          "-168.0218",
          "-168.0218",
          "-168.0218",
          "-168.0218",
          "-168.0218",
          "-168.0218",
          "-168.0218",
          "-168.0218",
          "-168.0218",
          "-168.0218",
          "-116.2729",
          "-116.2052",
          "-116.2524",
          "-116.2951",
          "-116.2191",
          "-116.191",
          "-115.9971",
          "-116.244",
          "-116.2941",
          "-116.244",
          "-116.1649",
          "-116.3419",
          "-116.2797",
          "-116.244",
          "-115.9711",
          "-116.244",
          "-116.244",
          "-116.244",
          "-116.244",
          "-116.244",
          "-116.244",
          "-116.1952",
          "-116.244",
          "-116.244",
          "-116.244",
          "-116.244",
          "-116.244",
          "-116.244",
          "-116.244",
          "-116.244",
          "-116.244",
          "-116.244",
          "-116.244",
          "-116.244",
          "-116.244",
          "-116.2823",
          "-116.244",
          "-89.6495",
          "-89.6465",
          "-89.6275",
          "-89.6889",
          "-89.606",
          "-89.6534",
          "-89.6544",
          "-89.5864",
          "-89.606",
          "-89.7293",
          "-89.58",
          "-89.606",
          "-89.606",
          "-89.5364",
          "-89.6466",
          "-89.606",
          "-89.606",
          "-89.606",
          "-89.606",
          "-89.606",
          "-89.606",
          "-89.606",
          "-89.606",
          "-89.606",
          "-89.606",
          "-89.606",
          "-89.541",
          "-89.606",
          "-89.606",
          "-89.606",
          "-89.606",
          "-89.606",
          "-89.606",
          "-89.606",
          "-89.606",
          "-89.606",
          "-89.606",
          "-89.606",
          "-89.606",
          "-89.606",
          "-89.606",
          "-86.1093",
          "-86.1595",
          "-86.1179",
          "-86.1535",
          "-86.1386",
          "-86.1613",
          "-86.1606",
          "-86.1794",
          "-86.1328",
          "-86.1328",
          "-86.2875",
          "-86.0136",
          "-86.1976",
          "-86.1014",
          "-86.0495",
          "-86.1182",
          "-86.1924",
          "-86.2136",
          "-86.1328",
          "-86.2707",
          "-86.1569",
          "-86.0836",
          "-86.1302",
          "-86.1951",
          "-85.9779",
          "-86.1328",
          "-86.3029",
          "-86.3163",
          "-85.9741",
          "-85.9765",
          "-86.0757",
          "-86.0005",
          "-86.1238",
          "-86.2614",
          "-86.1328",
          "-86.1328",
          "-86.1328",
          "-86.0061",
          "-86.0673",
          "-86.1328",
          "-86.1328",
          "-86.272",
          "-86.1328",
          "-86.0094",
          "-85.9981",
          "-86.1797",
          "-86.2374",
          "-86.1328",
          "-86.2123",
          "-86.1328",
          "-86.1328",
          "-86.1328",
          "-86.2768",
          "-86.1157",
          "-86.1328",
          "-86.1328",
          "-86.1328",
          "-86.1633",
          "-86.1328",
          "-86.1328",
          "-86.1495",
          "-86.1328",
          "-93.7447",
          "-93.7994",
          "-93.5722",
          "-93.5722",
          "-93.5722",
          "-93.5722",
          "-93.5722",
          "-93.5722",
          "-93.5722",
          "-93.5722",
          "-93.6212",
          "-93.6736",
          "-93.6729",
          "-93.6719",
          "-93.6203",
          "-93.633",
          "-93.6192",
          "-93.6",
          "-93.5296",
          "-93.5722",
          "-93.604",
          "-93.5827",
          "-93.6618",
          "-93.4848",
          "-93.5722",
          "-93.5722",
          "-93.5722",
          "-93.5722",
          "-93.5722",
          "-93.5722",
          "-93.5722",
          "-93.5722",
          "-93.5722",
          "-93.5722",
          "-93.5722",
          "-93.5722",
          "-93.5722",
          "-93.5722",
          "-93.5722",
          "-93.5722",
          "-93.5722",
          "-93.5722",
          "-93.5722",
          "-93.5722",
          "-93.5722",
          "-93.5722",
          "-93.5722",
          "-93.5722",
          "-93.5722",
          "-93.5722",
          "-93.6274",
          "-93.5722",
          "-93.5722",
          "-93.5722",
          "-93.5722",
          "-93.5722",
          "-93.7855",
          "-93.5722",
          "-93.5722",
          "-93.5722",
          "-93.5722",
          "-93.5722",
          "-93.5722",
          "-95.7807",
          "-95.6802",
          "-95.7178",
          "-95.6439",
          "-95.7095",
          "-95.6449",
          "-95.6867",
          "-95.6681",
          "-95.7461",
          "-95.6982",
          "-95.6818",
          "-95.7469",
          "-95.7906",
          "-95.6413",
          "-95.6384",
          "-95.7023",
          "-95.7236",
          "-95.7697",
          "-95.7015",
          "-95.7697",
          "-95.7697",
          "-95.7697",
          "-95.7697",
          "-95.7697",
          "-95.7697",
          "-95.7697",
          "-95.7697",
          "-95.7697",
          "-95.7697",
          "-95.7697",
          "-95.7697",
          "-95.7697",
          "-95.7697",
          "-95.7697",
          "-95.7697",
          "-95.7697",
          "-95.7697",
          "-95.7697",
          "-95.7697",
          "-95.7697",
          "-84.8697",
          "-84.8748",
          "-84.8748",
          "-84.8748",
          "-84.8748",
          "-84.8748",
          "-84.8748",
          "-84.8748",
          "-84.8748",
          "-91.1856",
          "-91.1775",
          "-91.1868",
          "-91.1339",
          "-91.1481",
          "-91.13",
          "-91.2246",
          "-91.1468",
          "-91.0842",
          "-91.0919",
          "-91.1167",
          "-91.1181",
          "-91.1949",
          "-91.0689",
          "-91.0596",
          "-91.0356",
          "-91.0021",
          "-91.05",
          "-91.0156",
          "-91.1671",
          "-91.0447",
          "-91.0804",
          "-91.0804",
          "-91.0804",
          "-91.0804",
          "-91.0825",
          "-91.0804",
          "-91.0804",
          "-91.0804",
          "-91.0892",
          "-91.0804",
          "-91.1163",
          "-91.2054",
          "-91.0804",
          "-91.0804",
          "-91.0804",
          "-91.1547",
          "-91.0804",
          "-91.1715",
          "-91.0804",
          "-91.0804",
          "-91.0804",
          "-91.0804",
          "-69.7665",
          "-69.7519",
          "-69.7519",
          "-69.818",
          "-69.7519",
          "-76.7988",
          "-76.5501",
          "-76.4715",
          "-76.491",
          "-76.5949",
          "-76.5515",
          "-76.4377",
          "-76.5949",
          "-76.5949",
          "-71.027",
          "-70.9196",
          "-70.9196",
          "-70.9196",
          "-70.9196",
          "-71.0734",
          "-70.9196",
          "-71.0684",
          "-71.0545",
          "-71.0514",
          "-71.0629",
          "-70.9196",
          "-71.056",
          "-71.0682",
          "-71.0922",
          "-71.0768",
          "-71.058",
          "-71.0729",
          "-71.0846",
          "-71.0964",
          "-71.0816",
          "-71.0552",
          "-70.9196",
          "-71.071",
          "-71.0672",
          "-71.0375",
          "-71.0257",
          "-70.9196",
          "-71.1122",
          "-70.9196",
          "-71.0825",
          "-70.9196",
          "-71.0618",
          "-71.0604",
          "-70.9196",
          "-71.0539",
          "-70.9196",
          "-70.9196",
          "-70.9196",
          "-70.9196",
          "-71.0465",
          "-70.9196",
          "-71.4594",
          "-71.1027",
          "-70.9196",
          "-70.9196",
          "-71.0633",
          "-71.0886",
          "-70.9196",
          "-70.9196",
          "-70.9196",
          "-70.9196",
          "-70.9196",
          "-70.9196",
          "-70.9196",
          "-71.0323",
          "-84.4764",
          "-84.4882",
          "-84.4648",
          "-84.372",
          "-84.6228",
          "-84.372",
          "-84.558",
          "-84.8382",
          "-84.8382",
          "-84.372",
          "-84.549",
          "-84.5772",
          "-84.5244",
          "-84.372",
          "-84.5704",
          "-84.372",
          "-84.6244",
          "-84.372",
          "-84.5517",
          "-84.5556",
          "-84.5587",
          "-84.372",
          "-84.5587",
          "-84.5587",
          "-84.5571",
          "-84.559",
          "-84.372",
          "-84.5365",
          "-84.5587",
          "-84.372",
          "-92.9873",
          "-93.046",
          "-93.0902",
          "-93.1209",
          "-93.1216",
          "-93.158",
          "-93.1651",
          "-93.0488",
          "-93.088",
          "-93.1771",
          "-93.0297",
          "-93.0223",
          "-93.2007",
          "-93.1872",
          "-93.1571",
          "-93.1981",
          "-92.9391",
          "-93.1727",
          "-93.0969",
          "-93.1034",
          "-93.0107",
          "-93.1434",
          "-93.1543",
          "-93.2202",
          "-93.1409",
          "-93.2029",
          "-92.9439",
          "-93.138",
          "-93.0875",
          "-92.9487",
          "-92.923",
          "-93.0827",
          "-93.1059",
          "-93.1059",
          "-93.1059",
          "-93.0828",
          "-93.0955",
          "-93.1059",
          "-93.1066",
          "-93.1059",
          "-93.1059",
          "-93.1059",
          "-93.1059",
          "-93.1059",
          "-93.1059",
          "-93.1059",
          "-93.1059",
          "-93.1059",
          "-93.1059",
          "-93.1059",
          "-93.1059",
          "-93.1059",
          "-93.1059",
          "-93.1059",
          "-93.0932",
          "-90.2076",
          "-90.1867",
          "-90.1782",
          "-90.2021",
          "-90.2306",
          "-90.3972",
          "-90.1738",
          "-90.3972",
          "-90.0897",
          "-90.2446",
          "-90.1771",
          "-90.1293",
          "-90.2612",
          "-90.2171",
          "-90.3972",
          "-90.1708",
          "-90.2081",
          "-90.1591",
          "-90.3972",
          "-90.0915",
          "-90.3972",
          "-90.3972",
          "-90.3972",
          "-90.1886",
          "-90.3972",
          "-90.2595",
          "-90.3972",
          "-90.3972",
          "-90.3972",
          "-90.3972",
          "-89.7996",
          "-90.3972",
          "-90.3972",
          "-89.9923",
          "-92.1525",
          "-92.2493",
          "-92.2493",
          "-92.2493",
          "-92.2493",
          "-92.2493",
          "-92.2493",
          "-92.2493",
          "-92.2443",
          "-92.2493",
          "-92.2493",
          "-112.0213",
          "-111.958",
          "-111.9689",
          "-112.3302",
          "-112.0402",
          "-112.0624",
          "-112.0413",
          "-112.3302",
          "-111.9051",
          "-96.8231",
          "-96.6938",
          "-96.6766",
          "-96.6532",
          "-96.6252",
          "-96.6431",
          "-96.6289",
          "-96.7009",
          "-96.6888",
          "-96.6545",
          "-96.7103",
          "-96.6946",
          "-96.6621",
          "-96.6523",
          "-96.6045",
          "-96.5693",
          "-96.711",
          "-96.7479",
          "-96.7583",
          "-96.7943",
          "-96.5878",
          "-96.5401",
          "-96.7545",
          "-96.7798",
          "-96.7201",
          "-96.8551",
          "-96.6888",
          "-96.6888",
          "-96.6888",
          "-96.6888",
          "-96.6928",
          "-119.7459",
          "-119.7588",
          "-119.7782",
          "-119.8059",
          "-119.7526",
          "-119.7764",
          "-119.7764",
          "-119.7764",
          "-119.7764",
          "-119.7764",
          "-119.7764",
          "-71.5277",
          "-71.6629",
          "-71.6595",
          "-71.5172",
          "-71.5378",
          "-74.712",
          "-74.712",
          "-74.712",
          "-74.712",
          "-74.712",
          "-74.712",
          "-74.712",
          "-74.7622",
          "-74.741",
          "-74.705",
          "-74.7416",
          "-74.7821",
          "-74.6962",
          "-74.6488",
          "-74.712",
          "-74.8168",
          "-74.7334",
          "-74.7627",
          "-74.6052",
          "-74.588",
          "-74.712",
          "-74.712",
          "-74.712",
          "-74.6912",
          "-74.712",
          "-74.712",
          "-74.712",
          "-74.6576",
          "-74.5939",
          "-74.712",
          "-105.9821",
          "-106.1237",
          "-105.9818",
          "-106.0075",
          "-105.8688",
          "-105.9886",
          "-106.0152",
          "-105.926",
          "-105.9818",
          "-105.9818",
          "-105.9818",
          "-73.9708",
          "-73.7641",
          "-73.8575",
          "-73.7354",
          "-73.8207",
          "-73.7744",
          "-73.7508",
          "-73.7964",
          "-73.7854",
          "-73.7605",
          "-73.7739",
          "-73.8104",
          "-73.9708",
          "-73.9708",
          "-73.8253",
          "-73.9708",
          "-73.9708",
          "-73.9708",
          "-73.9708",
          "-73.9708",
          "-73.9708",
          "-73.9708",
          "-73.9708",
          "-73.9708",
          "-73.9708",
          "-73.9708",
          "-73.9708",
          "-73.9708",
          "-73.9708",
          "-73.9708",
          "-73.9708",
          "-73.9708",
          "-73.9708",
          "-73.9708",
          "-73.9708",
          "-73.9708",
          "-73.9708",
          "-73.9708",
          "-73.7503",
          "-73.9708",
          "-73.9708",
          "-73.9708",
          "-73.9708",
          "-73.9708",
          "-73.9708",
          "-73.9708",
          "-73.9708",
          "-73.9708",
          "-73.9708",
          "-73.9708",
          "-73.9708",
          "-78.6324",
          "-78.6711",
          "-78.6563",
          "-78.5799",
          "-78.653",
          "-78.7112",
          "-78.6877",
          "-78.6463",
          "-78.6317",
          "-78.6008",
          "-78.6253",
          "-78.6841",
          "-78.7051",
          "-78.6433",
          "-78.6393",
          "-78.5381",
          "-78.7447",
          "-78.6314",
          "-78.6253",
          "-78.6253",
          "-78.6253",
          "-78.6253",
          "-78.6253",
          "-78.6253",
          "-78.6253",
          "-78.6253",
          "-78.6253",
          "-78.5524",
          "-78.6253",
          "-78.6253",
          "-78.6253",
          "-78.6253",
          "-78.6253",
          "-78.6253",
          "-78.6253",
          "-78.6253",
          "-78.6253",
          "-78.6253",
          "-78.6253",
          "-78.6253",
          "-78.6253",
          "-78.4134",
          "-78.6253",
          "-78.6253",
          "-100.7748",
          "-100.6819",
          "-100.7843",
          "-100.678",
          "-100.7805",
          "-100.5201",
          "-100.5201",
          "-83.0157",
          "-83.0047",
          "-83.0118",
          "-82.9691",
          "-83.078",
          "-82.9644",
          "-82.9748",
          "-82.9703",
          "-82.9301",
          "-83.0164",
          "-82.9732",
          "-83.0456",
          "-82.8329",
          "-83.0188",
          "-83.0044",
          "-83.0114",
          "-82.9342",
          "-83.0114",
          "-82.9103",
          "-83.0669",
          "-83.0776",
          "-83.0311",
          "-83.0463",
          "-82.9689",
          "-83.0114",
          "-82.8903",
          "-83.126",
          "-82.9726",
          "-82.8726",
          "-82.9383",
          "-82.8664",
          "-83.0114",
          "-82.9742",
          "-83.0076",
          "-82.9817",
          "-83.0114",
          "-83.0114",
          "-83.0114",
          "-83.0114",
          "-83.0114",
          "-83.0114",
          "-83.0114",
          "-83.0114",
          "-83.0114",
          "-83.0114",
          "-83.0114",
          "-83.0114",
          "-83.0114",
          "-84.0705",
          "-97.4953",
          "-97.5628",
          "-97.5199",
          "-97.5196",
          "-97.5017",
          "-97.5003",
          "-97.5372",
          "-97.574",
          "-97.5619",
          "-97.5261",
          "-97.3974",
          "-97.4806",
          "-97.5746",
          "-97.4075",
          "-97.5257",
          "-97.446",
          "-97.5642",
          "-97.4722",
          "-97.5319",
          "-97.5616",
          "-97.5638",
          "-97.4452",
          "-97.6167",
          "-97.2023",
          "-97.4075",
          "-97.5218",
          "-97.4075",
          "-97.6299",
          "-97.6164",
          "-97.4913",
          "-97.3419",
          "-97.4691",
          "-97.6375",
          "-97.5583",
          "-97.4388",
          "-97.3262",
          "-97.4075",
          "-97.5362",
          "-97.4275",
          "-97.3666",
          "-97.6251",
          "-97.4075",
          "-97.4075",
          "-97.3962",
          "-97.4075",
          "-97.4075",
          "-97.4075",
          "-97.4972",
          "-97.3331",
          "-97.4111",
          "-97.4075",
          "-97.4075",
          "-97.5255",
          "-97.4075",
          "-97.4075",
          "-97.4075",
          "-97.5567",
          "-97.4768",
          "-97.6419",
          "-97.4075",
          "-97.4075",
          "-97.3534",
          "-97.4075",
          "-97.6587",
          "-97.5556",
          "-97.6218",
          "-97.6317",
          "-97.4075",
          "-97.4075",
          "-97.6547",
          "-97.4075",
          "-97.4075",
          "-97.4075",
          "-97.4075",
          "-97.4075",
          "-97.4075",
          "-97.4075",
          "-97.5227",
          "-97.4075",
          "-97.4075",
          "-97.4075",
          "-97.4075",
          "-123.004",
          "-123.0445",
          "-123.0167",
          "-123.0753",
          "-122.9124",
          "-123.0438",
          "-122.457",
          "-122.457",
          "-122.9861",
          "-123.0286",
          "-123.0381",
          "-122.9988",
          "-123.0066",
          "-122.9074",
          "-76.8831",
          "-76.891",
          "-76.861",
          "-76.8594",
          "-76.8752",
          "-76.8501",
          "-76.8764",
          "-76.8017",
          "-76.8203",
          "-76.8862",
          "-76.8017",
          "-76.7914",
          "-76.8416",
          "-76.8827",
          "-76.8938",
          "-76.8712",
          "-76.8837",
          "-76.886",
          "-76.8829",
          "-76.88",
          "-76.8809",
          "-76.7823",
          "-76.8809",
          "-76.8829",
          "-76.8464",
          "-76.8472",
          "-71.4145",
          "-71.4249",
          "-71.4158",
          "-71.4378",
          "-71.3959",
          "-71.3971",
          "-71.4255",
          "-71.4377",
          "-71.4443",
          "-71.4735",
          "-71.3977",
          "-71.3688",
          "-71.4404",
          "-71.5585",
          "-81.0888",
          "-81.1405",
          "-81.2483",
          "-81.091",
          "-81.0334",
          "-80.9797",
          "-81.0265",
          "-81.0046",
          "-80.9997",
          "-80.9532",
          "-80.9391",
          "-81.0199",
          "-80.9355",
          "-81.1101",
          "-80.9223",
          "-81.1796",
          "-80.9708",
          "-80.9708",
          "-80.9708",
          "-80.9708",
          "-80.9708",
          "-80.9708",
          "-80.9708",
          "-80.9708",
          "-80.9708",
          "-80.9167",
          "-80.9708",
          "-80.9708",
          "-80.9708",
          "-80.9708",
          "-81.2483",
          "-80.8892",
          "-81.0626",
          "-80.9708",
          "-80.9708",
          "-80.9708",
          "-80.9708",
          "-80.9708",
          "-100.3211",
          "-100.4043",
          "-86.7781",
          "-86.8273",
          "-86.7916",
          "-86.7743",
          "-86.869",
          "-86.7411",
          "-86.774",
          "-86.8076",
          "-86.8602",
          "-86.741",
          "-86.724",
          "-86.8006",
          "-86.7669",
          "-86.6609",
          "-86.8219",
          "-86.7257",
          "-86.6591",
          "-86.8456",
          "-86.7837",
          "-86.7697",
          "-86.9639",
          "-86.9801",
          "-86.7852",
          "-86.7852",
          "-86.8053",
          "-86.7852",
          "-86.7852",
          "-86.7852",
          "-86.7852",
          "-86.7852",
          "-86.7852",
          "-86.7852",
          "-86.7852",
          "-86.7852",
          "-86.7852",
          "-86.7852",
          "-86.7852",
          "-86.7821",
          "-86.7852",
          "-86.7852",
          "-86.79",
          "-86.7852",
          "-86.7852",
          "-86.7852",
          "-86.7852",
          "-97.7713",
          "-97.7713",
          "-97.7426",
          "-97.7166",
          "-97.7648",
          "-97.7658",
          "-97.7396",
          "-97.7713",
          "-97.7713",
          "-97.7151",
          "-97.7713",
          "-97.7354",
          "-97.8433",
          "-97.4438",
          "-97.4865",
          "-97.8588",
          "-97.7472",
          "-97.7713",
          "-97.6667",
          "-97.7713",
          "-97.6868",
          "-97.715",
          "-97.6849",
          "-97.6396",
          "-97.6243",
          "-97.8326",
          "-97.7195",
          "-97.6811",
          "-97.7688",
          "-97.8241",
          "-97.7609",
          "-97.9007",
          "-97.8666",
          "-97.9427",
          "-97.8414",
          "-97.916",
          "-97.9427",
          "-97.9824",
          "-97.8784",
          "-97.7223",
          "-97.6703",
          "-97.7472",
          "-97.7956",
          "-97.8181",
          "-97.7433",
          "-97.8225",
          "-97.8508",
          "-97.7967",
          "-97.7242",
          "-97.7004",
          "-97.6827",
          "-97.6673",
          "-97.7713",
          "-97.739",
          "-97.7316",
          "-97.7078",
          "-97.7526",
          "-97.7713",
          "-97.7713",
          "-97.7713",
          "-97.5598",
          "-97.6595",
          "-97.7713",
          "-97.6233",
          "-97.8963",
          "-97.7713",
          "-97.7713",
          "-97.7713",
          "-97.7713",
          "-97.7713",
          "-97.7713",
          "-97.7713",
          "-97.7713",
          "-97.7713",
          "-97.7713",
          "-97.7713",
          "-97.7713",
          "-97.7713",
          "-97.7713",
          "-97.7713",
          "-97.7713",
          "-97.7713",
          "-97.6826",
          "-97.757",
          "-111.8967",
          "-111.8627",
          "-111.8749",
          "-111.926",
          "-111.8581",
          "-111.8548",
          "-111.8904",
          "-111.8258",
          "-111.8142",
          "-111.9083",
          "-111.881",
          "-111.8403",
          "-111.8364",
          "-111.9083",
          "-111.8931",
          "-111.9291",
          "-111.834",
          "-112.0054",
          "-111.9461",
          "-112.0001",
          "-111.7777",
          "-111.9083",
          "-111.9193",
          "-111.8133",
          "-111.9083",
          "-111.9083",
          "-111.9083",
          "-112.0377",
          "-111.9083",
          "-111.9083",
          "-111.8385",
          "-111.8893",
          "-111.9083",
          "-111.9083",
          "-111.8879",
          "-111.9083",
          "-111.7483",
          "-111.9083",
          "-111.9309",
          "-111.9083",
          "-111.9083",
          "-111.9008",
          "-111.8908",
          "-111.9083",
          "-111.9083",
          "-111.8376",
          "-111.9083",
          "-111.9083",
          "-111.6627",
          "-111.9083",
          "-111.9083",
          "-111.7621",
          "-111.9083",
          "-111.9083",
          "-111.9083",
          "-111.9008",
          "-111.9568",
          "-111.9083",
          "-111.9083",
          "-111.9083",
          "-111.8918",
          "-111.8918",
          "-111.8918",
          "-111.9394",
          "-72.5596",
          "-72.577",
          "-72.6559",
          "-72.585",
          "-72.585",
          "-72.585",
          "-72.585",
          "-72.4926",
          "-72.585",
          "-77.4932",
          "-77.4471",
          "-77.4471",
          "-77.4471",
          "-77.4471",
          "-77.4471",
          "-77.4471",
          "-77.4471",
          "-77.4471",
          "-77.4471",
          "-77.4471",
          "-77.4471",
          "-77.4471",
          "-77.4471",
          "-77.4471",
          "-77.4471",
          "-77.4471",
          "-77.4471",
          "-77.4932",
          "-77.4378",
          "-77.4588",
          "-77.4845",
          "-77.4267",
          "-77.3948",
          "-77.471",
          "-77.5047",
          "-77.5197",
          "-77.4351",
          "-77.4959",
          "-77.5704",
          "-77.4952",
          "-77.368",
          "-77.4084",
          "-77.6266",
          "-77.4788",
          "-77.5646",
          "-77.5854",
          "-77.4615",
          "-77.6463",
          "-77.4932",
          "-77.4932",
          "-77.4161",
          "-77.4932",
          "-77.3329",
          "-77.4161",
          "-77.4932",
          "-77.4932",
          "-77.5283",
          "-77.4932",
          "-77.4932",
          "-77.4932",
          "-77.4932",
          "-77.4932",
          "-77.4932",
          "-77.4932",
          "-77.4604",
          "-77.4932",
          "-77.4932",
          "-77.4684",
          "-77.4932",
          "-77.4512",
          "-77.4932",
          "-77.4932",
          "-77.4161",
          "-77.4161",
          "-77.4932",
          "-77.4932",
          "-77.4932",
          "-77.4932",
          "-77.5451",
          "-77.4621",
          "-77.5613",
          "-77.4316",
          "-122.8763",
          "-123.0552",
          "-122.7024",
          "-122.9762",
          "-122.87",
          "-122.7024",
          "-122.7024",
          "-123.0212",
          "-122.743",
          "-122.7794",
          "-122.7024",
          "-122.7024",
          "-81.6306",
          "-81.5841",
          "-81.6859",
          "-81.5903",
          "-81.6123",
          "-81.5274",
          "-81.7568",
          "-81.5993",
          "-81.6747",
          "-81.7582",
          "-81.669",
          "-81.5536",
          "-81.6138",
          "-81.6334",
          "-81.5547",
          "-81.5604",
          "-81.5547",
          "-81.5547",
          "-81.5547",
          "-81.5547",
          "-81.5547",
          "-81.5547",
          "-81.5547",
          "-81.5547",
          "-81.5547",
          "-81.5547",
          "-81.5547",
          "-81.5547",
          "-81.5547",
          "-81.5547",
          "-81.5547",
          "-81.5547",
          "-81.5547",
          "-81.5547",
          "-81.5547",
          "-81.5547",
          "-81.5547",
          "-81.5547",
          "-81.5547",
          "-81.5547",
          "-81.5547",
          "-81.5547",
          "-81.5547",
          "-81.5547",
          "-81.6394",
          "-81.5547",
          "-81.5547",
          "-89.4239",
          "-89.4239",
          "-89.3831",
          "-89.3523",
          "-89.4528",
          "-89.4094",
          "-89.4239",
          "-89.4239",
          "-89.4239",
          "-89.4239",
          "-89.4526",
          "-89.3971",
          "-89.3118",
          "-89.4",
          "-89.3133",
          "-89.508",
          "-89.2734",
          "-89.4993",
          "-89.4239",
          "-89.4239",
          "-89.4239",
          "-89.374",
          "-89.4239",
          "-89.4239",
          "-89.3242",
          "-89.4239",
          "-89.4239",
          "-89.2852",
          "-89.3384",
          "-89.4239",
          "-89.4239",
          "-89.4239",
          "-89.3763",
          "-89.4239",
          "-89.4239",
          "-89.4239",
          "-89.4239",
          "-89.4239",
          "-89.4239",
          "-104.7962",
          "-104.6664",
          "-104.6612",
          "-104.6664",
          "-104.8107",
          "-104.6664",
          "-104.8023",
          "-104.6664"
         ],
         "marker": {
          "color": "#636efa",
          "symbol": "circle"
         },
         "mode": "markers",
         "name": "",
         "showlegend": false,
         "type": "scattergeo"
        }
       ],
       "layout": {
        "geo": {
         "center": {},
         "domain": {
          "x": [
           0,
           1
          ],
          "y": [
           0,
           1
          ]
         },
         "scope": "usa"
        },
        "legend": {
         "tracegroupgap": 0
        },
        "margin": {
         "t": 60
        },
        "template": {
         "data": {
          "bar": [
           {
            "error_x": {
             "color": "#2a3f5f"
            },
            "error_y": {
             "color": "#2a3f5f"
            },
            "marker": {
             "line": {
              "color": "#E5ECF6",
              "width": 0.5
             },
             "pattern": {
              "fillmode": "overlay",
              "size": 10,
              "solidity": 0.2
             }
            },
            "type": "bar"
           }
          ],
          "barpolar": [
           {
            "marker": {
             "line": {
              "color": "#E5ECF6",
              "width": 0.5
             },
             "pattern": {
              "fillmode": "overlay",
              "size": 10,
              "solidity": 0.2
             }
            },
            "type": "barpolar"
           }
          ],
          "carpet": [
           {
            "aaxis": {
             "endlinecolor": "#2a3f5f",
             "gridcolor": "white",
             "linecolor": "white",
             "minorgridcolor": "white",
             "startlinecolor": "#2a3f5f"
            },
            "baxis": {
             "endlinecolor": "#2a3f5f",
             "gridcolor": "white",
             "linecolor": "white",
             "minorgridcolor": "white",
             "startlinecolor": "#2a3f5f"
            },
            "type": "carpet"
           }
          ],
          "choropleth": [
           {
            "colorbar": {
             "outlinewidth": 0,
             "ticks": ""
            },
            "type": "choropleth"
           }
          ],
          "contour": [
           {
            "colorbar": {
             "outlinewidth": 0,
             "ticks": ""
            },
            "colorscale": [
             [
              0,
              "#0d0887"
             ],
             [
              0.1111111111111111,
              "#46039f"
             ],
             [
              0.2222222222222222,
              "#7201a8"
             ],
             [
              0.3333333333333333,
              "#9c179e"
             ],
             [
              0.4444444444444444,
              "#bd3786"
             ],
             [
              0.5555555555555556,
              "#d8576b"
             ],
             [
              0.6666666666666666,
              "#ed7953"
             ],
             [
              0.7777777777777778,
              "#fb9f3a"
             ],
             [
              0.8888888888888888,
              "#fdca26"
             ],
             [
              1,
              "#f0f921"
             ]
            ],
            "type": "contour"
           }
          ],
          "contourcarpet": [
           {
            "colorbar": {
             "outlinewidth": 0,
             "ticks": ""
            },
            "type": "contourcarpet"
           }
          ],
          "heatmap": [
           {
            "colorbar": {
             "outlinewidth": 0,
             "ticks": ""
            },
            "colorscale": [
             [
              0,
              "#0d0887"
             ],
             [
              0.1111111111111111,
              "#46039f"
             ],
             [
              0.2222222222222222,
              "#7201a8"
             ],
             [
              0.3333333333333333,
              "#9c179e"
             ],
             [
              0.4444444444444444,
              "#bd3786"
             ],
             [
              0.5555555555555556,
              "#d8576b"
             ],
             [
              0.6666666666666666,
              "#ed7953"
             ],
             [
              0.7777777777777778,
              "#fb9f3a"
             ],
             [
              0.8888888888888888,
              "#fdca26"
             ],
             [
              1,
              "#f0f921"
             ]
            ],
            "type": "heatmap"
           }
          ],
          "heatmapgl": [
           {
            "colorbar": {
             "outlinewidth": 0,
             "ticks": ""
            },
            "colorscale": [
             [
              0,
              "#0d0887"
             ],
             [
              0.1111111111111111,
              "#46039f"
             ],
             [
              0.2222222222222222,
              "#7201a8"
             ],
             [
              0.3333333333333333,
              "#9c179e"
             ],
             [
              0.4444444444444444,
              "#bd3786"
             ],
             [
              0.5555555555555556,
              "#d8576b"
             ],
             [
              0.6666666666666666,
              "#ed7953"
             ],
             [
              0.7777777777777778,
              "#fb9f3a"
             ],
             [
              0.8888888888888888,
              "#fdca26"
             ],
             [
              1,
              "#f0f921"
             ]
            ],
            "type": "heatmapgl"
           }
          ],
          "histogram": [
           {
            "marker": {
             "pattern": {
              "fillmode": "overlay",
              "size": 10,
              "solidity": 0.2
             }
            },
            "type": "histogram"
           }
          ],
          "histogram2d": [
           {
            "colorbar": {
             "outlinewidth": 0,
             "ticks": ""
            },
            "colorscale": [
             [
              0,
              "#0d0887"
             ],
             [
              0.1111111111111111,
              "#46039f"
             ],
             [
              0.2222222222222222,
              "#7201a8"
             ],
             [
              0.3333333333333333,
              "#9c179e"
             ],
             [
              0.4444444444444444,
              "#bd3786"
             ],
             [
              0.5555555555555556,
              "#d8576b"
             ],
             [
              0.6666666666666666,
              "#ed7953"
             ],
             [
              0.7777777777777778,
              "#fb9f3a"
             ],
             [
              0.8888888888888888,
              "#fdca26"
             ],
             [
              1,
              "#f0f921"
             ]
            ],
            "type": "histogram2d"
           }
          ],
          "histogram2dcontour": [
           {
            "colorbar": {
             "outlinewidth": 0,
             "ticks": ""
            },
            "colorscale": [
             [
              0,
              "#0d0887"
             ],
             [
              0.1111111111111111,
              "#46039f"
             ],
             [
              0.2222222222222222,
              "#7201a8"
             ],
             [
              0.3333333333333333,
              "#9c179e"
             ],
             [
              0.4444444444444444,
              "#bd3786"
             ],
             [
              0.5555555555555556,
              "#d8576b"
             ],
             [
              0.6666666666666666,
              "#ed7953"
             ],
             [
              0.7777777777777778,
              "#fb9f3a"
             ],
             [
              0.8888888888888888,
              "#fdca26"
             ],
             [
              1,
              "#f0f921"
             ]
            ],
            "type": "histogram2dcontour"
           }
          ],
          "mesh3d": [
           {
            "colorbar": {
             "outlinewidth": 0,
             "ticks": ""
            },
            "type": "mesh3d"
           }
          ],
          "parcoords": [
           {
            "line": {
             "colorbar": {
              "outlinewidth": 0,
              "ticks": ""
             }
            },
            "type": "parcoords"
           }
          ],
          "pie": [
           {
            "automargin": true,
            "type": "pie"
           }
          ],
          "scatter": [
           {
            "fillpattern": {
             "fillmode": "overlay",
             "size": 10,
             "solidity": 0.2
            },
            "type": "scatter"
           }
          ],
          "scatter3d": [
           {
            "line": {
             "colorbar": {
              "outlinewidth": 0,
              "ticks": ""
             }
            },
            "marker": {
             "colorbar": {
              "outlinewidth": 0,
              "ticks": ""
             }
            },
            "type": "scatter3d"
           }
          ],
          "scattercarpet": [
           {
            "marker": {
             "colorbar": {
              "outlinewidth": 0,
              "ticks": ""
             }
            },
            "type": "scattercarpet"
           }
          ],
          "scattergeo": [
           {
            "marker": {
             "colorbar": {
              "outlinewidth": 0,
              "ticks": ""
             }
            },
            "type": "scattergeo"
           }
          ],
          "scattergl": [
           {
            "marker": {
             "colorbar": {
              "outlinewidth": 0,
              "ticks": ""
             }
            },
            "type": "scattergl"
           }
          ],
          "scattermapbox": [
           {
            "marker": {
             "colorbar": {
              "outlinewidth": 0,
              "ticks": ""
             }
            },
            "type": "scattermapbox"
           }
          ],
          "scatterpolar": [
           {
            "marker": {
             "colorbar": {
              "outlinewidth": 0,
              "ticks": ""
             }
            },
            "type": "scatterpolar"
           }
          ],
          "scatterpolargl": [
           {
            "marker": {
             "colorbar": {
              "outlinewidth": 0,
              "ticks": ""
             }
            },
            "type": "scatterpolargl"
           }
          ],
          "scatterternary": [
           {
            "marker": {
             "colorbar": {
              "outlinewidth": 0,
              "ticks": ""
             }
            },
            "type": "scatterternary"
           }
          ],
          "surface": [
           {
            "colorbar": {
             "outlinewidth": 0,
             "ticks": ""
            },
            "colorscale": [
             [
              0,
              "#0d0887"
             ],
             [
              0.1111111111111111,
              "#46039f"
             ],
             [
              0.2222222222222222,
              "#7201a8"
             ],
             [
              0.3333333333333333,
              "#9c179e"
             ],
             [
              0.4444444444444444,
              "#bd3786"
             ],
             [
              0.5555555555555556,
              "#d8576b"
             ],
             [
              0.6666666666666666,
              "#ed7953"
             ],
             [
              0.7777777777777778,
              "#fb9f3a"
             ],
             [
              0.8888888888888888,
              "#fdca26"
             ],
             [
              1,
              "#f0f921"
             ]
            ],
            "type": "surface"
           }
          ],
          "table": [
           {
            "cells": {
             "fill": {
              "color": "#EBF0F8"
             },
             "line": {
              "color": "white"
             }
            },
            "header": {
             "fill": {
              "color": "#C8D4E3"
             },
             "line": {
              "color": "white"
             }
            },
            "type": "table"
           }
          ]
         },
         "layout": {
          "annotationdefaults": {
           "arrowcolor": "#2a3f5f",
           "arrowhead": 0,
           "arrowwidth": 1
          },
          "autotypenumbers": "strict",
          "coloraxis": {
           "colorbar": {
            "outlinewidth": 0,
            "ticks": ""
           }
          },
          "colorscale": {
           "diverging": [
            [
             0,
             "#8e0152"
            ],
            [
             0.1,
             "#c51b7d"
            ],
            [
             0.2,
             "#de77ae"
            ],
            [
             0.3,
             "#f1b6da"
            ],
            [
             0.4,
             "#fde0ef"
            ],
            [
             0.5,
             "#f7f7f7"
            ],
            [
             0.6,
             "#e6f5d0"
            ],
            [
             0.7,
             "#b8e186"
            ],
            [
             0.8,
             "#7fbc41"
            ],
            [
             0.9,
             "#4d9221"
            ],
            [
             1,
             "#276419"
            ]
           ],
           "sequential": [
            [
             0,
             "#0d0887"
            ],
            [
             0.1111111111111111,
             "#46039f"
            ],
            [
             0.2222222222222222,
             "#7201a8"
            ],
            [
             0.3333333333333333,
             "#9c179e"
            ],
            [
             0.4444444444444444,
             "#bd3786"
            ],
            [
             0.5555555555555556,
             "#d8576b"
            ],
            [
             0.6666666666666666,
             "#ed7953"
            ],
            [
             0.7777777777777778,
             "#fb9f3a"
            ],
            [
             0.8888888888888888,
             "#fdca26"
            ],
            [
             1,
             "#f0f921"
            ]
           ],
           "sequentialminus": [
            [
             0,
             "#0d0887"
            ],
            [
             0.1111111111111111,
             "#46039f"
            ],
            [
             0.2222222222222222,
             "#7201a8"
            ],
            [
             0.3333333333333333,
             "#9c179e"
            ],
            [
             0.4444444444444444,
             "#bd3786"
            ],
            [
             0.5555555555555556,
             "#d8576b"
            ],
            [
             0.6666666666666666,
             "#ed7953"
            ],
            [
             0.7777777777777778,
             "#fb9f3a"
            ],
            [
             0.8888888888888888,
             "#fdca26"
            ],
            [
             1,
             "#f0f921"
            ]
           ]
          },
          "colorway": [
           "#636efa",
           "#EF553B",
           "#00cc96",
           "#ab63fa",
           "#FFA15A",
           "#19d3f3",
           "#FF6692",
           "#B6E880",
           "#FF97FF",
           "#FECB52"
          ],
          "font": {
           "color": "#2a3f5f"
          },
          "geo": {
           "bgcolor": "white",
           "lakecolor": "white",
           "landcolor": "#E5ECF6",
           "showlakes": true,
           "showland": true,
           "subunitcolor": "white"
          },
          "hoverlabel": {
           "align": "left"
          },
          "hovermode": "closest",
          "mapbox": {
           "style": "light"
          },
          "paper_bgcolor": "white",
          "plot_bgcolor": "#E5ECF6",
          "polar": {
           "angularaxis": {
            "gridcolor": "white",
            "linecolor": "white",
            "ticks": ""
           },
           "bgcolor": "#E5ECF6",
           "radialaxis": {
            "gridcolor": "white",
            "linecolor": "white",
            "ticks": ""
           }
          },
          "scene": {
           "xaxis": {
            "backgroundcolor": "#E5ECF6",
            "gridcolor": "white",
            "gridwidth": 2,
            "linecolor": "white",
            "showbackground": true,
            "ticks": "",
            "zerolinecolor": "white"
           },
           "yaxis": {
            "backgroundcolor": "#E5ECF6",
            "gridcolor": "white",
            "gridwidth": 2,
            "linecolor": "white",
            "showbackground": true,
            "ticks": "",
            "zerolinecolor": "white"
           },
           "zaxis": {
            "backgroundcolor": "#E5ECF6",
            "gridcolor": "white",
            "gridwidth": 2,
            "linecolor": "white",
            "showbackground": true,
            "ticks": "",
            "zerolinecolor": "white"
           }
          },
          "shapedefaults": {
           "line": {
            "color": "#2a3f5f"
           }
          },
          "ternary": {
           "aaxis": {
            "gridcolor": "white",
            "linecolor": "white",
            "ticks": ""
           },
           "baxis": {
            "gridcolor": "white",
            "linecolor": "white",
            "ticks": ""
           },
           "bgcolor": "#E5ECF6",
           "caxis": {
            "gridcolor": "white",
            "linecolor": "white",
            "ticks": ""
           }
          },
          "title": {
           "x": 0.05
          },
          "xaxis": {
           "automargin": true,
           "gridcolor": "white",
           "linecolor": "white",
           "ticks": "",
           "title": {
            "standoff": 15
           },
           "zerolinecolor": "white",
           "zerolinewidth": 2
          },
          "yaxis": {
           "automargin": true,
           "gridcolor": "white",
           "linecolor": "white",
           "ticks": "",
           "title": {
            "standoff": 15
           },
           "zerolinecolor": "white",
           "zerolinewidth": 2
          }
         }
        }
       }
      }
     },
     "metadata": {},
     "output_type": "display_data"
    }
   ],
   "source": [
    "#si-exercise\n",
    "import pandas as pd\n",
    "import json\n",
    "import plotly.express as px\n",
    "import requests\n",
    "\n",
    "capitals = pd.DataFrame([[\"Alabama\",\"Montgomery\",\"AL\"],\n",
    "[\"Alaska\",\"Juneau\",\"AK\"],\n",
    "[\"Arizona\",\"Phoenix\",\"AZ\"],\n",
    "[\"Arkansas\",\"Little Rock\",\"AR\"],\n",
    "[\"California\",\"Sacramento\",\"CA\"],\n",
    "[\"Colorado\",\"Denver\",\"CO\"],\n",
    "[\"Connecticut\",\"Hartford\",\"CT\"],\n",
    "[\"Delaware\",\"Dover\",\"DE\"],\n",
    "[\"Florida\",\"Tallahassee\",\"FL\"],\n",
    "[\"Georgia\",\"Atlanta\",\"GA\"],\n",
    "[\"Hawaii\",\"Honolulu\",\"HI\"],\n",
    "[\"Idaho\",\"Boise\",\"ID\"],\n",
    "[\"Illinois\",\"Springfield\",\"IL\"],\n",
    "[\"Indiana\",\"Indianapolis\",\"IN\"],\n",
    "[\"Iowa\",\"Des Moines\",\"IA\"],\n",
    "[\"Kansas\",\"Topeka\",\"KS\"],\n",
    "[\"Kentucky\",\"Frankfort\",\"KY\"],\n",
    "[\"Louisiana\",\"Baton Rouge\",\"LA\"],\n",
    "[\"Maine\",\"Augusta\",\"ME\"],\n",
    "[\"Maryland\",\"Annapolis\",\"MD\"],\n",
    "[\"Massachusetts\",\"Boston\",\"MA\"],\n",
    "[\"Michigan\",\"Lansing\",\"MI\"],\n",
    "[\"Minnesota\",\"Saint Paul\",\"MN\"],\n",
    "[\"Mississippi\",\"Jackson\",\"MS\"],\n",
    "[\"Missouri\",\"Jefferson City\",\"MO\"],\n",
    "[\"Montana\",\"Helena\",\"MT\"],\n",
    "[\"Nebraska\",\"Lincoln\",\"NE\"],\n",
    "[\"Nevada\",\"Carson City\",\"NV\"],\n",
    "[\"New Hampshire\",\"Concord\",\"NH\"],\n",
    "[\"New Jersey\",\"Trenton\",\"NJ\"],\n",
    "[\"New Mexico\",\"Santa Fe\",\"NM\"],\n",
    "[\"New York\",\"Albany\",\"NY\"],\n",
    "[\"North Carolina\",\"Raleigh\",\"NC\"],\n",
    "[\"North Dakota\",\"Bismarck\",\"ND\"],\n",
    "[\"Ohio\",\"Columbus\",\"OH\"],\n",
    "[\"Oklahoma\",\"Oklahoma City\",\"OK\"],\n",
    "[\"Oregon\",\"Salem\",\"OR\"],\n",
    "[\"Pennsylvania\",\"Harrisburg\",\"PA\"],\n",
    "[\"Rhode Island\",\"Providence\",\"RI\"],\n",
    "[\"South Carolina\",\"Columbia\",\"SC\"],\n",
    "[\"South Dakota\",\"Pierre\",\"SD\"],\n",
    "[\"Tennessee\",\"Nashville\",\"TN\"],\n",
    "[\"Texas\",\"Austin\",\"TX\"],\n",
    "[\"Utah\",\"Salt Lake City\",\"UT\"],\n",
    "[\"Vermont\",\"Montpelier\",\"VT\"],\n",
    "[\"Virginia\",\"Richmond\",\"VA\"],\n",
    "[\"Washington\",\"Olympia\",\"WA\"],\n",
    "[\"West Virginia\",\"Charleston\",\"WV\"],\n",
    "[\"Wisconsin\",\"Madison\",\"WI\"],\n",
    "[\"Wyoming\",\"Cheyenne\",\"WY\"]], columns = ['state', 'capital', 'abbrev'])\n",
    "\n",
    "\n",
    "data = []\n",
    "\n",
    "for i in capitals.index:\n",
    "    state_abbrev = capitals.loc[i, 'abbrev']\n",
    "    city = capitals.loc[i, 'capital']\n",
    "    \n",
    "\n",
    "    url = f\"http://api.zippopotam.us/us/{state_abbrev}/{city}\"\n",
    "    \n",
    "    try:\n",
    "        response = requests.get(url).json()  # Attempt to get and parse JSON\n",
    "        temp = pd.DataFrame(response[\"places\"])  # Convert 'places' list to DataFrame\n",
    "        temp[\"capital\"] = city\n",
    "        temp[\"state\"] = capitals.loc[i, \"state\"]\n",
    "        data.append(temp)\n",
    "    except:\n",
    "        print(f\"Skipping {city}, {state_abbrev} (not found or API issue)\")\n",
    "\n",
    "# Combine results into dataframe\n",
    "data = pd.concat(data, axis=0).reset_index(drop=True)\n",
    "\n",
    "# extract relevant columns and rename\n",
    "data = data[['capital', 'state', 'latitude', 'longitude']]\n",
    "data.rename(columns={'latitude': 'lat', 'longitude': 'lon'}, inplace=True)\n",
    "\n",
    "# Merge with original dataframe\n",
    "capitals = capitals.merge(data, on=['capital', 'state'], how='left')\n",
    "\n",
    "\n",
    "\n",
    "fig = px.scatter_geo(capitals, lat='lat', lon='lon', hover_data=['state', 'capital'], scope=\"usa\")\n",
    "fig.show()"
   ]
  }
 ],
 "metadata": {
  "kernelspec": {
   "display_name": "Python 3 (ipykernel)",
   "language": "python",
   "name": "python3"
  },
  "language_info": {
   "codemirror_mode": {
    "name": "ipython",
    "version": 3
   },
   "file_extension": ".py",
   "mimetype": "text/x-python",
   "name": "python",
   "nbconvert_exporter": "python",
   "pygments_lexer": "ipython3",
   "version": "3.9.13"
  }
 },
 "nbformat": 4,
 "nbformat_minor": 5
}
